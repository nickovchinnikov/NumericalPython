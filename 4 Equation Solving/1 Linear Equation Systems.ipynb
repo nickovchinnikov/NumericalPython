{
 "cells": [
  {
   "cell_type": "markdown",
   "id": "4857d029-edc5-407f-9c0c-925733ed78f3",
   "metadata": {},
   "source": [
    "# Importing Modules"
   ]
  },
  {
   "cell_type": "markdown",
   "id": "c48a1351-4fcb-4687-b9c5-b93e21d0329a",
   "metadata": {},
   "source": [
    "> scipy.linalg module, for solving\n",
    "linear systems of equations, and the scipy.optimize module, for solving nonlinear\n",
    "equations"
   ]
  },
  {
   "cell_type": "code",
   "execution_count": 1,
   "id": "5af17306-0191-4a4f-9ee6-a0b07b52cbf4",
   "metadata": {},
   "outputs": [],
   "source": [
    "from scipy import linalg as la\n",
    "from scipy import optimize"
   ]
  },
  {
   "cell_type": "markdown",
   "id": "da5195f4-a385-4db8-a32f-bc7a8e48875b",
   "metadata": {},
   "source": [
    "### Sympy, Numpy, Matplotlib"
   ]
  },
  {
   "cell_type": "code",
   "execution_count": 26,
   "id": "ed24e54f-5e0f-49a8-b256-33edab2e2035",
   "metadata": {
    "tags": []
   },
   "outputs": [],
   "source": [
    "import sympy\n",
    "sympy.init_printing()\n",
    "\n",
    "import numpy as np\n",
    "\n",
    "%matplotlib inline\n",
    "import matplotlib.pyplot as plt\n",
    "import matplotlib as mpl\n",
    "\n",
    "from mpl_toolkits.mplot3d.axes3d import Axes3D"
   ]
  },
  {
   "cell_type": "markdown",
   "id": "046216cc-640b-4f91-9a04-9a623b4b0c45",
   "metadata": {},
   "source": [
    "### Define base colors"
   ]
  },
  {
   "cell_type": "code",
   "execution_count": 30,
   "id": "f7bd11a1-b3b7-4cb7-856b-db202c708aef",
   "metadata": {},
   "outputs": [],
   "source": [
    "base_colors = list(mpl.colors.CSS4_COLORS)\n",
    "\n",
    "# exclude white\n",
    "base_colors_len = len(base_colors) - 1"
   ]
  },
  {
   "cell_type": "markdown",
   "id": "a7a9b43e-f0a9-41e2-aac3-3fa3dbff3e7e",
   "metadata": {},
   "source": [
    "## Linear Equation Systems"
   ]
  },
  {
   "cell_type": "markdown",
   "id": "d1ee0168-f8aa-4c2f-90ee-9c8e7f34f181",
   "metadata": {},
   "source": [
    "> In general, a linear equation system can be written on the form"
   ]
  },
  {
   "cell_type": "markdown",
   "id": "a6f66e74-f4d7-4d98-b265-2074e9af5fda",
   "metadata": {},
   "source": [
    "$$\n",
    "\\begin{matrix}\n",
    "  a_{11}x_1 + a_{12}x_2 + \\dots + a_{1n}x_n = b_1 \\\\\n",
    "  a_{21}x_1 + a_{22}x_2 + \\dots + a_{2n}x_n = b_2 \\\\\n",
    "  \\cdots \\\\\n",
    "  a_{m1}x_1 + a_{m2}x_2 + \\dots + a_{mn}x_n = b_m\n",
    " \\end{matrix}\n",
    "$$"
   ]
  },
  {
   "cell_type": "markdown",
   "id": "0d06b5d8-cb34-4f6a-939a-eb626aa4c711",
   "metadata": {},
   "source": [
    "> it is convenient to write the equations in matrix form"
   ]
  },
  {
   "cell_type": "markdown",
   "id": "a6b39a21-8404-4835-9e36-b2ec88d264af",
   "metadata": {},
   "source": [
    "$$\n",
    "\\begin{bmatrix}\n",
    "  a_{11} & a_{12} & \\dots & a_{1n} \\\\\n",
    "  a_{21} & a_{22} & \\dots & a_{2n} \\\\\n",
    "  \\vdots & \\ddots & \\dots & \\vdots \\\\\n",
    "  a_{m1} & a_{m2} & \\dots & a_{mn}\n",
    "\\end{bmatrix}\n",
    "\\begin{bmatrix}\n",
    "  x_{1} \\\\\n",
    "  x_{2} \\\\\n",
    "  \\vdots \\\\\n",
    "  x_{m}\n",
    "\\end{bmatrix}\n",
    " =\n",
    "\\begin{bmatrix}\n",
    "  b_{1} \\\\\n",
    "  b_{2} \\\\\n",
    "  \\vdots \\\\\n",
    "  b_{m}\n",
    "\\end{bmatrix}\n",
    "$$"
   ]
  },
  {
   "cell_type": "markdown",
   "id": "5563f0d2-b409-4ee1-bd50-dd0d29d81569",
   "metadata": {},
   "source": [
    "> A system for which n < m is said to be underdetermined, because it has fewer\n",
    "equations than unknown and therefore cannot completely determine a unique solution.\n",
    "If, on the other hand, m > n, then the equations are said to be overdetermined. This will\n",
    "in general lead to conflicting constraints, resulting in that a solution does not exist"
   ]
  },
  {
   "cell_type": "markdown",
   "id": "4339f642-ea33-4259-8661-e925211e849f",
   "metadata": {},
   "source": [
    "## Square Systems"
   ]
  },
  {
   "cell_type": "markdown",
   "id": "f0ddb891-b71b-4cd9-af52-5622414fc298",
   "metadata": {},
   "source": [
    "> gular or not and therefore whether there exists a solution or not.\n",
    "When A has full rank, the solution is guaranteed to exist. However, it may or may\n",
    "not be possible to accurately compute the solution. The condition number of the matrix,\n",
    "cond(A), gives a measure of how well or poorly conditioned a linear equation system\n",
    "is. If the conditioning number is close to 1, if the system is said to be well conditioned (a\n",
    "condition number 1 is ideal), and if the condition number is large, the system is said to\n",
    "be ill-conditioned. The solution to an equation system that is ill-conditioned can have\n",
    "large errors. An intuitive interpretation of the condition number can be obtained from a\n",
    "simple error analysis. Assume that we have a linear equation system on the form Ax = b,\n",
    "where x is the solution vector. Now consider a small variation of b, say δb, which gives a\n",
    "corresponding change in the solution, δx, given by A(x+δx) = b+δb. Because of linearity\n",
    "of the equation, we have Aδx = δb. An important question to consider now is: how large\n",
    "is the relative change in x compared to the relative change in b? Mathematically we can\n",
    "formulate this question in terms of the ratios of the norms of these vectors. Specifically,\n",
    "we are interested in comparing ‖δx‖/‖x‖ and ‖δb‖/‖b‖, where ‖x‖ denotes the norm of\n",
    "x. Using the matrix norm relation ‖Ax‖ ≤ ‖A‖ ∙ ‖x‖, we can write"
   ]
  },
  {
   "attachments": {
    "222a3c2a-b0b5-4233-8343-e53f1fbb2c2f.png": {
     "image/png": "[encoded data removed]"
    }
   },
   "cell_type": "markdown",
   "id": "512e0e98-fc09-4c9e-83a3-ad6f194cc232",
   "metadata": {},
   "source": [
    "![image.png](attachment:222a3c2a-b0b5-4233-8343-e53f1fbb2c2f.png)"
   ]
  },
  {
   "cell_type": "markdown",
   "id": "7d379bb6-0ca3-4b05-8458-3390df1bbe44",
   "metadata": {},
   "source": [
    "> A bound of the relative error in the solution x, given a relative error in the b vector, is\n",
    "therefore given by cond(A) ≡ ‖A−1‖ ∙ ‖A‖, which by definition is the condition number\n",
    "of the matrix A"
   ]
  },
  {
   "cell_type": "markdown",
   "id": "9c47ca58-8cff-4d93-b976-ff22e7780232",
   "metadata": {},
   "source": [
    "The rank, condition number, and norm of a symbolic matrix can be computed in\n",
    "SymPy using the Matrix methods rank, condition_number, and norm, and for numerical\n",
    "problems, we can use the NumPy functions np.linalg.matrix_rank, np.linalg.\n",
    "cond, and np.linalg.norm. For example, consider the following system of two linear\n",
    "equations"
   ]
  },
  {
   "cell_type": "code",
   "execution_count": 6,
   "id": "f20ad5f1-8c09-4039-b252-3d1d28c37653",
   "metadata": {},
   "outputs": [
    {
     "data": {
      "image/png": "[encoded data removed]",
      "text/latex": [
       "$\\displaystyle \\left( 2 x_{1} + 3 x_{2} - 4, \\  5 x_{1} + 4 x_{2} - 3\\right)$"
      ],
      "text/plain": [
       "(2⋅x₁ + 3⋅x₂ - 4, 5⋅x₁ + 4⋅x₂ - 3)"
      ]
     },
     "execution_count": 6,
     "metadata": {},
     "output_type": "execute_result"
    }
   ],
   "source": [
    "x_1, x_2 = sympy.symbols('x_1, x_2')\n",
    "\n",
    "eq1 = 2 * x_1 + 3 * x_2 - 4\n",
    "eq2 = 5 * x_1 + 4 * x_2 - 3\n",
    "\n",
    "eq1, eq2"
   ]
  },
  {
   "cell_type": "markdown",
   "id": "13cfe4d4-fd8f-40e6-b6b1-ba9d487abd1b",
   "metadata": {},
   "source": [
    "### Graphical visualisation of solution"
   ]
  },
  {
   "cell_type": "code",
   "execution_count": 32,
   "id": "19890d28-c371-4c12-b9e3-7149640131b7",
   "metadata": {},
   "outputs": [
    {
     "data": {
      "text/plain": [
       "<matplotlib.legend.Legend at 0x7f557b403df0>"
      ]
     },
     "execution_count": 32,
     "metadata": {},
     "output_type": "execute_result"
    },
    {
     "data": {
      "image/png": "[encoded data removed]",
      "text/plain": [
       "<Figure size 720x360 with 1 Axes>"
      ]
     },
     "metadata": {
      "needs_background": "light"
     },
     "output_type": "display_data"
    }
   ],
   "source": [
    "# Graphical solution\n",
    "\n",
    "x = np.arange(-4, 2, 1)\n",
    "x2 = np.arange(-2, 6, 1)\n",
    "\n",
    "y1 = (4 - 2*x) / 3\n",
    "y2 = (3 - 5*x) / 4\n",
    "\n",
    "fig, ax = plt.subplots(figsize=(10, 5))\n",
    "\n",
    "ax.set_xlabel(\"${x_1}$\")\n",
    "ax.set_ylabel(\"${x_2}$\")\n",
    "\n",
    "ax.plot(x, y2, 'r', label=\"$2{x_1}+3{x_2}-4=0$\")\n",
    "ax.plot(x, y1, 'b', label=\"$5{x_1}+4{x_2}-3=0$\")\n",
    "\n",
    "ax.plot(-1, 2, 'black', lw=5, marker='o')\n",
    "\n",
    "ax.annotate(\"The intersection point\\nof the two lines is the solution\\nto the system of equations\", fontsize=14, family=\"serif\", xy=(-1, 2),\n",
    "    xycoords=\"data\", xytext=(-150, -80),\n",
    "    textcoords=\"offset points\", arrowprops=dict(arrowstyle=\"->\", connectionstyle=\"arc3, rad=-.5\"))\n",
    "\n",
    "ax.set_xticks(x)\n",
    "ax.set_yticks(x2)\n",
    "\n",
    "ax.legend()"
   ]
  },
  {
   "cell_type": "markdown",
   "id": "0b0370d5-7a32-483d-9670-ed57e5511d1e",
   "metadata": {},
   "source": [
    "> We can define this problem in SymPy by creating matrix objects for A and b and\n",
    "computing the rank, condition number, and norm of the matrix A using"
   ]
  },
  {
   "cell_type": "markdown",
   "id": "111102c5-f7f2-45a8-b001-40ce5904e268",
   "metadata": {},
   "source": [
    "### Matrix $A$, $rank(A)$, $\\|A\\|$"
   ]
  },
  {
   "cell_type": "code",
   "execution_count": 49,
   "id": "d277b7e2-575d-41f2-bc80-46164bd3d335",
   "metadata": {},
   "outputs": [
    {
     "data": {
      "text/latex": [
       "$\\displaystyle \\left( \\left[\\begin{matrix}2 & 3\\\\5 & 4\\end{matrix}\\right], \\  2, \\  3 \\sqrt{6}\\right)$"
      ],
      "text/plain": [
       "⎛⎡2  3⎤         ⎞\n",
       "⎜⎢    ⎥, 2, 3⋅√6⎟\n",
       "⎝⎣5  4⎦         ⎠"
      ]
     },
     "execution_count": 49,
     "metadata": {},
     "output_type": "execute_result"
    }
   ],
   "source": [
    "A = sympy.Matrix([[2, 3], [5, 4]])\n",
    "b = sympy.Matrix([4, 3])\n",
    "\n",
    "A_rank = A.rank()\n",
    "A_norm = A.norm()\n",
    "\n",
    "A, A_rank, A_norm"
   ]
  },
  {
   "cell_type": "markdown",
   "id": "3aa0cfc5-1c4e-4f09-9f6f-56ac9a294483",
   "metadata": {},
   "source": [
    "### Matrix $A^{-1}$, $rank(A^{-1}) \\equiv rank(A)$, $\\|A^{-1}\\|$"
   ]
  },
  {
   "cell_type": "code",
   "execution_count": 50,
   "id": "b98dc2d9-9fd4-46b5-a7d4-e7077b1fe781",
   "metadata": {},
   "outputs": [
    {
     "data": {
      "text/latex": [
       "$\\displaystyle \\left( \\left[\\begin{matrix}- \\frac{4}{7} & \\frac{3}{7}\\\\\\frac{5}{7} & - \\frac{2}{7}\\end{matrix}\\right], \\  2, \\  \\frac{3 \\sqrt{6}}{7}\\right)$"
      ],
      "text/plain": [
       "⎛⎡-4/7  3/7 ⎤     3⋅√6⎞\n",
       "⎜⎢          ⎥, 2, ────⎟\n",
       "⎝⎣5/7   -2/7⎦      7  ⎠"
      ]
     },
     "execution_count": 50,
     "metadata": {},
     "output_type": "execute_result"
    }
   ],
   "source": [
    "A_inv = A.inv()\n",
    "A_inv_rank = A_inv.rank()\n",
    "A_inv_norm = A_inv.norm()\n",
    "\n",
    "A_inv, A_inv_rank, A_inv_norm"
   ]
  },
  {
   "cell_type": "markdown",
   "id": "ae03f155-838e-4e47-b967-4ba150db0bab",
   "metadata": {},
   "source": [
    "### Numpy $cond(A)$"
   ]
  },
  {
   "cell_type": "code",
   "execution_count": 51,
   "id": "9c27e656-c887-4bed-875b-158139ba63ea",
   "metadata": {},
   "outputs": [
    {
     "data": {
      "image/png": "[encoded data removed]",
      "text/latex": [
       "$\\displaystyle \\frac{\\sqrt{2 \\sqrt{170} + 27}}{\\sqrt{27 - 2 \\sqrt{170}}}$"
      ],
      "text/plain": [
       "  _____________\n",
       "╲╱ 2⋅√170 + 27 \n",
       "───────────────\n",
       "  _____________\n",
       "╲╱ 27 - 2⋅√170 "
      ]
     },
     "execution_count": 51,
     "metadata": {},
     "output_type": "execute_result"
    }
   ],
   "source": [
    "A_cond = A.condition_number()\n",
    "A_cond"
   ]
  },
  {
   "cell_type": "markdown",
   "id": "c474e315-cb2f-46a8-ad47-297b7a45f3fb",
   "metadata": {},
   "source": [
    "### Numerical evaluation of Numpy $cond(A)$"
   ]
  },
  {
   "cell_type": "code",
   "execution_count": 52,
   "id": "a4ef8bcb-8442-4d6c-bc3b-74a15c6e6d18",
   "metadata": {},
   "outputs": [
    {
     "data": {
      "image/png": "[encoded data removed]",
      "text/latex": [
       "$\\displaystyle 7.58240137440151$"
      ],
      "text/plain": [
       "7.58240137440151"
      ]
     },
     "execution_count": 52,
     "metadata": {},
     "output_type": "execute_result"
    }
   ],
   "source": [
    "sympy.N(A_cond)"
   ]
  },
  {
   "cell_type": "markdown",
   "id": "0e8a9e78-33ab-453d-b1c8-62b49a97ebf9",
   "metadata": {},
   "source": [
    "### $cond(A) \\equiv \\|A^{-1}\\|\\|A\\|$"
   ]
  },
  {
   "cell_type": "code",
   "execution_count": 53,
   "id": "188951b3-bdb3-4c07-bcc1-de5cbecf3383",
   "metadata": {},
   "outputs": [
    {
     "data": {
      "image/png": "[encoded data removed]",
      "text/latex": [
       "$\\displaystyle \\frac{54}{7}$"
      ],
      "text/plain": [
       "54/7"
      ]
     },
     "execution_count": 53,
     "metadata": {},
     "output_type": "execute_result"
    }
   ],
   "source": [
    "A_cond2 = A_inv_norm * A_norm\n",
    "A_cond2"
   ]
  },
  {
   "cell_type": "markdown",
   "id": "f1b7a933-27fb-42b7-8e28-bf6bc2ab6f8d",
   "metadata": {},
   "source": [
    "### Numerical evaluation of $\\|A^{-1}\\|\\|A\\|$"
   ]
  },
  {
   "cell_type": "code",
   "execution_count": 54,
   "id": "e8f9b649-c77a-4561-9851-52ec3d3df689",
   "metadata": {},
   "outputs": [
    {
     "data": {
      "image/png": "[encoded data removed]",
      "text/latex": [
       "$\\displaystyle 7.71428571428571$"
      ],
      "text/plain": [
       "7.71428571428571"
      ]
     },
     "execution_count": 54,
     "metadata": {},
     "output_type": "execute_result"
    }
   ],
   "source": [
    "sympy.N(A_cond2)"
   ]
  },
  {
   "cell_type": "markdown",
   "id": "62328443-a062-4e8a-b603-08f1a00961e9",
   "metadata": {},
   "source": [
    "### Very close!"
   ]
  },
  {
   "cell_type": "markdown",
   "id": "f2247213-2b5e-4399-ab0e-10325ca590ee",
   "metadata": {},
   "source": [
    "> We can do the same thing in NumPy/SciPy using NumPy arrays for A and b and\n",
    "functions from the np.linalg and scipy.linalg modules"
   ]
  },
  {
   "cell_type": "code",
   "execution_count": 55,
   "id": "776dc6a0-6c44-4075-a528-801f9cae106d",
   "metadata": {},
   "outputs": [
    {
     "data": {
      "text/plain": [
       "2"
      ]
     },
     "execution_count": 55,
     "metadata": {},
     "output_type": "execute_result"
    }
   ],
   "source": [
    "A = np.array([[2, 3], [5, 4]])\n",
    "b = np.array([4, 3])\n",
    "np.linalg.matrix_rank(A)"
   ]
  },
  {
   "cell_type": "code",
   "execution_count": 59,
   "id": "fa12df2b-9525-4bff-b877-f6d977443e85",
   "metadata": {},
   "outputs": [
    {
     "data": {
      "image/png": "[encoded data removed]",
      "text/latex": [
       "$\\displaystyle 7.58240137440151$"
      ],
      "text/plain": [
       "7.582401374401514"
      ]
     },
     "execution_count": 59,
     "metadata": {},
     "output_type": "execute_result"
    }
   ],
   "source": [
    "np.linalg.cond(A)"
   ]
  },
  {
   "cell_type": "code",
   "execution_count": 60,
   "id": "abfc9469-7901-49a9-b9a5-2054e3455ec8",
   "metadata": {},
   "outputs": [
    {
     "data": {
      "image/png": "[encoded data removed]",
      "text/latex": [
       "$\\displaystyle 7.34846922834953$"
      ],
      "text/plain": [
       "7.3484692283495345"
      ]
     },
     "execution_count": 60,
     "metadata": {},
     "output_type": "execute_result"
    }
   ],
   "source": [
    "np.linalg.norm(A)"
   ]
  },
  {
   "cell_type": "markdown",
   "id": "6d294f10-170d-4981-951d-ae807a7c8dd8",
   "metadata": {},
   "source": [
    "> A direct approach to solving the linear problem is to compute the inverse of the\n",
    "matrix A and multiply it with the vector b, as used, for example, in the previous analytical\n",
    "discussions. However, this is not the most efficient computational method to find the\n",
    "solution vector x. A better method is LU factorization of the matrix A, such that A = LU and\n",
    "where L is a lower triangular matrix and U is an upper triangular matrix. Given L and U,\n",
    "the solution vector x can be efficiently constructed by first solving Ly = b with forward\n",
    "substitution and then solving Ux = y with backward substitution. Owning to the fact that\n",
    "L and U are triangular matrices, these two procedures are computationally efficient"
   ]
  },
  {
   "cell_type": "code",
   "execution_count": 62,
   "id": "06f292e5-7a0c-4d80-ab9a-c69f785250c6",
   "metadata": {},
   "outputs": [
    {
     "data": {
      "text/latex": [
       "$\\displaystyle \\left[\\begin{matrix}1 & 0\\\\\\frac{5}{2} & 1\\end{matrix}\\right]$"
      ],
      "text/plain": [
       "⎡ 1   0⎤\n",
       "⎢      ⎥\n",
       "⎣5/2  1⎦"
      ]
     },
     "execution_count": 62,
     "metadata": {},
     "output_type": "execute_result"
    }
   ],
   "source": [
    "A = sympy.Matrix([[2, 3], [5, 4]])\n",
    "b = sympy.Matrix([4, 3])\n",
    "L, U, _ = A.LUdecomposition()\n",
    "L"
   ]
  },
  {
   "cell_type": "code",
   "execution_count": 63,
   "id": "24c759d1-dfaa-4930-8ae6-31e892c63aaf",
   "metadata": {},
   "outputs": [
    {
     "data": {
      "text/latex": [
       "$\\displaystyle \\left[\\begin{matrix}2 & 3\\\\0 & - \\frac{7}{2}\\end{matrix}\\right]$"
      ],
      "text/plain": [
       "⎡2   3  ⎤\n",
       "⎢       ⎥\n",
       "⎣0  -7/2⎦"
      ]
     },
     "execution_count": 63,
     "metadata": {},
     "output_type": "execute_result"
    }
   ],
   "source": [
    "U"
   ]
  },
  {
   "cell_type": "code",
   "execution_count": 64,
   "id": "450e04e7-41d7-47da-b985-9304740c059e",
   "metadata": {},
   "outputs": [
    {
     "data": {
      "text/latex": [
       "$\\displaystyle \\left[\\begin{matrix}2 & 3\\\\5 & 4\\end{matrix}\\right]$"
      ],
      "text/plain": [
       "⎡2  3⎤\n",
       "⎢    ⎥\n",
       "⎣5  4⎦"
      ]
     },
     "execution_count": 64,
     "metadata": {},
     "output_type": "execute_result"
    }
   ],
   "source": [
    "L * U"
   ]
  },
  {
   "cell_type": "code",
   "execution_count": 66,
   "id": "d3683f79-8809-4f13-9fd6-c98e4d97ae11",
   "metadata": {},
   "outputs": [
    {
     "data": {
      "text/latex": [
       "$\\displaystyle \\left[\\begin{matrix}-1\\\\2\\end{matrix}\\right]$"
      ],
      "text/plain": [
       "⎡-1⎤\n",
       "⎢  ⎥\n",
       "⎣2 ⎦"
      ]
     },
     "execution_count": 66,
     "metadata": {},
     "output_type": "execute_result"
    }
   ],
   "source": [
    "x = A.solve(b)\n",
    "x # equivalent to A.LUsolve(b)"
   ]
  },
  {
   "cell_type": "markdown",
   "id": "b9b500fa-639d-4528-aa25-c0ebf45f2bdc",
   "metadata": {},
   "source": [
    "> For numerical problems we can use the la.lu function form SciPy’s linear algebra module.\n",
    "It returns a permutation matrix P and the L and U matrices, such that A = PLU. Like with\n",
    "SymPy, we can solve the linear system Ax = b without explicitly calculating the L and U matrices\n",
    "by using the la.solve function, which takes the A matrix and the b vector as arguments. This\n",
    "is in general the preferred method for solving numerical linear equation systems using SciPy"
   ]
  },
  {
   "cell_type": "code",
   "execution_count": 70,
   "id": "b9d61205-6c3f-4340-b749-8c65edd02c6b",
   "metadata": {},
   "outputs": [
    {
     "data": {
      "text/plain": [
       "array([[1. , 0. ],\n",
       "       [0.4, 1. ]])"
      ]
     },
     "execution_count": 70,
     "metadata": {},
     "output_type": "execute_result"
    }
   ],
   "source": [
    "A = np.array([[2, 3], [5, 4]])\n",
    "b = np.array([4, 3])\n",
    "P, L, U = la.lu(A)\n",
    "L"
   ]
  },
  {
   "cell_type": "code",
   "execution_count": 71,
   "id": "f9e27974-6f8c-46e4-b34e-9f440cc29493",
   "metadata": {},
   "outputs": [
    {
     "data": {
      "text/plain": [
       "array([[5. , 4. ],\n",
       "       [0. , 1.4]])"
      ]
     },
     "execution_count": 71,
     "metadata": {},
     "output_type": "execute_result"
    }
   ],
   "source": [
    "U"
   ]
  },
  {
   "cell_type": "code",
   "execution_count": 72,
   "id": "e0da4361-cda3-4b24-b33a-7c7005850e46",
   "metadata": {},
   "outputs": [
    {
     "data": {
      "text/plain": [
       "array([[0., 1.],\n",
       "       [1., 0.]])"
      ]
     },
     "execution_count": 72,
     "metadata": {},
     "output_type": "execute_result"
    }
   ],
   "source": [
    "P"
   ]
  },
  {
   "cell_type": "code",
   "execution_count": 73,
   "id": "42f77555-c9d6-4d17-ba5e-7cca6d4123e3",
   "metadata": {},
   "outputs": [
    {
     "data": {
      "text/plain": [
       "array([[0.4, 1. ],\n",
       "       [1. , 0. ]])"
      ]
     },
     "execution_count": 73,
     "metadata": {},
     "output_type": "execute_result"
    }
   ],
   "source": [
    "P @ L"
   ]
  },
  {
   "cell_type": "code",
   "execution_count": 74,
   "id": "aab4c099-e035-4f24-bef4-6c59bd410642",
   "metadata": {},
   "outputs": [
    {
     "data": {
      "text/plain": [
       "array([[2., 3.],\n",
       "       [5., 4.]])"
      ]
     },
     "execution_count": 74,
     "metadata": {},
     "output_type": "execute_result"
    }
   ],
   "source": [
    "P @ L @ U"
   ]
  },
  {
   "cell_type": "code",
   "execution_count": 75,
   "id": "dad365b3-c22a-49c9-8672-237e80b7bd8d",
   "metadata": {},
   "outputs": [
    {
     "data": {
      "text/plain": [
       "array([-1.,  2.])"
      ]
     },
     "execution_count": 75,
     "metadata": {},
     "output_type": "execute_result"
    }
   ],
   "source": [
    "la.solve(A, b)"
   ]
  },
  {
   "cell_type": "markdown",
   "id": "99b04f7a-c624-41f7-ba26-f29b8965b69c",
   "metadata": {},
   "source": [
    "> The advantage of using SymPy is of course that we may obtain exact results and\n",
    "we can also include symbolic variables in the matrices. However, not all problems\n",
    "are solvable symbolically, or it may give exceedingly lengthy results. The advantage\n",
    "of using a numerical approach with NumPy/SciPy, on the other hand, is that we are\n",
    "guaranteed to obtain a result, although it will be an approximate solution due to\n",
    "floating-point errors. See the following code (In [38]) for an example that illustrates the\n",
    "differences between the symbolic and numerical approaches and for an example that\n",
    "show numerical approaches can be sensitive for equation systems with large condition\n",
    "number. In this example we solve the equation system"
   ]
  },
  {
   "cell_type": "markdown",
   "id": "1ddc0ca6-fafd-4666-91c5-15ba26f0e0d9",
   "metadata": {},
   "source": [
    "### In this example we solve the equation system"
   ]
  },
  {
   "cell_type": "code",
   "execution_count": 76,
   "id": "33be4890-cab4-4457-ad9b-a4553e3d60cf",
   "metadata": {},
   "outputs": [
    {
     "data": {
      "text/latex": [
       "$\\displaystyle \\left[\\begin{matrix}1 & \\sqrt{p}\\\\1 & \\frac{1}{\\sqrt{p}}\\end{matrix}\\right]$"
      ],
      "text/plain": [
       "⎡1  √p⎤\n",
       "⎢     ⎥\n",
       "⎢   1 ⎥\n",
       "⎢1  ──⎥\n",
       "⎣   √p⎦"
      ]
     },
     "execution_count": 76,
     "metadata": {},
     "output_type": "execute_result"
    }
   ],
   "source": [
    "p = sympy.symbols(\"p\", positive=True)\n",
    "A = sympy.Matrix([[1, sympy.sqrt(p)], [1, 1/sympy.sqrt(p)]])\n",
    "A"
   ]
  },
  {
   "cell_type": "code",
   "execution_count": 77,
   "id": "0b003b3a-44c8-4e41-bb4e-3805cd769114",
   "metadata": {},
   "outputs": [
    {
     "data": {
      "text/latex": [
       "$\\displaystyle \\left[\\begin{matrix}\\frac{2 p - 1}{p - 1}\\\\\\frac{1}{- \\sqrt{p} + \\frac{1}{\\sqrt{p}}}\\end{matrix}\\right]$"
      ],
      "text/plain": [
       "⎡2⋅p - 1 ⎤\n",
       "⎢─────── ⎥\n",
       "⎢ p - 1  ⎥\n",
       "⎢        ⎥\n",
       "⎢   1    ⎥\n",
       "⎢────────⎥\n",
       "⎢      1 ⎥\n",
       "⎢-√p + ──⎥\n",
       "⎣      √p⎦"
      ]
     },
     "execution_count": 77,
     "metadata": {},
     "output_type": "execute_result"
    }
   ],
   "source": [
    "b = sympy.Matrix([1, 2])\n",
    "x = A.solve(b)\n",
    "x"
   ]
  },
  {
   "cell_type": "code",
   "execution_count": 82,
   "id": "807d74ea-3701-4dc7-811b-6b3e3dbd244d",
   "metadata": {},
   "outputs": [],
   "source": [
    "# Solve symbolically\n",
    "x_sym_sol = A.solve(b)\n",
    "\n",
    "Acond = A.condition_number().simplify()"
   ]
  },
  {
   "cell_type": "markdown",
   "id": "79984ebc-d010-460d-9524-bb28fda94c0f",
   "metadata": {},
   "source": [
    "> Here the errors in the numerical solution are due to numerical floating-­\n",
    "point errors, and the numerical errors are significantly larger in the vicinity of p = 1,\n",
    "where the system has a large condition number. Also, if there are other sources of errors\n",
    "in either A or b, the corresponding errors in x can be even more severe"
   ]
  },
  {
   "cell_type": "code",
   "execution_count": 83,
   "id": "defc33c6-dafb-410e-bbd5-a12b21c0de5a",
   "metadata": {},
   "outputs": [
    {
     "data": {
      "text/plain": [
       "Text(0.5, 0, '$p$')"
      ]
     },
     "execution_count": 83,
     "metadata": {},
     "output_type": "execute_result"
    },
    {
     "data": {
      "image/png": "[encoded data removed]",
      "text/plain": [
       "<Figure size 864x288 with 2 Axes>"
      ]
     },
     "metadata": {
      "needs_background": "light"
     },
     "output_type": "display_data"
    }
   ],
   "source": [
    "# Numerical problem specification\n",
    "AA = lambda p: np.array([[1, np.sqrt(p)], [1, 1/np.sqrt(p)]])\n",
    "bb = np.array([1, 2])\n",
    "x_num_sol = lambda p: np.linalg.solve(AA(p), bb)\n",
    "\n",
    "# Graph the difference between the symbolic (exact) and numerical results.\n",
    "fig, axes = plt.subplots(1, 2, figsize=(12, 4))\n",
    "\n",
    "p_vec = np.linspace(0.9, 1.1, 200)\n",
    "for n in range(2):\n",
    "    x_sym = np.array([x_sym_sol[n].subs(p, pp).evalf() for pp in p_vec])\n",
    "    x_num = np.array([x_num_sol(pp)[n] for pp in p_vec])\n",
    "        \n",
    "axes[0].plot(p_vec, (x_num - x_sym)/x_sym, 'k')\n",
    "axes[0].set_title(\"Error in solution\\n(numerical - symbolic)/symbolic\")\n",
    "axes[0].set_xlabel(r'$p$', fontsize=18)\n",
    "\n",
    "axes[1].plot(p_vec, [Acond.subs(p, pp).evalf() for pp in p_vec])\n",
    "axes[1].set_title(\"Condition number\")\n",
    "axes[1].set_xlabel(r'$p$', fontsize=18)"
   ]
  },
  {
   "cell_type": "code",
   "execution_count": null,
   "id": "3fc29686-0d10-4487-a4be-f0752d29e660",
   "metadata": {},
   "outputs": [],
   "source": []
  }
 ],
 "metadata": {
  "kernelspec": {
   "display_name": "Python 3 (ipykernel)",
   "language": "python",
   "name": "python3"
  },
  "language_info": {
   "codemirror_mode": {
    "name": "ipython",
    "version": 3
   },
   "file_extension": ".py",
   "mimetype": "text/x-python",
   "name": "python",
   "nbconvert_exporter": "python",
   "pygments_lexer": "ipython3",
   "version": "3.8.12"
  }
 },
 "nbformat": 4,
 "nbformat_minor": 5
}
