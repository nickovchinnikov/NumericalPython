{
 "cells": [
  {
   "cell_type": "markdown",
   "id": "bd313559-f38d-4b55-a67d-241fd0d996a6",
   "metadata": {},
   "source": [
    "# Intro"
   ]
  },
  {
   "cell_type": "markdown",
   "id": "5843535e-2c80-4bb9-a3c0-4ef096fbbf3c",
   "metadata": {},
   "source": [
    "Partial differential equations (PDEs) are multivariate differential equations where\n",
    "derivatives of more than one dependent variable occur. That is, the derivatives in the\n",
    "equation are partial derivatives. As such they are generalizations of ordinary differential\n",
    "equations, which were covered in Chapter 9. Conceptually, the difference between\n",
    "ordinary and partial differential equations is not that big, but the computational\n",
    "techniques required to deal with ODEs and PDEs are very different, and solving PDEs\n",
    "is typically much more computationally demanding. Most techniques for solving PDEs\n",
    "numerically are based on the idea of discretizing the problem in each independent\n",
    "variable that occurs in the PDE, thereby recasting the problem into an algebraic form.\n",
    "This usually results in very large-scale linear algebra problems. Two common techniques\n",
    "for recasting PDEs into algebraic form are the finite-difference methods (FDMs), where\n",
    "the derivatives in the problem are approximated with their finite-difference formula,\n",
    "and the finite-element methods (FEMs), where the unknown function is written as\n",
    "linear combination of simple basis functions that can be differentiated and integrated\n",
    "easily. The unknown function is described by a set of coefficients for the basis functions\n",
    "in this representation, and by a suitable rewriting of the PDEs, we can obtain algebraic\n",
    "equations for these coefficients.\n",
    "\n",
    "With both FDMs and FEMs, the resulting algebraic equation system is usually very\n",
    "large, and in the matrix form, such equation systems are usually very sparse. Both FDM\n",
    "and FEM therefore heavily rely on sparse matrix representation for the algebraic linear\n",
    "equations, as discussed in Chapter 10. Most general-purpose frameworks for PDEs are\n",
    "based on FEM, or some variant thereof, as this method allows for solving very general\n",
    "problems on complicated problem domains"
   ]
  },
  {
   "cell_type": "markdown",
   "id": "7724db79-ac7f-4f80-a65d-1c1c47d288c6",
   "metadata": {},
   "source": [
    "### Importing Modules"
   ]
  },
  {
   "cell_type": "code",
   "execution_count": 1,
   "id": "3fe56854-4bc6-465f-8cd7-105cae27a875",
   "metadata": {},
   "outputs": [],
   "source": [
    "import matplotlib as mpl\n",
    "import matplotlib.pyplot as plt\n",
    "import mpl_toolkits.mplot3d\n",
    "import numpy as np"
   ]
  },
  {
   "cell_type": "markdown",
   "id": "f7b9cf73-8cb6-4d42-bdbc-ccbda8a494bc",
   "metadata": {},
   "source": [
    "We also use the `linalg` and the `sparse` modules from SciPy, and to use the `linalg`\n",
    "submodule of the sparse module, we also need to import it explicitly"
   ]
  },
  {
   "cell_type": "code",
   "execution_count": 2,
   "id": "07b6b93f-36e8-4d3d-a7ef-3ed6d89c981d",
   "metadata": {},
   "outputs": [],
   "source": [
    "import scipy.linalg as la\n",
    "import scipy.sparse as sp\n",
    "import scipy.sparse.linalg"
   ]
  },
  {
   "cell_type": "markdown",
   "id": "6838b7b8-7aef-43d9-960f-3fec45211c22",
   "metadata": {},
   "source": [
    "With these imports, we can access the dense linear algebra module as `la`, while\n",
    "the sparse linear algebra module is accessed as `sp.linalg`. Furthermore, later in this\n",
    "chapter, we will also use the FEniCS FEM framework, and we require that its `dolfin` and\n",
    "`mshr` libraries be imported in the following manner"
   ]
  },
  {
   "cell_type": "code",
   "execution_count": 3,
   "id": "db6cee04-f5ce-4726-80e4-dacf87b10126",
   "metadata": {},
   "outputs": [],
   "source": [
    "import dolfin\n",
    "import mshr"
   ]
  },
  {
   "cell_type": "markdown",
   "id": "f9ee4a90-a560-4d6b-a675-8e1931b08671",
   "metadata": {},
   "source": [
    "# Partial Differential Equations and Finite Difference Method"
   ]
  },
  {
   "cell_type": "markdown",
   "id": "f6ee34b3-1d11-4f75-93ee-c390bc6e9de0",
   "metadata": {},
   "source": [
    "In Python code, we can set up and solve this problem in the following way: First,\n",
    "we define variables for the number of interior points `N`, the values of the function at the\n",
    "boundaries `u0` and `u1`, as well as the spacing between neighboring points `dx`."
   ]
  },
  {
   "cell_type": "code",
   "execution_count": 12,
   "id": "7804cfdc-8414-434a-9578-c14fbbad6c4b",
   "metadata": {},
   "outputs": [],
   "source": [
    "N = 5\n",
    "u0, u1 = 1, 2\n",
    "dx = 1.0 / (N + 1)"
   ]
  },
  {
   "cell_type": "markdown",
   "id": "1079df60-dc99-42be-ae2c-7ad1d36c593f",
   "metadata": {},
   "source": [
    "Next we construct the matrix `A` as described in the preceding section. For this we can\n",
    "use the `eye` function from NumPy, which creates a two-dimensional array with ones on\n",
    "the diagonal or on the upper or lower diagonal that is shifted from the main diagonal by\n",
    "the number given by the argument `k`"
   ]
  },
  {
   "cell_type": "code",
   "execution_count": 14,
   "id": "9fa2f974-3104-4a38-a8aa-9916ca077f99",
   "metadata": {},
   "outputs": [
    {
     "data": {
      "text/plain": [
       "array([[-2.,  1.,  0.,  0.,  0.],\n",
       "       [ 1., -2.,  1.,  0.,  0.],\n",
       "       [ 0.,  1., -2.,  1.,  0.],\n",
       "       [ 0.,  0.,  1., -2.,  1.],\n",
       "       [ 0.,  0.,  0.,  1., -2.]])"
      ]
     },
     "execution_count": 14,
     "metadata": {},
     "output_type": "execute_result"
    }
   ],
   "source": [
    "# Matrix K\n",
    "K = np.eye(N, k=-1) - 2 * np.eye(N) + np.eye(N, k=1)\n",
    "K"
   ]
  },
  {
   "cell_type": "code",
   "execution_count": 16,
   "id": "72fc7674-710f-40ad-8129-06a2ac3a5750",
   "metadata": {},
   "outputs": [
    {
     "data": {
      "text/plain": [
       "array([[-72.,  36.,   0.,   0.,   0.],\n",
       "       [ 36., -72.,  36.,   0.,   0.],\n",
       "       [  0.,  36., -72.,  36.,   0.],\n",
       "       [  0.,   0.,  36., -72.,  36.],\n",
       "       [  0.,   0.,   0.,  36., -72.]])"
      ]
     },
     "execution_count": 16,
     "metadata": {},
     "output_type": "execute_result"
    }
   ],
   "source": [
    "# Matrix A\n",
    "A = (1 / dx ** 2) * K\n",
    "A"
   ]
  },
  {
   "cell_type": "markdown",
   "id": "5dbbed47-2f80-4e4c-9cff-fcd343c740ad",
   "metadata": {},
   "source": [
    "Next we need to define an array for the vector `b`, which corresponds to the source\n",
    "term `–5` in the differential equation, as well as the boundary condition. The boundary\n",
    "conditions enter into the equations via the finite-difference expressions for the\n",
    "derivatives of the first and the last equation (for `u1` and `uN`), but these terms are missing\n",
    "from the expression represented by the matrix `A` and must therefore be added to the\n",
    "vector `b`"
   ]
  },
  {
   "cell_type": "code",
   "execution_count": 17,
   "id": "975750fe-83cf-4119-a83f-2d13c0be74ba",
   "metadata": {},
   "outputs": [
    {
     "data": {
      "text/plain": [
       "array([-41.,  -5.,  -5.,  -5., -77.])"
      ]
     },
     "execution_count": 17,
     "metadata": {},
     "output_type": "execute_result"
    }
   ],
   "source": [
    "# Add boundaries to vector\n",
    "b = -5 * np.ones(N)\n",
    "b[0] -= u0 / dx ** 2\n",
    "b[N - 1] -= u1 / dx ** 2\n",
    "\n",
    "b"
   ]
  },
  {
   "cell_type": "markdown",
   "id": "e1281a8e-fe32-4cac-ae02-4160841e2e9b",
   "metadata": {},
   "source": [
    "Once the matrix `A` and the vector `b` are defined, we can proceed to solve the equation\n",
    "system using the linear equation solver from SciPy (we could also use the one provided\n",
    "by NumPy, `np.linalg.solve`)."
   ]
  },
  {
   "cell_type": "code",
   "execution_count": 28,
   "id": "33b3d93d-63af-4c34-b5b4-12eefb22bcd4",
   "metadata": {},
   "outputs": [
    {
     "data": {
      "text/plain": [
       "array([1.51388889, 1.88888889, 2.125     , 2.22222222, 2.18055556])"
      ]
     },
     "execution_count": 28,
     "metadata": {},
     "output_type": "execute_result"
    }
   ],
   "source": [
    "# Solution\n",
    "u = la.solve(A, b)\n",
    "\n",
    "u"
   ]
  },
  {
   "cell_type": "markdown",
   "id": "0ac1f041-3025-4034-8651-aaf17db3f6f6",
   "metadata": {},
   "source": [
    "This completes the solution of this ODE problem. To visualize the solution, here\n",
    "we first create an array `x` that contains the discrete coordinate points for which we have\n",
    "solved the problem, including the boundary points, and we also create an array `U` that\n",
    "combines the boundary values and the interior points in one array. The result is then\n",
    "plotted and shown in Figure"
   ]
  },
  {
   "cell_type": "code",
   "execution_count": 27,
   "id": "68b7ed8d-c800-4b00-aa88-350b5f96cecd",
   "metadata": {},
   "outputs": [
    {
     "data": {
      "text/plain": [
       "(array([0.        , 0.16666667, 0.33333333, 0.5       , 0.66666667,\n",
       "        0.83333333, 1.        ]),\n",
       " array([1.        , 1.51388889, 1.88888889, 2.125     , 2.22222222,\n",
       "        2.18055556, 2.        ]))"
      ]
     },
     "execution_count": 27,
     "metadata": {},
     "output_type": "execute_result"
    }
   ],
   "source": [
    "x = np.linspace(0, 1, N + 2)\n",
    "\n",
    "# Just merge the arrays\n",
    "U = np.hstack([[u0], u, [u1]])\n",
    "\n",
    "x, U"
   ]
  },
  {
   "cell_type": "code",
   "execution_count": 26,
   "id": "bbd5f345-f899-4663-9562-32be3222fcc8",
   "metadata": {},
   "outputs": [
    {
     "data": {
      "text/plain": [
       "Text(0, 0.5, '$u(x)$')"
      ]
     },
     "execution_count": 26,
     "metadata": {},
     "output_type": "execute_result"
    },
    {
     "data": {
      "image/png": "[encoded data removed]",
      "text/plain": [
       "<Figure size 576x288 with 1 Axes>"
      ]
     },
     "metadata": {
      "needs_background": "light"
     },
     "output_type": "display_data"
    }
   ],
   "source": [
    "fig, ax = plt.subplots(figsize=(8, 4))\n",
    "\n",
    "ax.plot(x, U)\n",
    "\n",
    "# The exact solution points\n",
    "ax.plot(x[1:-1], u, \"bs\")\n",
    "\n",
    "ax.set_xlim(0, 1)\n",
    "ax.set_xlabel(r\"$x$\", fontsize=18)\n",
    "ax.set_ylabel(r\"$u(x)$\", fontsize=18)"
   ]
  },
  {
   "cell_type": "markdown",
   "id": "07bbe247-6b7c-4427-9ac8-4e340192a8b1",
   "metadata": {},
   "source": [
    "> Solution to the second-order ODE boundary value problem\n",
    "introduced in the text"
   ]
  },
  {
   "cell_type": "markdown",
   "id": "f877d76e-203a-440d-bc55-e9a371731ff6",
   "metadata": {},
   "source": [
    "The finite-difference method can easily be extended to higher dimensions by using\n",
    "the finite-difference formula along each discretized coordinate. For a two-dimensional\n",
    "problem, we have a two-dimensional array `u` for the unknown interior function values,\n",
    "and when using the finite differential formula, we obtain a system of coupled equations\n",
    "for the elements in `u`. To write these equations on the standard matrix-vector form, we\n",
    "can rearrange the `u` array into a vector and assemble the corresponding matrix `A` from\n",
    "the finite-difference equations\n",
    "\n",
    "As an example, consider the following two-dimensional generalization of the\n",
    "previous problem: $u_{xx}+u_{yy} = 0$, with the boundary conditions $u(x = 0) = 3$, $u(x = 1) = −1$,\n",
    "$u(y = 0) = −5$, and $u(y = 1) = 5$\n",
    "\n",
    "Here there is no source term, but the boundary\n",
    "conditions in a two-dimensional problem are more complicated than in the one-dimensional problem we solved earlier. In finite-difference form, we can write the PDE as\n",
    "\n",
    "$$\n",
    "\\frac{(u_{m − 1},n − 2u_{m,n} + u_{m+1,n})}{\\nabla x^2} + \\frac{(u_{m,n − 1} − 2 u_{m,n}+u_{m,n+1})}{\\nabla y^2} = 0\n",
    "$$\n",
    "\n",
    "If we divide the $x$ and $y$ intervals into $N$ interior points ($N+2$ points including the boundary points), then\n",
    "\n",
    "$\\nabla x \\nabla y = \\frac{1}{N+1}$, and `u` is an `NxN` matrix.\n",
    "\n",
    "To write the equation on the standard form Av = b, we can rearrange the matrix `u` by stacking its rows or columns into a vector of\n",
    "size $N^2 × 1$. The matrix $A$ is then of size $N^2 × N^2$, which can be very big if we need to use\n",
    "a fine discretization of the `x` and `y` coordinates. For example, using 100 points along\n",
    "both `x` and `y` gives an equation system that has 104 unknown values $u_{mn}$, and the matrix\n",
    "`A` has 1004 = 108 elements. Fortunately, since the finite-difference formula only couples\n",
    "neighboring points, the matrix `A` turns out to be very sparse, and here we can benefit\n",
    "greatly from working with sparse matrices, as we will see in the following.\n",
    "\n",
    "To solve this PDE problem with Python and the finite-element method, we start\n",
    "by defining variables for the number of interior points and the values along the four\n",
    "boundaries of the unit square:"
   ]
  },
  {
   "cell_type": "code",
   "execution_count": 103,
   "id": "19eeca50-d374-4886-93b9-49c93ad76f81",
   "metadata": {},
   "outputs": [
    {
     "data": {
      "text/plain": [
       "array([[-64.,  16.,   0.],\n",
       "       [ 16., -64.,  16.],\n",
       "       [  0.,  16., -64.]])"
      ]
     },
     "execution_count": 103,
     "metadata": {},
     "output_type": "execute_result"
    }
   ],
   "source": [
    "# Example with small N\n",
    "N = 3\n",
    "dx = 1.0 / (N + 1)\n",
    "\n",
    "# Small K\n",
    "K = (sp.eye(N, k=-1) + sp.eye(N, k=1) - 4 * sp.eye(N)) / dx ** 2\n",
    "K.toarray()"
   ]
  },
  {
   "cell_type": "markdown",
   "id": "87f9e089-7639-48ff-bc6e-7a1f4e3c3476",
   "metadata": {},
   "source": [
    "#### Kron with I matrix it's the easiest way to grow for this matrix"
   ]
  },
  {
   "cell_type": "code",
   "execution_count": 104,
   "id": "73f211db-e745-40df-9c41-3c8dc4462595",
   "metadata": {},
   "outputs": [
    {
     "data": {
      "text/plain": [
       "array([[-64.,  16.,   0.,   0.,   0.,   0.,   0.,   0.,   0.],\n",
       "       [ 16., -64.,  16.,   0.,   0.,   0.,   0.,   0.,   0.],\n",
       "       [  0.,  16., -64.,   0.,   0.,   0.,   0.,   0.,   0.],\n",
       "       [  0.,   0.,   0., -64.,  16.,   0.,   0.,   0.,   0.],\n",
       "       [  0.,   0.,   0.,  16., -64.,  16.,   0.,   0.,   0.],\n",
       "       [  0.,   0.,   0.,   0.,  16., -64.,   0.,   0.,   0.],\n",
       "       [  0.,   0.,   0.,   0.,   0.,   0., -64.,  16.,   0.],\n",
       "       [  0.,   0.,   0.,   0.,   0.,   0.,  16., -64.,  16.],\n",
       "       [  0.,   0.,   0.,   0.,   0.,   0.,   0.,  16., -64.]])"
      ]
     },
     "execution_count": 104,
     "metadata": {},
     "output_type": "execute_result"
    }
   ],
   "source": [
    "# Real K\n",
    "K_NN = sp.kron(sp.eye(N), K)\n",
    "\n",
    "K_NN.toarray()"
   ]
  },
  {
   "cell_type": "markdown",
   "id": "0eae16a1-b2f0-43ec-8f84-d2bc6e6ee171",
   "metadata": {},
   "source": [
    "### K off-diagonals values"
   ]
  },
  {
   "cell_type": "code",
   "execution_count": 105,
   "id": "d5a9e121-269c-4be7-946f-f69f5c28bce1",
   "metadata": {},
   "outputs": [
    {
     "data": {
      "text/plain": [
       "array([[ 0.,  0.,  0., 16.,  0.,  0.,  0.,  0.,  0.],\n",
       "       [ 0.,  0.,  0.,  0., 16.,  0.,  0.,  0.,  0.],\n",
       "       [ 0.,  0.,  0.,  0.,  0., 16.,  0.,  0.,  0.],\n",
       "       [16.,  0.,  0.,  0.,  0.,  0., 16.,  0.,  0.],\n",
       "       [ 0., 16.,  0.,  0.,  0.,  0.,  0., 16.,  0.],\n",
       "       [ 0.,  0., 16.,  0.,  0.,  0.,  0.,  0., 16.],\n",
       "       [ 0.,  0.,  0., 16.,  0.,  0.,  0.,  0.,  0.],\n",
       "       [ 0.,  0.,  0.,  0., 16.,  0.,  0.,  0.,  0.],\n",
       "       [ 0.,  0.,  0.,  0.,  0., 16.,  0.,  0.,  0.]])"
      ]
     },
     "execution_count": 105,
     "metadata": {},
     "output_type": "execute_result"
    }
   ],
   "source": [
    "K_od = (sp.eye(N ** 2, k=-N) + sp.eye(N ** 2, k=N)) / dx ** 2\n",
    "\n",
    "K_od.toarray()"
   ]
  },
  {
   "cell_type": "code",
   "execution_count": 106,
   "id": "206b23d5-3489-49bb-ab7f-afbddbf3afb6",
   "metadata": {},
   "outputs": [
    {
     "data": {
      "text/plain": [
       "array([[-64.,  16.,   0.,  16.,   0.,   0.,   0.,   0.,   0.],\n",
       "       [ 16., -64.,  16.,   0.,  16.,   0.,   0.,   0.,   0.],\n",
       "       [  0.,  16., -64.,   0.,   0.,  16.,   0.,   0.,   0.],\n",
       "       [ 16.,   0.,   0., -64.,  16.,   0.,  16.,   0.,   0.],\n",
       "       [  0.,  16.,   0.,  16., -64.,  16.,   0.,  16.,   0.],\n",
       "       [  0.,   0.,  16.,   0.,  16., -64.,   0.,   0.,  16.],\n",
       "       [  0.,   0.,   0.,  16.,   0.,   0., -64.,  16.,   0.],\n",
       "       [  0.,   0.,   0.,   0.,  16.,   0.,  16., -64.,  16.],\n",
       "       [  0.,   0.,   0.,   0.,   0.,  16.,   0.,  16., -64.]])"
      ]
     },
     "execution_count": 106,
     "metadata": {},
     "output_type": "execute_result"
    }
   ],
   "source": [
    "A = K_NN + K_od\n",
    "A.toarray()"
   ]
  },
  {
   "cell_type": "markdown",
   "id": "e498c799-3722-4d45-83ed-f2330fb1736e",
   "metadata": {},
   "source": [
    "### Boundaries example with small N"
   ]
  },
  {
   "cell_type": "code",
   "execution_count": 113,
   "id": "4c768729-dde4-49f3-9e7f-04e00bc583bf",
   "metadata": {},
   "outputs": [
    {
     "data": {
      "text/plain": [
       "array([[-2., -5., -6.],\n",
       "       [ 3.,  0., -1.],\n",
       "       [ 8.,  5.,  4.]])"
      ]
     },
     "execution_count": 113,
     "metadata": {},
     "output_type": "execute_result"
    }
   ],
   "source": [
    "u0_t, u0_b = 5, -5\n",
    "u0_l, u0_r = 3, -1\n",
    "\n",
    "b = np.zeros((N, N))\n",
    "\n",
    "# top\n",
    "b[-1, :] += u0_t\n",
    "\n",
    "# bottom\n",
    "b[0, :] += u0_b\n",
    "\n",
    "# left\n",
    "b[:, 0] += u0_l\n",
    "\n",
    "# right\n",
    "b[:, -1] += u0_r\n",
    "\n",
    "b"
   ]
  },
  {
   "cell_type": "code",
   "execution_count": 109,
   "id": "49d65b32-2b58-4b3f-bed3-eb942361f256",
   "metadata": {},
   "outputs": [
    {
     "data": {
      "text/plain": [
       "array([  32.,   80.,   96.,  -48.,   -0.,   16., -128.,  -80.,  -64.])"
      ]
     },
     "execution_count": 109,
     "metadata": {},
     "output_type": "execute_result"
    }
   ],
   "source": [
    "b = -b.reshape(N ** 2) / dx ** 2\n",
    "\n",
    "b"
   ]
  },
  {
   "cell_type": "code",
   "execution_count": 114,
   "id": "5746a1db-30d8-4122-82e7-ca2fe08e83e2",
   "metadata": {},
   "outputs": [],
   "source": [
    "N = 100\n",
    "dx = 1.0 / (N + 1)\n",
    "\n",
    "u0_t, u0_b = 5, -5\n",
    "u0_l, u0_r = 3, -1"
   ]
  },
  {
   "cell_type": "markdown",
   "id": "7b57fbc8-6ae0-4b14-b7c8-68f686ebf060",
   "metadata": {},
   "source": [
    "We also computed the separation `dx` between the uniformly spaced coordinate\n",
    "points in the discretization of `x` and `y` (assumed equal). Because the finite-difference\n",
    "formula couples both neighboring rows and columns, it is slightly more involved to\n",
    "construct the matrix `A` for this example. However, a relatively direct approach is to first\n",
    "define the matrix `A_1d` that corresponds to the one-dimensional formula along one of the\n",
    "coordinates (say x or the index m in um,n). To distribute this formula along each row, we\n",
    "can take the tensor product of the identity matrix of size `N × N` with the `A_1d` matrix. The\n",
    "result describes all derivatives along the m-index for all indices `n`. To cover the terms that\n",
    "couple the equation for $u_{m,n}$ to $u_{m,n+1}$ and $u_{m,n − 1}$, that is, the derivatives along the index\n",
    "`n`, we need to add diagonals that are separated from the main diagonal by `N` positions.\n",
    "In the following we perform these steps to construct `A` using the `eye` and `kron` functions\n",
    "from the `scipy.sparse` module. The result is a sparse matrix `A` that describes the finite-\n",
    "difference equation system for the two-dimensional PDE we are considering here"
   ]
  },
  {
   "cell_type": "code",
   "execution_count": 115,
   "id": "4d159a81-54f8-40a9-af33-5586a81ede5a",
   "metadata": {},
   "outputs": [
    {
     "data": {
      "text/plain": [
       "<10000x10000 sparse matrix of type '<class 'numpy.float64'>'\n",
       "\twith 49600 stored elements in Compressed Sparse Row format>"
      ]
     },
     "execution_count": 115,
     "metadata": {},
     "output_type": "execute_result"
    }
   ],
   "source": [
    "A_1d = (sp.eye(N, k=-1) + sp.eye(N, k=1) - 4 * sp.eye(N)) / dx ** 2\n",
    "\n",
    "A = sp.kron(sp.eye(N), A_1d) + (sp.eye(N ** 2, k=-N) + sp.eye(N ** 2, k=N)) / dx ** 2\n",
    "\n",
    "A"
   ]
  },
  {
   "cell_type": "code",
   "execution_count": 116,
   "id": "834d2938-443f-4a97-907c-c958ea5b14af",
   "metadata": {},
   "outputs": [],
   "source": [
    "b = np.zeros((N, N))\n",
    "\n",
    "# top\n",
    "b[-1, :] += u0_t\n",
    "# bottom\n",
    "b[0, :] += u0_b\n",
    "# left\n",
    "b[:, 0] += u0_l\n",
    "# right\n",
    "b[:, -1] += u0_r\n",
    "\n",
    "b = -b.reshape(N ** 2) / dx ** 2"
   ]
  },
  {
   "cell_type": "markdown",
   "id": "f6dcf7c0-241d-4702-9f54-26ae688ac41c",
   "metadata": {},
   "source": [
    "When the `A` and `b` arrays are created, we can proceed to solve the equation system for\n",
    "the vector `v` and use the reshape method to arrange it back into the `N × N` matrix `u`:"
   ]
  },
  {
   "cell_type": "code",
   "execution_count": 119,
   "id": "fcbad121-235a-41b4-a6d7-8c46c63cb5e4",
   "metadata": {},
   "outputs": [],
   "source": [
    "v = sp.linalg.spsolve(A, b)\n",
    "u = v.reshape(N, N)"
   ]
  },
  {
   "cell_type": "markdown",
   "id": "d2cc507a-fe0a-4415-817a-6896a924659c",
   "metadata": {},
   "source": [
    "For plotting purposes, we also create a matrix `U` that combines the `u` matrix with the\n",
    "boundary conditions. Together with the coordinate matrices `X` and `Y`, we then plot a\n",
    "colormap graph and a 3D surface view of the solution. The result is shown in Figure"
   ]
  },
  {
   "cell_type": "code",
   "execution_count": 122,
   "id": "6242fc9e-3e90-49c3-9a7e-875a0c12873d",
   "metadata": {},
   "outputs": [
    {
     "data": {
      "image/png": "[encoded data removed]",
      "text/plain": [
       "<Figure size 864x396 with 3 Axes>"
      ]
     },
     "metadata": {
      "needs_background": "light"
     },
     "output_type": "display_data"
    }
   ],
   "source": [
    "U = np.vstack(\n",
    "    [\n",
    "        np.ones((1, N + 2)) * u0_b,\n",
    "        np.hstack([np.ones((N, 1)) * u0_l, u, np.ones((N, 1)) * u0_r]),\n",
    "        np.ones((1, N + 2)) * u0_t,\n",
    "    ]\n",
    ")\n",
    "\n",
    "x = np.linspace(0, 1, N + 2)\n",
    "\n",
    "X, Y = np.meshgrid(x, x)\n",
    "\n",
    "fig = plt.figure(figsize=(12, 5.5))\n",
    "cmap = mpl.cm.get_cmap(\"RdBu_r\")\n",
    "\n",
    "ax = fig.add_subplot(1, 2, 1)\n",
    "c = ax.pcolor(X, Y, U, vmin=-5, vmax=5, cmap=cmap)\n",
    "\n",
    "ax.set_xlabel(r\"$x_1$\", fontsize=18)\n",
    "ax.set_ylabel(r\"$x_2$\", fontsize=18)\n",
    "\n",
    "ax = fig.add_subplot(1, 2, 2, projection=\"3d\")\n",
    "p = ax.plot_surface(\n",
    "    X, Y, U, vmin=-5, vmax=5, rstride=3, cstride=3, linewidth=0, cmap=cmap\n",
    ")\n",
    "\n",
    "ax.set_xlabel(r\"$x_1$\", fontsize=18)\n",
    "ax.set_ylabel(r\"$x_2$\", fontsize=18)\n",
    "\n",
    "cb = plt.colorbar(p, ax=ax, shrink=0.75)\n",
    "cb.set_label(r\"$u(x_1, x_2)$\", fontsize=18)"
   ]
  },
  {
   "cell_type": "markdown",
   "id": "2ea5cd2c-18ba-4f97-9fb6-4959af9e5530",
   "metadata": {},
   "source": [
    "> The solution to the two-dimensional heat equation with Dirichlet\n",
    "boundary conditions defined in the text"
   ]
  },
  {
   "cell_type": "code",
   "execution_count": null,
   "id": "33d39496-abec-4d2b-ad08-542c39e3fa22",
   "metadata": {},
   "outputs": [],
   "source": []
  }
 ],
 "metadata": {
  "kernelspec": {
   "display_name": "Python 3",
   "language": "python",
   "name": "python3"
  },
  "language_info": {
   "codemirror_mode": {
    "name": "ipython",
    "version": 3
   },
   "file_extension": ".py",
   "mimetype": "text/x-python",
   "name": "python",
   "nbconvert_exporter": "python",
   "pygments_lexer": "ipython3",
   "version": "3.8.12"
  }
 },
 "nbformat": 4,
 "nbformat_minor": 5
}
