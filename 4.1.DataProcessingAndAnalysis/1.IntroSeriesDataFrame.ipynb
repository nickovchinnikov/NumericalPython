{
 "cells": [
  {
   "cell_type": "markdown",
   "id": "c6343fdc-4497-4515-aecd-5de2f2c1f795",
   "metadata": {},
   "source": [
    "# Intro"
   ]
  },
  {
   "cell_type": "code",
   "execution_count": 1,
   "id": "8a7e0c77-dc2c-4433-a9a8-8cc2ac396bdc",
   "metadata": {},
   "outputs": [],
   "source": [
    "import matplotlib.pyplot as plt\n",
    "import numpy as np\n",
    "import pandas as pd"
   ]
  },
  {
   "cell_type": "markdown",
   "id": "b12bd17b-42a0-4a44-a882-b37b3f53f662",
   "metadata": {},
   "source": [
    "For more aesthetically pleasing appearance of Matplotlib figures produced by the\n",
    "`pandas` library, we select a style that is suitable for statistical graphs using the function\n",
    "`mpl.style.use`"
   ]
  },
  {
   "cell_type": "code",
   "execution_count": 2,
   "id": "48cb8533-2c58-4aa0-8c60-2ea1aaa7a5de",
   "metadata": {},
   "outputs": [],
   "source": [
    "import matplotlib as mpl\n",
    "\n",
    "mpl.style.use(\"ggplot\")"
   ]
  },
  {
   "cell_type": "code",
   "execution_count": 3,
   "id": "9ee0490d-4c50-4c04-a9ae-3becad62d6ac",
   "metadata": {},
   "outputs": [],
   "source": [
    "import seaborn as sns"
   ]
  },
  {
   "cell_type": "markdown",
   "id": "941684e6-a8a7-48b4-a60e-feb5241ae304",
   "metadata": {},
   "source": [
    "# Series"
   ]
  },
  {
   "cell_type": "markdown",
   "id": "41ab01ce-34b0-4af9-b17e-066c76802550",
   "metadata": {},
   "source": [
    "The merit of being able to index a data series with labels rather than integers is apparent\n",
    "even in the simplest of examples: Consider the following construction of a `Series`\n",
    "object. We give the constructor a list of integers, to create a `Series` object that represents\n",
    "the given data. Displaying the object in `IPython` reveals the data of the `Series` object\n",
    "together with the corresponding indices:"
   ]
  },
  {
   "cell_type": "code",
   "execution_count": 4,
   "id": "2684b227-096c-4db0-b6a3-45aa41d2f2d9",
   "metadata": {},
   "outputs": [
    {
     "data": {
      "text/plain": [
       "0     909976\n",
       "1    8615246\n",
       "2    2872086\n",
       "3    2273305\n",
       "dtype: int64"
      ]
     },
     "execution_count": 4,
     "metadata": {},
     "output_type": "execute_result"
    }
   ],
   "source": [
    "s = pd.Series([909976, 8615246, 2872086, 2273305])\n",
    "s"
   ]
  },
  {
   "cell_type": "markdown",
   "id": "f3c3922e-ab19-4527-81b0-23e912f49677",
   "metadata": {},
   "source": [
    "The resulting object is a `Series` instance with the data type (dtype) int64, and\n",
    "the elements are indexed by the integers 0, 1, 2, and 3. Using the index and values\n",
    "attributes, we can extract the underlying data for the index and the values stored in the\n",
    "series:"
   ]
  },
  {
   "cell_type": "code",
   "execution_count": 5,
   "id": "a35a8e35-9009-4f2e-9f0a-47b4eb8a233e",
   "metadata": {},
   "outputs": [
    {
     "data": {
      "text/plain": [
       "[0, 1, 2, 3]"
      ]
     },
     "execution_count": 5,
     "metadata": {},
     "output_type": "execute_result"
    }
   ],
   "source": [
    "list(s.index)"
   ]
  },
  {
   "cell_type": "code",
   "execution_count": 6,
   "id": "f40360e3-4c86-4964-a093-dc98349aa93e",
   "metadata": {},
   "outputs": [
    {
     "data": {
      "text/plain": [
       "array([ 909976, 8615246, 2872086, 2273305])"
      ]
     },
     "execution_count": 6,
     "metadata": {},
     "output_type": "execute_result"
    }
   ],
   "source": [
    "s.values"
   ]
  },
  {
   "cell_type": "markdown",
   "id": "51123e33-8965-4b1f-b8d3-e58baebe8610",
   "metadata": {},
   "source": [
    "While using integer-indexed arrays or data series is a fully functional representation\n",
    "of the data, it is not descriptive. For example, if the data represents the population of four\n",
    "European capitals, it is convenient and descriptive to use the city names as indices rather\n",
    "than integers. With a `Series` object this is possible, and we can assign the index attribute\n",
    "of a `Series` object to a list with new indices to accomplish this. We can also set the name\n",
    "attribute of the `Series` object, to give it a descriptive name"
   ]
  },
  {
   "cell_type": "code",
   "execution_count": 7,
   "id": "df73d4dd-0761-45b6-980c-9181bd48ba6e",
   "metadata": {},
   "outputs": [
    {
     "data": {
      "text/plain": [
       "Stockholm     909976\n",
       "London       8615246\n",
       "Rome         2872086\n",
       "Paris        2273305\n",
       "Name: Population, dtype: int64"
      ]
     },
     "execution_count": 7,
     "metadata": {},
     "output_type": "execute_result"
    }
   ],
   "source": [
    "s.index = [\"Stockholm\", \"London\", \"Rome\", \"Paris\"]\n",
    "s.name = \"Population\"\n",
    "\n",
    "s"
   ]
  },
  {
   "cell_type": "markdown",
   "id": "281e93dd-ed96-4503-9c79-0b1575d41242",
   "metadata": {},
   "source": [
    "It is now immediately obvious what the data represents. Alternatively, we can also set\n",
    "the `index` and `name` attributes through keyword arguments to the `Series` object when it\n",
    "is created:"
   ]
  },
  {
   "cell_type": "code",
   "execution_count": 8,
   "id": "64638fab-bfda-44ab-9ead-a30c0c6db3fc",
   "metadata": {},
   "outputs": [
    {
     "data": {
      "text/plain": [
       "Stockholm     909976\n",
       "London       8615246\n",
       "Rome         2872086\n",
       "Paris        2273305\n",
       "Name: Population, dtype: int64"
      ]
     },
     "execution_count": 8,
     "metadata": {},
     "output_type": "execute_result"
    }
   ],
   "source": [
    "s = pd.Series(\n",
    "    [909976, 8615246, 2872086, 2273305],\n",
    "    name=\"Population\",\n",
    "    index=[\"Stockholm\", \"London\", \"Rome\", \"Paris\"],\n",
    ")\n",
    "\n",
    "s"
   ]
  },
  {
   "cell_type": "markdown",
   "id": "bb4f8dda-b3c0-40e6-b8f1-e9427960b326",
   "metadata": {},
   "source": [
    "We can access elements in a Series by indexing with the corresponding index (label)\n",
    "or directly through an attribute with the same name as the index (if the index label is a\n",
    "valid Python symbol name):"
   ]
  },
  {
   "cell_type": "code",
   "execution_count": 9,
   "id": "cf5403d8-18de-4056-9cf5-b8641ee76830",
   "metadata": {},
   "outputs": [
    {
     "data": {
      "text/plain": [
       "8615246"
      ]
     },
     "execution_count": 9,
     "metadata": {},
     "output_type": "execute_result"
    }
   ],
   "source": [
    "s[\"London\"]"
   ]
  },
  {
   "cell_type": "code",
   "execution_count": 10,
   "id": "e72d7c7b-3be5-4986-900c-dc7fa434ff9c",
   "metadata": {},
   "outputs": [
    {
     "data": {
      "text/plain": [
       "909976"
      ]
     },
     "execution_count": 10,
     "metadata": {},
     "output_type": "execute_result"
    }
   ],
   "source": [
    "s.Stockholm"
   ]
  },
  {
   "cell_type": "markdown",
   "id": "71897bc7-7fa5-4736-8807-46f334a3930a",
   "metadata": {},
   "source": [
    "Indexing a `Series` object with a list of indices gives a new `Series` object with a subset\n",
    "of the original data (corresponding to the provided list of indices):"
   ]
  },
  {
   "cell_type": "code",
   "execution_count": 11,
   "id": "b5d3aad9-5603-4e17-821e-61fe5432d2be",
   "metadata": {},
   "outputs": [
    {
     "data": {
      "text/plain": [
       "Paris    2273305\n",
       "Rome     2872086\n",
       "Name: Population, dtype: int64"
      ]
     },
     "execution_count": 11,
     "metadata": {},
     "output_type": "execute_result"
    }
   ],
   "source": [
    "s[[\"Paris\", \"Rome\"]]"
   ]
  },
  {
   "cell_type": "markdown",
   "id": "4a87633b-033f-49f8-b737-169b81cd38bc",
   "metadata": {},
   "source": [
    "With a data series represented as a `Series` object, we can easily compute its\n",
    "descriptive statistics using the `Series` methods `count` (the number of data points),\n",
    "`median` (calculate the median), `mean` (calculate the mean value), `std` (calculate the\n",
    "standard deviation), `min` and `max` (minimum and maximum values), and the quantile\n",
    "(for calculating quantiles):"
   ]
  },
  {
   "cell_type": "code",
   "execution_count": 12,
   "id": "b31b9119-af56-4f04-9c05-89a9c0d29fc5",
   "metadata": {},
   "outputs": [
    {
     "data": {
      "text/plain": [
       "(2572695.5, 3667653.25, 3399048.5005155364)"
      ]
     },
     "execution_count": 12,
     "metadata": {},
     "output_type": "execute_result"
    }
   ],
   "source": [
    "s.median(), s.mean(), s.std()"
   ]
  },
  {
   "cell_type": "code",
   "execution_count": 13,
   "id": "d486f4e5-8ed0-4ee2-ab37-34f37533b0d1",
   "metadata": {},
   "outputs": [
    {
     "data": {
      "text/plain": [
       "(909976, 8615246)"
      ]
     },
     "execution_count": 13,
     "metadata": {},
     "output_type": "execute_result"
    }
   ],
   "source": [
    "s.min(), s.max()"
   ]
  },
  {
   "cell_type": "code",
   "execution_count": 14,
   "id": "e670f4b5-c2d0-4122-ad41-4c20c3d93ba3",
   "metadata": {},
   "outputs": [
    {
     "data": {
      "text/plain": [
       "(1932472.75, 2572695.5, 4307876.0)"
      ]
     },
     "execution_count": 14,
     "metadata": {},
     "output_type": "execute_result"
    }
   ],
   "source": [
    "s.quantile(q=0.25), s.quantile(q=0.5), s.quantile(q=0.75)"
   ]
  },
  {
   "cell_type": "markdown",
   "id": "4351fbbf-e4dd-48fc-99dc-f5e5bfb60af5",
   "metadata": {},
   "source": [
    "All of the preceding data are combined in the output of the `describe` method, which\n",
    "provides a summary of the data represented by a `Series` object:"
   ]
  },
  {
   "cell_type": "code",
   "execution_count": 15,
   "id": "4538ed6a-8d57-4df8-ac06-787edec0722b",
   "metadata": {},
   "outputs": [
    {
     "data": {
      "text/plain": [
       "count    4.000000e+00\n",
       "mean     3.667653e+06\n",
       "std      3.399049e+06\n",
       "min      9.099760e+05\n",
       "25%      1.932473e+06\n",
       "50%      2.572696e+06\n",
       "75%      4.307876e+06\n",
       "max      8.615246e+06\n",
       "Name: Population, dtype: float64"
      ]
     },
     "execution_count": 15,
     "metadata": {},
     "output_type": "execute_result"
    }
   ],
   "source": [
    "s.describe()"
   ]
  },
  {
   "cell_type": "markdown",
   "id": "c9ddd9c9-4ddf-40f0-981d-e43c9f465a18",
   "metadata": {},
   "source": [
    "Using the `plot` method, we can quickly and easily produce graphs that visualize\n",
    "the data in a `Series` object. The pandas library uses `Matplotlib` for plotting, and we can\n",
    "optionally pass a `Matplotlib` Axes instance to the plot method via the ax argument. The\n",
    "type of the graph is specified using the kind argument (valid options are line, hist, bar,\n",
    "barh, box, kde, density, area, and pie)."
   ]
  },
  {
   "cell_type": "code",
   "execution_count": 16,
   "id": "2b3de640-5329-4b4e-b79f-caf287eb40a5",
   "metadata": {},
   "outputs": [
    {
     "data": {
      "text/plain": [
       "<AxesSubplot:title={'center':'pie'}, ylabel='Population'>"
      ]
     },
     "execution_count": 16,
     "metadata": {},
     "output_type": "execute_result"
    },
    {
     "data": {
      "image/png": "[encoded data removed]",
      "text/plain": [
       "<Figure size 864x216 with 4 Axes>"
      ]
     },
     "metadata": {},
     "output_type": "display_data"
    }
   ],
   "source": [
    "# Create subplots\n",
    "fig, axes = plt.subplots(1, 4, figsize=(12, 3))\n",
    "\n",
    "# Provide axes to the `s.plot`\n",
    "s.plot(ax=axes[0], kind=\"line\", title=\"line\")\n",
    "s.plot(ax=axes[1], kind=\"bar\", title=\"bar\")\n",
    "s.plot(ax=axes[2], kind=\"box\", title=\"box\")\n",
    "s.plot(ax=axes[3], kind=\"pie\", title=\"pie\")"
   ]
  },
  {
   "cell_type": "markdown",
   "id": "47caac44-7922-4bdd-8c8f-0e894f1ed172",
   "metadata": {},
   "source": [
    "> Examples of plot styles that can be produced with Pandas using the `Series.plot` method"
   ]
  },
  {
   "cell_type": "markdown",
   "id": "6e8af60b-f377-4803-972a-bb1a87a483a9",
   "metadata": {},
   "source": [
    "# DataFrame"
   ]
  },
  {
   "cell_type": "markdown",
   "id": "2eddf836-e06c-44d8-bbb7-81a0b992669b",
   "metadata": {},
   "source": [
    "As we have seen in the previous examples, a pandas `Series` object provides a\n",
    "convenient container for one-dimensional arrays, which can use descriptive labels for\n",
    "the elements and which provides quick access to descriptive statistics and visualization.\n",
    "For higher-dimensional arrays (mainly two-dimensional arrays, or tables), the\n",
    "corresponding data structure is the Pandas `DataFrame` object. It can be viewed as a\n",
    "collection of `Series` objects with a common index.\n",
    "\n",
    "There are numerous ways to initialize a `DataFrame`. For simple examples, the easiest\n",
    "way is to pass a nested Python list or dictionary to the constructor of the `DataFrame`\n",
    "object. For example, consider an extension of the dataset we used in the previous\n",
    "section, where, in addition to the population of each city, we also include a column that\n",
    "specifies which state each city belongs to. We can create the corresponding `DataFrame`\n",
    "object in the following way:"
   ]
  },
  {
   "cell_type": "code",
   "execution_count": 17,
   "id": "1f72207a-2dbb-4b8a-964b-74e33a39dea9",
   "metadata": {},
   "outputs": [
    {
     "data": {
      "text/html": [
       "<div>\n",
       "<style scoped>\n",
       "    .dataframe tbody tr th:only-of-type {\n",
       "        vertical-align: middle;\n",
       "    }\n",
       "\n",
       "    .dataframe tbody tr th {\n",
       "        vertical-align: top;\n",
       "    }\n",
       "\n",
       "    .dataframe thead th {\n",
       "        text-align: right;\n",
       "    }\n",
       "</style>\n",
       "<table border=\"1\" class=\"dataframe\">\n",
       "  <thead>\n",
       "    <tr style=\"text-align: right;\">\n",
       "      <th></th>\n",
       "      <th>0</th>\n",
       "      <th>1</th>\n",
       "    </tr>\n",
       "  </thead>\n",
       "  <tbody>\n",
       "    <tr>\n",
       "      <th>0</th>\n",
       "      <td>909976</td>\n",
       "      <td>Sweden</td>\n",
       "    </tr>\n",
       "    <tr>\n",
       "      <th>1</th>\n",
       "      <td>8615246</td>\n",
       "      <td>United Kingdom</td>\n",
       "    </tr>\n",
       "    <tr>\n",
       "      <th>2</th>\n",
       "      <td>2872086</td>\n",
       "      <td>Italy</td>\n",
       "    </tr>\n",
       "    <tr>\n",
       "      <th>3</th>\n",
       "      <td>2273305</td>\n",
       "      <td>France</td>\n",
       "    </tr>\n",
       "  </tbody>\n",
       "</table>\n",
       "</div>"
      ],
      "text/plain": [
       "         0               1\n",
       "0   909976          Sweden\n",
       "1  8615246  United Kingdom\n",
       "2  2872086           Italy\n",
       "3  2273305          France"
      ]
     },
     "execution_count": 17,
     "metadata": {},
     "output_type": "execute_result"
    }
   ],
   "source": [
    "df = pd.DataFrame(\n",
    "    [\n",
    "        [909976, \"Sweden\"],\n",
    "        [8615246, \"United Kingdom\"],\n",
    "        [2872086, \"Italy\"],\n",
    "        [2273305, \"France\"],\n",
    "    ]\n",
    ")\n",
    "\n",
    "df"
   ]
  },
  {
   "cell_type": "markdown",
   "id": "6870cf02-9301-48b3-8d8f-3a67fd1cc292",
   "metadata": {},
   "source": [
    "The result is a tabular data structure with rows and columns. Like with a `Series`\n",
    "object, we can use labeled indexing for rows by assigning a sequence of labels to the\n",
    "index attribute, and, in addition, we can set the columns attribute to a sequence of labels\n",
    "for the columns:"
   ]
  },
  {
   "cell_type": "code",
   "execution_count": 18,
   "id": "34c29b32-9755-4f67-b4f8-098fa964e2da",
   "metadata": {},
   "outputs": [
    {
     "data": {
      "text/html": [
       "<div>\n",
       "<style scoped>\n",
       "    .dataframe tbody tr th:only-of-type {\n",
       "        vertical-align: middle;\n",
       "    }\n",
       "\n",
       "    .dataframe tbody tr th {\n",
       "        vertical-align: top;\n",
       "    }\n",
       "\n",
       "    .dataframe thead th {\n",
       "        text-align: right;\n",
       "    }\n",
       "</style>\n",
       "<table border=\"1\" class=\"dataframe\">\n",
       "  <thead>\n",
       "    <tr style=\"text-align: right;\">\n",
       "      <th></th>\n",
       "      <th>Population</th>\n",
       "      <th>State</th>\n",
       "    </tr>\n",
       "  </thead>\n",
       "  <tbody>\n",
       "    <tr>\n",
       "      <th>Stockholm</th>\n",
       "      <td>909976</td>\n",
       "      <td>Sweden</td>\n",
       "    </tr>\n",
       "    <tr>\n",
       "      <th>London</th>\n",
       "      <td>8615246</td>\n",
       "      <td>United Kingdom</td>\n",
       "    </tr>\n",
       "    <tr>\n",
       "      <th>Rome</th>\n",
       "      <td>2872086</td>\n",
       "      <td>Italy</td>\n",
       "    </tr>\n",
       "    <tr>\n",
       "      <th>Paris</th>\n",
       "      <td>2273305</td>\n",
       "      <td>France</td>\n",
       "    </tr>\n",
       "  </tbody>\n",
       "</table>\n",
       "</div>"
      ],
      "text/plain": [
       "           Population           State\n",
       "Stockholm      909976          Sweden\n",
       "London        8615246  United Kingdom\n",
       "Rome          2872086           Italy\n",
       "Paris         2273305          France"
      ]
     },
     "execution_count": 18,
     "metadata": {},
     "output_type": "execute_result"
    }
   ],
   "source": [
    "df.index = [\"Stockholm\", \"London\", \"Rome\", \"Paris\"]\n",
    "df.columns = [\"Population\", \"State\"]\n",
    "\n",
    "df"
   ]
  },
  {
   "cell_type": "markdown",
   "id": "4f51d986-6465-45cd-ae30-ab3241223e79",
   "metadata": {},
   "source": [
    "The index and columns attributes can also be set using the corresponding keyword\n",
    "arguments to the `DataFrame` object when it is created:"
   ]
  },
  {
   "cell_type": "code",
   "execution_count": 19,
   "id": "5ec8e991-1300-4215-8f23-fc97c1072c20",
   "metadata": {},
   "outputs": [
    {
     "data": {
      "text/html": [
       "<div>\n",
       "<style scoped>\n",
       "    .dataframe tbody tr th:only-of-type {\n",
       "        vertical-align: middle;\n",
       "    }\n",
       "\n",
       "    .dataframe tbody tr th {\n",
       "        vertical-align: top;\n",
       "    }\n",
       "\n",
       "    .dataframe thead th {\n",
       "        text-align: right;\n",
       "    }\n",
       "</style>\n",
       "<table border=\"1\" class=\"dataframe\">\n",
       "  <thead>\n",
       "    <tr style=\"text-align: right;\">\n",
       "      <th></th>\n",
       "      <th>Population</th>\n",
       "      <th>State</th>\n",
       "    </tr>\n",
       "  </thead>\n",
       "  <tbody>\n",
       "    <tr>\n",
       "      <th>Stockholm</th>\n",
       "      <td>909976</td>\n",
       "      <td>Sweden</td>\n",
       "    </tr>\n",
       "    <tr>\n",
       "      <th>London</th>\n",
       "      <td>8615246</td>\n",
       "      <td>United Kingdom</td>\n",
       "    </tr>\n",
       "    <tr>\n",
       "      <th>Rome</th>\n",
       "      <td>2872086</td>\n",
       "      <td>Italy</td>\n",
       "    </tr>\n",
       "    <tr>\n",
       "      <th>Paris</th>\n",
       "      <td>2273305</td>\n",
       "      <td>France</td>\n",
       "    </tr>\n",
       "  </tbody>\n",
       "</table>\n",
       "</div>"
      ],
      "text/plain": [
       "           Population           State\n",
       "Stockholm      909976          Sweden\n",
       "London        8615246  United Kingdom\n",
       "Rome          2872086           Italy\n",
       "Paris         2273305          France"
      ]
     },
     "execution_count": 19,
     "metadata": {},
     "output_type": "execute_result"
    }
   ],
   "source": [
    "df = pd.DataFrame(\n",
    "    [\n",
    "        [909976, \"Sweden\"],\n",
    "        [8615246, \"United Kingdom\"],\n",
    "        [2872086, \"Italy\"],\n",
    "        [2273305, \"France\"],\n",
    "    ],\n",
    "    index=[\"Stockholm\", \"London\", \"Rome\", \"Paris\"],\n",
    "    columns=[\"Population\", \"State\"],\n",
    ")\n",
    "\n",
    "df"
   ]
  },
  {
   "cell_type": "markdown",
   "id": "f4b5c07c-0d19-442b-a930-97ff9d24c048",
   "metadata": {},
   "source": [
    "An alternative way to create the same data frame, which sometimes can be more\n",
    "convenient, is to pass a dictionary with column titles as keys and column data as values:"
   ]
  },
  {
   "cell_type": "code",
   "execution_count": 20,
   "id": "c6193c1d-e2c8-403d-b9b2-2a576019ecdd",
   "metadata": {},
   "outputs": [
    {
     "data": {
      "text/html": [
       "<div>\n",
       "<style scoped>\n",
       "    .dataframe tbody tr th:only-of-type {\n",
       "        vertical-align: middle;\n",
       "    }\n",
       "\n",
       "    .dataframe tbody tr th {\n",
       "        vertical-align: top;\n",
       "    }\n",
       "\n",
       "    .dataframe thead th {\n",
       "        text-align: right;\n",
       "    }\n",
       "</style>\n",
       "<table border=\"1\" class=\"dataframe\">\n",
       "  <thead>\n",
       "    <tr style=\"text-align: right;\">\n",
       "      <th></th>\n",
       "      <th>Population</th>\n",
       "      <th>State</th>\n",
       "    </tr>\n",
       "  </thead>\n",
       "  <tbody>\n",
       "    <tr>\n",
       "      <th>Stockholm</th>\n",
       "      <td>909976</td>\n",
       "      <td>Sweden</td>\n",
       "    </tr>\n",
       "    <tr>\n",
       "      <th>London</th>\n",
       "      <td>8615246</td>\n",
       "      <td>United Kingdom</td>\n",
       "    </tr>\n",
       "    <tr>\n",
       "      <th>Rome</th>\n",
       "      <td>2872086</td>\n",
       "      <td>Italy</td>\n",
       "    </tr>\n",
       "    <tr>\n",
       "      <th>Paris</th>\n",
       "      <td>2273305</td>\n",
       "      <td>France</td>\n",
       "    </tr>\n",
       "  </tbody>\n",
       "</table>\n",
       "</div>"
      ],
      "text/plain": [
       "           Population           State\n",
       "Stockholm      909976          Sweden\n",
       "London        8615246  United Kingdom\n",
       "Rome          2872086           Italy\n",
       "Paris         2273305          France"
      ]
     },
     "execution_count": 20,
     "metadata": {},
     "output_type": "execute_result"
    }
   ],
   "source": [
    "df = pd.DataFrame(\n",
    "    {\n",
    "        \"Population\": [909976, 8615246, 2872086, 2273305],\n",
    "        \"State\": [\"Sweden\", \"United Kingdom\", \"Italy\", \"France\"],\n",
    "    },\n",
    "    index=[\"Stockholm\", \"London\", \"Rome\", \"Paris\"],\n",
    ")\n",
    "\n",
    "df"
   ]
  },
  {
   "cell_type": "code",
   "execution_count": 21,
   "id": "52fc49de-c4ed-47b7-a4df-4ad834a2e3de",
   "metadata": {},
   "outputs": [
    {
     "data": {
      "text/plain": [
       "Stockholm     909976\n",
       "London       8615246\n",
       "Rome         2872086\n",
       "Paris        2273305\n",
       "Name: Population, dtype: int64"
      ]
     },
     "execution_count": 21,
     "metadata": {},
     "output_type": "execute_result"
    }
   ],
   "source": [
    "df.Population"
   ]
  },
  {
   "cell_type": "code",
   "execution_count": 22,
   "id": "74d864dc-c342-4039-ac85-cbac998d3e28",
   "metadata": {},
   "outputs": [
    {
     "data": {
      "text/plain": [
       "Stockholm            Sweden\n",
       "London       United Kingdom\n",
       "Rome                  Italy\n",
       "Paris                France\n",
       "Name: State, dtype: object"
      ]
     },
     "execution_count": 22,
     "metadata": {},
     "output_type": "execute_result"
    }
   ],
   "source": [
    "df.State"
   ]
  },
  {
   "cell_type": "markdown",
   "id": "00e75255-b363-4970-b0c8-af64c51fbadb",
   "metadata": {},
   "source": [
    "The result of extracting a column from a `DataFrame` is a new `Series` object, which we\n",
    "can process and manipulate with the methods discussed in the previous section. Rows of a\n",
    "`DataFrame` instance can be accessed using the `loc` indexer attribute. Indexing this attribute\n",
    "also results in a Series object, which corresponds to a row of the original data frame:"
   ]
  },
  {
   "cell_type": "code",
   "execution_count": 23,
   "id": "f1f1d0a0-9ca9-4066-bf7f-8db18e6f3c7a",
   "metadata": {},
   "outputs": [
    {
     "data": {
      "text/plain": [
       "Population    909976\n",
       "State         Sweden\n",
       "Name: Stockholm, dtype: object"
      ]
     },
     "execution_count": 23,
     "metadata": {},
     "output_type": "execute_result"
    }
   ],
   "source": [
    "df.loc[\"Stockholm\"]"
   ]
  },
  {
   "cell_type": "markdown",
   "id": "b92660cb-bca4-4dff-b7f3-23e605d1ad1d",
   "metadata": {},
   "source": [
    "Passing a `list` of row labels to the `loc` indexer results in a new `DataFrame` that is a\n",
    "subset of the original `DataFrame`, containing only the selected rows:"
   ]
  },
  {
   "cell_type": "code",
   "execution_count": 24,
   "id": "9c9134b0-6324-48f7-ab3c-ad930c0e8aee",
   "metadata": {},
   "outputs": [
    {
     "data": {
      "text/html": [
       "<div>\n",
       "<style scoped>\n",
       "    .dataframe tbody tr th:only-of-type {\n",
       "        vertical-align: middle;\n",
       "    }\n",
       "\n",
       "    .dataframe tbody tr th {\n",
       "        vertical-align: top;\n",
       "    }\n",
       "\n",
       "    .dataframe thead th {\n",
       "        text-align: right;\n",
       "    }\n",
       "</style>\n",
       "<table border=\"1\" class=\"dataframe\">\n",
       "  <thead>\n",
       "    <tr style=\"text-align: right;\">\n",
       "      <th></th>\n",
       "      <th>Population</th>\n",
       "      <th>State</th>\n",
       "    </tr>\n",
       "  </thead>\n",
       "  <tbody>\n",
       "    <tr>\n",
       "      <th>Paris</th>\n",
       "      <td>2273305</td>\n",
       "      <td>France</td>\n",
       "    </tr>\n",
       "    <tr>\n",
       "      <th>Rome</th>\n",
       "      <td>2872086</td>\n",
       "      <td>Italy</td>\n",
       "    </tr>\n",
       "  </tbody>\n",
       "</table>\n",
       "</div>"
      ],
      "text/plain": [
       "       Population   State\n",
       "Paris     2273305  France\n",
       "Rome      2872086   Italy"
      ]
     },
     "execution_count": 24,
     "metadata": {},
     "output_type": "execute_result"
    }
   ],
   "source": [
    "df.loc[[\"Paris\", \"Rome\"]]"
   ]
  },
  {
   "cell_type": "markdown",
   "id": "2bdde3a1-0659-4c2e-adc2-264d16997d4a",
   "metadata": {},
   "source": [
    "The `loc` indexer can also be used to select both rows and columns simultaneously,\n",
    "by first passing a row label (or a list thereof) and second a column label (or a list\n",
    "thereof). The result is a `DataFrame`, a `Series`, or an element value, depending on the\n",
    "number of columns and rows that are selected:"
   ]
  },
  {
   "cell_type": "code",
   "execution_count": 25,
   "id": "317b4171-5298-49db-8d29-f24194e6fd0f",
   "metadata": {},
   "outputs": [
    {
     "data": {
      "text/plain": [
       "Paris    2273305\n",
       "Rome     2872086\n",
       "Name: Population, dtype: int64"
      ]
     },
     "execution_count": 25,
     "metadata": {},
     "output_type": "execute_result"
    }
   ],
   "source": [
    "df.loc[[\"Paris\", \"Rome\"], \"Population\"]"
   ]
  },
  {
   "cell_type": "markdown",
   "id": "f6c149a2-9a2e-471c-a9a3-81b7b0615314",
   "metadata": {},
   "source": [
    "We can compute descriptive statistics using the same methods as we already used\n",
    "for `Series` objects. When invoking those methods (mean, std, median, min, max, etc.) for a\n",
    "`DataFrame`, the calculation is performed for each column with numerical data types:"
   ]
  },
  {
   "cell_type": "code",
   "execution_count": 26,
   "id": "7bde0832-bcb7-47ad-90ea-43c725f57015",
   "metadata": {},
   "outputs": [
    {
     "data": {
      "text/plain": [
       "3667653.25"
      ]
     },
     "execution_count": 26,
     "metadata": {},
     "output_type": "execute_result"
    }
   ],
   "source": [
    "df.Population.mean()"
   ]
  },
  {
   "cell_type": "markdown",
   "id": "bb06b1d5-3974-4d6b-9a7c-abbe954cf891",
   "metadata": {},
   "source": [
    "In this case, only one of the two columns has a numerical data type (the one named\n",
    "Population). Using the `DataFrame` method info and the attribute `dtypes`, we can obtain\n",
    "a summary of the content in a `DataFrame` and the data types of each column:"
   ]
  },
  {
   "cell_type": "code",
   "execution_count": 27,
   "id": "e66e3059-0e1e-483b-83ac-41942a933a62",
   "metadata": {},
   "outputs": [
    {
     "name": "stdout",
     "output_type": "stream",
     "text": [
      "<class 'pandas.core.frame.DataFrame'>\n",
      "Index: 4 entries, Stockholm to Paris\n",
      "Data columns (total 2 columns):\n",
      " #   Column      Non-Null Count  Dtype \n",
      "---  ------      --------------  ----- \n",
      " 0   Population  4 non-null      int64 \n",
      " 1   State       4 non-null      object\n",
      "dtypes: int64(1), object(1)\n",
      "memory usage: 268.0+ bytes\n"
     ]
    }
   ],
   "source": [
    "df.info()"
   ]
  },
  {
   "cell_type": "code",
   "execution_count": 28,
   "id": "fde11d59-bcbb-4dd7-be19-4058324c7559",
   "metadata": {},
   "outputs": [
    {
     "data": {
      "text/plain": [
       "Population     int64\n",
       "State         object\n",
       "dtype: object"
      ]
     },
     "execution_count": 28,
     "metadata": {},
     "output_type": "execute_result"
    }
   ],
   "source": [
    "df.dtypes"
   ]
  },
  {
   "cell_type": "code",
   "execution_count": 39,
   "id": "69294fa5-c96b-4264-a669-258e5feabb40",
   "metadata": {},
   "outputs": [],
   "source": [
    "df_pop = pd.read_csv(\"./european_cities.csv\", delimiter=\",\", encoding=\"utf-8\", header=0)"
   ]
  },
  {
   "cell_type": "markdown",
   "id": "3e012aae-19b4-4b95-ba6c-9752e3c7c90a",
   "metadata": {},
   "source": [
    "This dataset is similar to the example data we used earlier in this chapter, but here\n",
    "there are additional columns and many more rows for other cities. Once a dataset is read\n",
    "into a `DataFrame` object, it is useful to start by inspecting the summary given by the info\n",
    "method, to begin forming an idea of the properties of the dataset."
   ]
  },
  {
   "cell_type": "code",
   "execution_count": 40,
   "id": "477297bd-624a-4e62-8edb-da08a9bbbcab",
   "metadata": {},
   "outputs": [
    {
     "name": "stdout",
     "output_type": "stream",
     "text": [
      "<class 'pandas.core.frame.DataFrame'>\n",
      "RangeIndex: 105 entries, 0 to 104\n",
      "Data columns (total 5 columns):\n",
      " #   Column                   Non-Null Count  Dtype \n",
      "---  ------                   --------------  ----- \n",
      " 0   Rank                     105 non-null    int64 \n",
      " 1   City                     105 non-null    object\n",
      " 2   State                    105 non-null    object\n",
      " 3   Population               105 non-null    object\n",
      " 4   Date of census/estimate  105 non-null    object\n",
      "dtypes: int64(1), object(4)\n",
      "memory usage: 4.2+ KB\n"
     ]
    }
   ],
   "source": [
    "df_pop.info()"
   ]
  },
  {
   "cell_type": "markdown",
   "id": "a08e5cb3-510b-49dc-b263-43ccfcf7418c",
   "metadata": {},
   "source": [
    "Here we see that there are 105 rows in this dataset and that it has five columns. Only\n",
    "the `Rank` column is of a numerical data type. In particular, the `Population` column is\n",
    "not yet of numeric data type because its values are of the format \"8,615,246\" and is\n",
    "therefore interpreted as string values by the `read_csv` function. It is also informative\n",
    "to display a tabular view of the data. However, this dataset is too large to display in full,\n",
    "and in situations like this, the head and tail methods are handy for creating a truncated\n",
    "dataset containing the first few and last few rows, respectively. Both of these functions\n",
    "take an optional argument that specifies how many rows to include in the truncated\n",
    "`DataFrame`. Note also that `df.head(n)` is equivalent to `df[:n]`, where n is an integer."
   ]
  },
  {
   "cell_type": "code",
   "execution_count": 41,
   "id": "569c5448-a87a-453b-8821-0c0921eb3ecc",
   "metadata": {},
   "outputs": [
    {
     "data": {
      "text/html": [
       "<div>\n",
       "<style scoped>\n",
       "    .dataframe tbody tr th:only-of-type {\n",
       "        vertical-align: middle;\n",
       "    }\n",
       "\n",
       "    .dataframe tbody tr th {\n",
       "        vertical-align: top;\n",
       "    }\n",
       "\n",
       "    .dataframe thead th {\n",
       "        text-align: right;\n",
       "    }\n",
       "</style>\n",
       "<table border=\"1\" class=\"dataframe\">\n",
       "  <thead>\n",
       "    <tr style=\"text-align: right;\">\n",
       "      <th></th>\n",
       "      <th>Rank</th>\n",
       "      <th>City</th>\n",
       "      <th>State</th>\n",
       "      <th>Population</th>\n",
       "      <th>Date of census/estimate</th>\n",
       "    </tr>\n",
       "  </thead>\n",
       "  <tbody>\n",
       "    <tr>\n",
       "      <th>0</th>\n",
       "      <td>1</td>\n",
       "      <td>London[2]</td>\n",
       "      <td>United Kingdom</td>\n",
       "      <td>8,615,246</td>\n",
       "      <td>1 June 2014</td>\n",
       "    </tr>\n",
       "    <tr>\n",
       "      <th>1</th>\n",
       "      <td>2</td>\n",
       "      <td>Berlin</td>\n",
       "      <td>Germany</td>\n",
       "      <td>3,437,916</td>\n",
       "      <td>31 May 2014</td>\n",
       "    </tr>\n",
       "    <tr>\n",
       "      <th>2</th>\n",
       "      <td>3</td>\n",
       "      <td>Madrid</td>\n",
       "      <td>Spain</td>\n",
       "      <td>3,165,235</td>\n",
       "      <td>1 January 2014</td>\n",
       "    </tr>\n",
       "    <tr>\n",
       "      <th>3</th>\n",
       "      <td>4</td>\n",
       "      <td>Rome</td>\n",
       "      <td>Italy</td>\n",
       "      <td>2,872,086</td>\n",
       "      <td>30 September 2014</td>\n",
       "    </tr>\n",
       "    <tr>\n",
       "      <th>4</th>\n",
       "      <td>5</td>\n",
       "      <td>Paris</td>\n",
       "      <td>France</td>\n",
       "      <td>2,273,305</td>\n",
       "      <td>1 January 2013</td>\n",
       "    </tr>\n",
       "  </tbody>\n",
       "</table>\n",
       "</div>"
      ],
      "text/plain": [
       "   Rank       City            State Population Date of census/estimate\n",
       "0     1  London[2]   United Kingdom  8,615,246             1 June 2014\n",
       "1     2     Berlin          Germany  3,437,916             31 May 2014\n",
       "2     3     Madrid            Spain  3,165,235          1 January 2014\n",
       "3     4       Rome            Italy  2,872,086       30 September 2014\n",
       "4     5      Paris           France  2,273,305          1 January 2013"
      ]
     },
     "execution_count": 41,
     "metadata": {},
     "output_type": "execute_result"
    }
   ],
   "source": [
    "df_pop.head()"
   ]
  },
  {
   "cell_type": "code",
   "execution_count": 42,
   "id": "7dc5d760-1fdf-4875-8a31-808e8f69c880",
   "metadata": {},
   "outputs": [
    {
     "data": {
      "text/html": [
       "<div>\n",
       "<style scoped>\n",
       "    .dataframe tbody tr th:only-of-type {\n",
       "        vertical-align: middle;\n",
       "    }\n",
       "\n",
       "    .dataframe tbody tr th {\n",
       "        vertical-align: top;\n",
       "    }\n",
       "\n",
       "    .dataframe thead th {\n",
       "        text-align: right;\n",
       "    }\n",
       "</style>\n",
       "<table border=\"1\" class=\"dataframe\">\n",
       "  <thead>\n",
       "    <tr style=\"text-align: right;\">\n",
       "      <th></th>\n",
       "      <th>Rank</th>\n",
       "      <th>City</th>\n",
       "      <th>State</th>\n",
       "      <th>Population</th>\n",
       "      <th>Date of census/estimate</th>\n",
       "    </tr>\n",
       "  </thead>\n",
       "  <tbody>\n",
       "    <tr>\n",
       "      <th>0</th>\n",
       "      <td>1</td>\n",
       "      <td>London[2]</td>\n",
       "      <td>United Kingdom</td>\n",
       "      <td>8,615,246</td>\n",
       "      <td>1 June 2014</td>\n",
       "    </tr>\n",
       "    <tr>\n",
       "      <th>1</th>\n",
       "      <td>2</td>\n",
       "      <td>Berlin</td>\n",
       "      <td>Germany</td>\n",
       "      <td>3,437,916</td>\n",
       "      <td>31 May 2014</td>\n",
       "    </tr>\n",
       "    <tr>\n",
       "      <th>2</th>\n",
       "      <td>3</td>\n",
       "      <td>Madrid</td>\n",
       "      <td>Spain</td>\n",
       "      <td>3,165,235</td>\n",
       "      <td>1 January 2014</td>\n",
       "    </tr>\n",
       "    <tr>\n",
       "      <th>3</th>\n",
       "      <td>4</td>\n",
       "      <td>Rome</td>\n",
       "      <td>Italy</td>\n",
       "      <td>2,872,086</td>\n",
       "      <td>30 September 2014</td>\n",
       "    </tr>\n",
       "    <tr>\n",
       "      <th>4</th>\n",
       "      <td>5</td>\n",
       "      <td>Paris</td>\n",
       "      <td>France</td>\n",
       "      <td>2,273,305</td>\n",
       "      <td>1 January 2013</td>\n",
       "    </tr>\n",
       "  </tbody>\n",
       "</table>\n",
       "</div>"
      ],
      "text/plain": [
       "   Rank       City            State Population Date of census/estimate\n",
       "0     1  London[2]   United Kingdom  8,615,246             1 June 2014\n",
       "1     2     Berlin          Germany  3,437,916             31 May 2014\n",
       "2     3     Madrid            Spain  3,165,235          1 January 2014\n",
       "3     4       Rome            Italy  2,872,086       30 September 2014\n",
       "4     5      Paris           France  2,273,305          1 January 2013"
      ]
     },
     "execution_count": 42,
     "metadata": {},
     "output_type": "execute_result"
    }
   ],
   "source": [
    "# The same way to read 5 from the head\n",
    "df_pop[:5]"
   ]
  },
  {
   "cell_type": "markdown",
   "id": "4503d3f5-68de-4feb-8a3c-f6bbcf164cfb",
   "metadata": {},
   "source": [
    "Displaying a truncated `DataFrame` gives a good idea of how the data look like and\n",
    "what remains to be done before the data is ready for analysis. It is common to have\n",
    "to transform columns in one way or another and to reorder the table by sorting by a\n",
    "specific column or by ordering the index. In the following we explore some methods\n",
    "for modifying `DataFrame` objects. First of all, we can create new columns and update\n",
    "columns in a `DataFrame` simply by assigning a `Series` object to the `DataFrame` indexed\n",
    "by the column name, and we can delete columns using the Python `del` keyword.\n",
    "The apply method is a powerful tool to transform the content in a column. It creates\n",
    "and returns a new `Series` object for which a function passed to apply has been applied\n",
    "to each element in the original column. For example, we can use the apply method to\n",
    "transform the elements in the `Population` column from strings to integers, by passing a\n",
    "lambda function that removes the \",\" characters from the strings and casts the results\n",
    "to an integer. Here we assign the transformed column to a new column with the name\n",
    "NumericPopulation. Using the same method, we also tidy up the `State` values by\n",
    "removing extra white spaces in its elements using the string method `strip`."
   ]
  },
  {
   "cell_type": "code",
   "execution_count": 43,
   "id": "673b619c-f8d3-431e-b97e-8e596708b2b8",
   "metadata": {},
   "outputs": [
    {
     "data": {
      "text/html": [
       "<div>\n",
       "<style scoped>\n",
       "    .dataframe tbody tr th:only-of-type {\n",
       "        vertical-align: middle;\n",
       "    }\n",
       "\n",
       "    .dataframe tbody tr th {\n",
       "        vertical-align: top;\n",
       "    }\n",
       "\n",
       "    .dataframe thead th {\n",
       "        text-align: right;\n",
       "    }\n",
       "</style>\n",
       "<table border=\"1\" class=\"dataframe\">\n",
       "  <thead>\n",
       "    <tr style=\"text-align: right;\">\n",
       "      <th></th>\n",
       "      <th>Rank</th>\n",
       "      <th>City</th>\n",
       "      <th>State</th>\n",
       "      <th>Population</th>\n",
       "      <th>Date of census/estimate</th>\n",
       "      <th>Numeric Population</th>\n",
       "    </tr>\n",
       "  </thead>\n",
       "  <tbody>\n",
       "    <tr>\n",
       "      <th>0</th>\n",
       "      <td>1</td>\n",
       "      <td>London[2]</td>\n",
       "      <td>United Kingdom</td>\n",
       "      <td>8,615,246</td>\n",
       "      <td>1 June 2014</td>\n",
       "      <td>8615246</td>\n",
       "    </tr>\n",
       "    <tr>\n",
       "      <th>1</th>\n",
       "      <td>2</td>\n",
       "      <td>Berlin</td>\n",
       "      <td>Germany</td>\n",
       "      <td>3,437,916</td>\n",
       "      <td>31 May 2014</td>\n",
       "      <td>3437916</td>\n",
       "    </tr>\n",
       "    <tr>\n",
       "      <th>2</th>\n",
       "      <td>3</td>\n",
       "      <td>Madrid</td>\n",
       "      <td>Spain</td>\n",
       "      <td>3,165,235</td>\n",
       "      <td>1 January 2014</td>\n",
       "      <td>3165235</td>\n",
       "    </tr>\n",
       "    <tr>\n",
       "      <th>3</th>\n",
       "      <td>4</td>\n",
       "      <td>Rome</td>\n",
       "      <td>Italy</td>\n",
       "      <td>2,872,086</td>\n",
       "      <td>30 September 2014</td>\n",
       "      <td>2872086</td>\n",
       "    </tr>\n",
       "    <tr>\n",
       "      <th>4</th>\n",
       "      <td>5</td>\n",
       "      <td>Paris</td>\n",
       "      <td>France</td>\n",
       "      <td>2,273,305</td>\n",
       "      <td>1 January 2013</td>\n",
       "      <td>2273305</td>\n",
       "    </tr>\n",
       "  </tbody>\n",
       "</table>\n",
       "</div>"
      ],
      "text/plain": [
       "   Rank       City            State Population Date of census/estimate  \\\n",
       "0     1  London[2]   United Kingdom  8,615,246             1 June 2014   \n",
       "1     2     Berlin          Germany  3,437,916             31 May 2014   \n",
       "2     3     Madrid            Spain  3,165,235          1 January 2014   \n",
       "3     4       Rome            Italy  2,872,086       30 September 2014   \n",
       "4     5      Paris           France  2,273,305          1 January 2013   \n",
       "\n",
       "   Numeric Population  \n",
       "0             8615246  \n",
       "1             3437916  \n",
       "2             3165235  \n",
       "3             2872086  \n",
       "4             2273305  "
      ]
     },
     "execution_count": 43,
     "metadata": {},
     "output_type": "execute_result"
    }
   ],
   "source": [
    "# Create the Numeric Population column\n",
    "df_pop[\"Numeric Population\"] = df_pop.Population.apply(\n",
    "    lambda x: int(x.replace(\",\", \"\"))\n",
    ")\n",
    "\n",
    "df_pop.head()"
   ]
  },
  {
   "cell_type": "code",
   "execution_count": 44,
   "id": "8990bab2-5797-4720-8f08-b2701888e2e9",
   "metadata": {},
   "outputs": [
    {
     "data": {
      "text/plain": [
       "array([' United Kingdom', ' Germany', ' Spain'], dtype=object)"
      ]
     },
     "execution_count": 44,
     "metadata": {},
     "output_type": "execute_result"
    }
   ],
   "source": [
    "# State contains extra whitespaces\n",
    "df_pop[\"State\"].values[:3]"
   ]
  },
  {
   "cell_type": "code",
   "execution_count": 45,
   "id": "4eafc505-037a-45c5-ae38-233c871698b1",
   "metadata": {},
   "outputs": [
    {
     "data": {
      "text/html": [
       "<div>\n",
       "<style scoped>\n",
       "    .dataframe tbody tr th:only-of-type {\n",
       "        vertical-align: middle;\n",
       "    }\n",
       "\n",
       "    .dataframe tbody tr th {\n",
       "        vertical-align: top;\n",
       "    }\n",
       "\n",
       "    .dataframe thead th {\n",
       "        text-align: right;\n",
       "    }\n",
       "</style>\n",
       "<table border=\"1\" class=\"dataframe\">\n",
       "  <thead>\n",
       "    <tr style=\"text-align: right;\">\n",
       "      <th></th>\n",
       "      <th>Rank</th>\n",
       "      <th>City</th>\n",
       "      <th>State</th>\n",
       "      <th>Population</th>\n",
       "      <th>Date of census/estimate</th>\n",
       "      <th>Numeric Population</th>\n",
       "    </tr>\n",
       "  </thead>\n",
       "  <tbody>\n",
       "    <tr>\n",
       "      <th>0</th>\n",
       "      <td>1</td>\n",
       "      <td>London[2]</td>\n",
       "      <td>United Kingdom</td>\n",
       "      <td>8,615,246</td>\n",
       "      <td>1 June 2014</td>\n",
       "      <td>8615246</td>\n",
       "    </tr>\n",
       "    <tr>\n",
       "      <th>1</th>\n",
       "      <td>2</td>\n",
       "      <td>Berlin</td>\n",
       "      <td>Germany</td>\n",
       "      <td>3,437,916</td>\n",
       "      <td>31 May 2014</td>\n",
       "      <td>3437916</td>\n",
       "    </tr>\n",
       "    <tr>\n",
       "      <th>2</th>\n",
       "      <td>3</td>\n",
       "      <td>Madrid</td>\n",
       "      <td>Spain</td>\n",
       "      <td>3,165,235</td>\n",
       "      <td>1 January 2014</td>\n",
       "      <td>3165235</td>\n",
       "    </tr>\n",
       "    <tr>\n",
       "      <th>3</th>\n",
       "      <td>4</td>\n",
       "      <td>Rome</td>\n",
       "      <td>Italy</td>\n",
       "      <td>2,872,086</td>\n",
       "      <td>30 September 2014</td>\n",
       "      <td>2872086</td>\n",
       "    </tr>\n",
       "    <tr>\n",
       "      <th>4</th>\n",
       "      <td>5</td>\n",
       "      <td>Paris</td>\n",
       "      <td>France</td>\n",
       "      <td>2,273,305</td>\n",
       "      <td>1 January 2013</td>\n",
       "      <td>2273305</td>\n",
       "    </tr>\n",
       "  </tbody>\n",
       "</table>\n",
       "</div>"
      ],
      "text/plain": [
       "   Rank       City           State Population Date of census/estimate  \\\n",
       "0     1  London[2]  United Kingdom  8,615,246             1 June 2014   \n",
       "1     2     Berlin         Germany  3,437,916             31 May 2014   \n",
       "2     3     Madrid           Spain  3,165,235          1 January 2014   \n",
       "3     4       Rome           Italy  2,872,086       30 September 2014   \n",
       "4     5      Paris          France  2,273,305          1 January 2013   \n",
       "\n",
       "   Numeric Population  \n",
       "0             8615246  \n",
       "1             3437916  \n",
       "2             3165235  \n",
       "3             2872086  \n",
       "4             2273305  "
      ]
     },
     "execution_count": 45,
     "metadata": {},
     "output_type": "execute_result"
    }
   ],
   "source": [
    "# Strip every item\n",
    "df_pop[\"State\"] = df_pop[\"State\"].apply(lambda x: x.strip())\n",
    "\n",
    "df_pop.head()"
   ]
  },
  {
   "cell_type": "markdown",
   "id": "1e3509da-9629-4f77-b0ea-d5d87f46a6be",
   "metadata": {},
   "source": [
    "Inspecting the data types of the columns in the updated `DataFrame` confirms that the\n",
    "new column `NumericPopulation` is indeed of integer type (while the `Population` column\n",
    "is unchanged):"
   ]
  },
  {
   "cell_type": "code",
   "execution_count": 46,
   "id": "5b9915eb-f3cc-4388-b7be-a3f000d43b7f",
   "metadata": {},
   "outputs": [
    {
     "data": {
      "text/plain": [
       "Rank                        int64\n",
       "City                       object\n",
       "State                      object\n",
       "Population                 object\n",
       "Date of census/estimate    object\n",
       "Numeric Population          int64\n",
       "dtype: object"
      ]
     },
     "execution_count": 46,
     "metadata": {},
     "output_type": "execute_result"
    }
   ],
   "source": [
    "df_pop.dtypes"
   ]
  },
  {
   "cell_type": "markdown",
   "id": "dbc3e874-9252-494c-a631-e9531b031391",
   "metadata": {},
   "source": [
    "We may also need to change the `index` to one of the columns of the `DataFrame`. In the\n",
    "current example, we may want to use the `City` column as index. We can accomplish this\n",
    "using the `set_index` method, which takes as argument the name of the column to use as\n",
    "index. The result is a new `DataFrame` object, and the original `DataFrame` is unchanged.\n",
    "Furthermore, using the `sort_index` method, we can sort the data frame with respect to\n",
    "the index:"
   ]
  },
  {
   "cell_type": "code",
   "execution_count": 49,
   "id": "65a5cfad-80dd-4a4f-9224-42a3f74c7308",
   "metadata": {},
   "outputs": [
    {
     "data": {
      "text/html": [
       "<div>\n",
       "<style scoped>\n",
       "    .dataframe tbody tr th:only-of-type {\n",
       "        vertical-align: middle;\n",
       "    }\n",
       "\n",
       "    .dataframe tbody tr th {\n",
       "        vertical-align: top;\n",
       "    }\n",
       "\n",
       "    .dataframe thead th {\n",
       "        text-align: right;\n",
       "    }\n",
       "</style>\n",
       "<table border=\"1\" class=\"dataframe\">\n",
       "  <thead>\n",
       "    <tr style=\"text-align: right;\">\n",
       "      <th></th>\n",
       "      <th>Rank</th>\n",
       "      <th>State</th>\n",
       "      <th>Population</th>\n",
       "      <th>Date of census/estimate</th>\n",
       "      <th>Numeric Population</th>\n",
       "    </tr>\n",
       "    <tr>\n",
       "      <th>City</th>\n",
       "      <th></th>\n",
       "      <th></th>\n",
       "      <th></th>\n",
       "      <th></th>\n",
       "      <th></th>\n",
       "    </tr>\n",
       "  </thead>\n",
       "  <tbody>\n",
       "    <tr>\n",
       "      <th>Aarhus</th>\n",
       "      <td>92</td>\n",
       "      <td>Denmark</td>\n",
       "      <td>326,676</td>\n",
       "      <td>1 October 2014</td>\n",
       "      <td>326676</td>\n",
       "    </tr>\n",
       "    <tr>\n",
       "      <th>Alicante</th>\n",
       "      <td>86</td>\n",
       "      <td>Spain</td>\n",
       "      <td>334,678</td>\n",
       "      <td>1 January 2012</td>\n",
       "      <td>334678</td>\n",
       "    </tr>\n",
       "    <tr>\n",
       "      <th>Amsterdam</th>\n",
       "      <td>23</td>\n",
       "      <td>Netherlands</td>\n",
       "      <td>813,562</td>\n",
       "      <td>31 May 2014</td>\n",
       "      <td>813562</td>\n",
       "    </tr>\n",
       "    <tr>\n",
       "      <th>Antwerp</th>\n",
       "      <td>59</td>\n",
       "      <td>Belgium</td>\n",
       "      <td>510,610</td>\n",
       "      <td>1 January 2014</td>\n",
       "      <td>510610</td>\n",
       "    </tr>\n",
       "    <tr>\n",
       "      <th>Athens</th>\n",
       "      <td>34</td>\n",
       "      <td>Greece</td>\n",
       "      <td>664,046</td>\n",
       "      <td>24 May 2011</td>\n",
       "      <td>664046</td>\n",
       "    </tr>\n",
       "  </tbody>\n",
       "</table>\n",
       "</div>"
      ],
      "text/plain": [
       "           Rank        State Population Date of census/estimate  \\\n",
       "City                                                              \n",
       "Aarhus       92      Denmark    326,676          1 October 2014   \n",
       "Alicante     86        Spain    334,678          1 January 2012   \n",
       "Amsterdam    23  Netherlands    813,562             31 May 2014   \n",
       "Antwerp      59      Belgium    510,610          1 January 2014   \n",
       "Athens       34       Greece    664,046             24 May 2011   \n",
       "\n",
       "           Numeric Population  \n",
       "City                           \n",
       "Aarhus                 326676  \n",
       "Alicante               334678  \n",
       "Amsterdam              813562  \n",
       "Antwerp                510610  \n",
       "Athens                 664046  "
      ]
     },
     "execution_count": 49,
     "metadata": {},
     "output_type": "execute_result"
    }
   ],
   "source": [
    "# Set index column\n",
    "df_pop2 = df_pop.set_index(\"City\")\n",
    "# Sort by index\n",
    "df_pop2 = df_pop2.sort_index()\n",
    "\n",
    "df_pop2.head()"
   ]
  },
  {
   "cell_type": "markdown",
   "id": "40e9f0e8-2717-4d7f-bdd9-34eaaa9bc269",
   "metadata": {},
   "source": [
    "The `sort_index` method also accepts a list of column names, in which case a\n",
    "hierarchical index is created. A hierarchical index uses tuples of index labels to address\n",
    "rows in the data frame. We can use the `sort_index` method with the integer-valued\n",
    "argument level, to sort the rows in a `DataFrame` according to the nth level of the\n",
    "hierarchical index, where `level=n`. In the following example, we create a hierarchical\n",
    "index with State and City as indices, and we use the `sort_index` method to sort by the\n",
    "first index (State):"
   ]
  },
  {
   "cell_type": "code",
   "execution_count": 52,
   "id": "9c550abb-d3ea-4b32-8a92-415a84de668f",
   "metadata": {},
   "outputs": [
    {
     "data": {
      "text/html": [
       "<div>\n",
       "<style scoped>\n",
       "    .dataframe tbody tr th:only-of-type {\n",
       "        vertical-align: middle;\n",
       "    }\n",
       "\n",
       "    .dataframe tbody tr th {\n",
       "        vertical-align: top;\n",
       "    }\n",
       "\n",
       "    .dataframe thead th {\n",
       "        text-align: right;\n",
       "    }\n",
       "</style>\n",
       "<table border=\"1\" class=\"dataframe\">\n",
       "  <thead>\n",
       "    <tr style=\"text-align: right;\">\n",
       "      <th></th>\n",
       "      <th></th>\n",
       "      <th>Rank</th>\n",
       "      <th>Population</th>\n",
       "      <th>Date of census/estimate</th>\n",
       "      <th>Numeric Population</th>\n",
       "    </tr>\n",
       "    <tr>\n",
       "      <th>State</th>\n",
       "      <th>City</th>\n",
       "      <th></th>\n",
       "      <th></th>\n",
       "      <th></th>\n",
       "      <th></th>\n",
       "    </tr>\n",
       "  </thead>\n",
       "  <tbody>\n",
       "    <tr>\n",
       "      <th>Austria</th>\n",
       "      <th>Vienna</th>\n",
       "      <td>7</td>\n",
       "      <td>1,794,770</td>\n",
       "      <td>1 January 2015</td>\n",
       "      <td>1794770</td>\n",
       "    </tr>\n",
       "    <tr>\n",
       "      <th rowspan=\"2\" valign=\"top\">Belgium</th>\n",
       "      <th>Antwerp</th>\n",
       "      <td>59</td>\n",
       "      <td>510,610</td>\n",
       "      <td>1 January 2014</td>\n",
       "      <td>510610</td>\n",
       "    </tr>\n",
       "    <tr>\n",
       "      <th>Brussels[17]</th>\n",
       "      <td>16</td>\n",
       "      <td>1,175,831</td>\n",
       "      <td>1 January 2014</td>\n",
       "      <td>1175831</td>\n",
       "    </tr>\n",
       "    <tr>\n",
       "      <th rowspan=\"3\" valign=\"top\">Bulgaria</th>\n",
       "      <th>Plovdiv</th>\n",
       "      <td>84</td>\n",
       "      <td>341,041</td>\n",
       "      <td>31 December 2013</td>\n",
       "      <td>341041</td>\n",
       "    </tr>\n",
       "    <tr>\n",
       "      <th>Sofia</th>\n",
       "      <td>14</td>\n",
       "      <td>1,291,895</td>\n",
       "      <td>14 December 2014</td>\n",
       "      <td>1291895</td>\n",
       "    </tr>\n",
       "    <tr>\n",
       "      <th>Varna</th>\n",
       "      <td>85</td>\n",
       "      <td>335,819</td>\n",
       "      <td>31 December 2013</td>\n",
       "      <td>335819</td>\n",
       "    </tr>\n",
       "    <tr>\n",
       "      <th>Croatia</th>\n",
       "      <th>Zagreb</th>\n",
       "      <td>24</td>\n",
       "      <td>790,017</td>\n",
       "      <td>31 March 2011</td>\n",
       "      <td>790017</td>\n",
       "    </tr>\n",
       "  </tbody>\n",
       "</table>\n",
       "</div>"
      ],
      "text/plain": [
       "                       Rank Population Date of census/estimate  \\\n",
       "State    City                                                    \n",
       "Austria  Vienna           7  1,794,770          1 January 2015   \n",
       "Belgium  Antwerp         59    510,610          1 January 2014   \n",
       "         Brussels[17]    16  1,175,831          1 January 2014   \n",
       "Bulgaria Plovdiv         84    341,041        31 December 2013   \n",
       "         Sofia           14  1,291,895        14 December 2014   \n",
       "         Varna           85    335,819        31 December 2013   \n",
       "Croatia  Zagreb          24    790,017           31 March 2011   \n",
       "\n",
       "                       Numeric Population  \n",
       "State    City                              \n",
       "Austria  Vienna                   1794770  \n",
       "Belgium  Antwerp                   510610  \n",
       "         Brussels[17]             1175831  \n",
       "Bulgaria Plovdiv                   341041  \n",
       "         Sofia                    1291895  \n",
       "         Varna                     335819  \n",
       "Croatia  Zagreb                    790017  "
      ]
     },
     "execution_count": 52,
     "metadata": {},
     "output_type": "execute_result"
    }
   ],
   "source": [
    "df_pop3 = df_pop.set_index([\"State\", \"City\"]).sort_index(level=0)\n",
    "\n",
    "df_pop3.head(7)"
   ]
  },
  {
   "cell_type": "markdown",
   "id": "626e84ab-3dd4-48ea-b0c0-617b094a1db4",
   "metadata": {},
   "source": [
    "A `DataFrame` with a hierarchical index can be partially indexed using only its zeroth-level index (`df3.loc[\"Sweden\"]`) or completely indexed using a tuple of all hierarchical indices (`df3.loc[(\"Sweden\", \"Gothenburg\")]`):"
   ]
  },
  {
   "cell_type": "code",
   "execution_count": 53,
   "id": "590ef0fd-2c09-4435-9c86-9d03ff51ce07",
   "metadata": {},
   "outputs": [
    {
     "data": {
      "text/html": [
       "<div>\n",
       "<style scoped>\n",
       "    .dataframe tbody tr th:only-of-type {\n",
       "        vertical-align: middle;\n",
       "    }\n",
       "\n",
       "    .dataframe tbody tr th {\n",
       "        vertical-align: top;\n",
       "    }\n",
       "\n",
       "    .dataframe thead th {\n",
       "        text-align: right;\n",
       "    }\n",
       "</style>\n",
       "<table border=\"1\" class=\"dataframe\">\n",
       "  <thead>\n",
       "    <tr style=\"text-align: right;\">\n",
       "      <th></th>\n",
       "      <th>Rank</th>\n",
       "      <th>Population</th>\n",
       "      <th>Date of census/estimate</th>\n",
       "      <th>Numeric Population</th>\n",
       "    </tr>\n",
       "    <tr>\n",
       "      <th>City</th>\n",
       "      <th></th>\n",
       "      <th></th>\n",
       "      <th></th>\n",
       "      <th></th>\n",
       "    </tr>\n",
       "  </thead>\n",
       "  <tbody>\n",
       "    <tr>\n",
       "      <th>Gothenburg</th>\n",
       "      <td>53</td>\n",
       "      <td>528,014</td>\n",
       "      <td>31 March 2013</td>\n",
       "      <td>528014</td>\n",
       "    </tr>\n",
       "    <tr>\n",
       "      <th>Malmö</th>\n",
       "      <td>102</td>\n",
       "      <td>309,105</td>\n",
       "      <td>31 March 2013</td>\n",
       "      <td>309105</td>\n",
       "    </tr>\n",
       "    <tr>\n",
       "      <th>Stockholm</th>\n",
       "      <td>20</td>\n",
       "      <td>909,976</td>\n",
       "      <td>31 January 2014</td>\n",
       "      <td>909976</td>\n",
       "    </tr>\n",
       "  </tbody>\n",
       "</table>\n",
       "</div>"
      ],
      "text/plain": [
       "            Rank Population Date of census/estimate  Numeric Population\n",
       "City                                                                   \n",
       "Gothenburg    53    528,014           31 March 2013              528014\n",
       "Malmö        102    309,105           31 March 2013              309105\n",
       "Stockholm     20    909,976         31 January 2014              909976"
      ]
     },
     "execution_count": 53,
     "metadata": {},
     "output_type": "execute_result"
    }
   ],
   "source": [
    "# Sweden cities\n",
    "df_pop3.loc[\"Sweden\"]"
   ]
  },
  {
   "cell_type": "code",
   "execution_count": 55,
   "id": "03361561-55d7-4fa0-bb8b-78cf7f2b05c2",
   "metadata": {},
   "outputs": [
    {
     "data": {
      "text/plain": [
       "Rank                                  53\n",
       "Population                       528,014\n",
       "Date of census/estimate    31 March 2013\n",
       "Numeric Population                528014\n",
       "Name: (Sweden, Gothenburg), dtype: object"
      ]
     },
     "execution_count": 55,
     "metadata": {},
     "output_type": "execute_result"
    }
   ],
   "source": [
    "# Just Gothenburg\n",
    "df_pop3.loc[(\"Sweden\", \"Gothenburg\")]"
   ]
  },
  {
   "cell_type": "markdown",
   "id": "78a31e68-bfbc-4d1c-90fd-66523a7d6bc0",
   "metadata": {},
   "source": [
    "If we want to sort by a column rather than the index, we can use the `sort_values`\n",
    "method. It takes a column name, or a list of column names, with respect to which the\n",
    "`DataFrame` is to be sorted. It also accepts the keyword argument ascending, which is a\n",
    "`Boolean` or a list of `Boolean` values that specifies whether the corresponding column is to\n",
    "be sorted in ascending or descending order:"
   ]
  },
  {
   "cell_type": "code",
   "execution_count": 57,
   "id": "01157284-8744-4239-bb0e-f5f82bd685c9",
   "metadata": {},
   "outputs": [
    {
     "data": {
      "text/html": [
       "<div>\n",
       "<style scoped>\n",
       "    .dataframe tbody tr th:only-of-type {\n",
       "        vertical-align: middle;\n",
       "    }\n",
       "\n",
       "    .dataframe tbody tr th {\n",
       "        vertical-align: top;\n",
       "    }\n",
       "\n",
       "    .dataframe thead th {\n",
       "        text-align: right;\n",
       "    }\n",
       "</style>\n",
       "<table border=\"1\" class=\"dataframe\">\n",
       "  <thead>\n",
       "    <tr style=\"text-align: right;\">\n",
       "      <th></th>\n",
       "      <th>Rank</th>\n",
       "      <th>State</th>\n",
       "      <th>Population</th>\n",
       "      <th>Date of census/estimate</th>\n",
       "      <th>Numeric Population</th>\n",
       "    </tr>\n",
       "    <tr>\n",
       "      <th>City</th>\n",
       "      <th></th>\n",
       "      <th></th>\n",
       "      <th></th>\n",
       "      <th></th>\n",
       "      <th></th>\n",
       "    </tr>\n",
       "  </thead>\n",
       "  <tbody>\n",
       "    <tr>\n",
       "      <th>Nottingham</th>\n",
       "      <td>103</td>\n",
       "      <td>United Kingdom</td>\n",
       "      <td>308,735</td>\n",
       "      <td>30 June 2012</td>\n",
       "      <td>308735</td>\n",
       "    </tr>\n",
       "    <tr>\n",
       "      <th>Wirral</th>\n",
       "      <td>97</td>\n",
       "      <td>United Kingdom</td>\n",
       "      <td>320,229</td>\n",
       "      <td>30 June 2012</td>\n",
       "      <td>320229</td>\n",
       "    </tr>\n",
       "    <tr>\n",
       "      <th>Coventry</th>\n",
       "      <td>94</td>\n",
       "      <td>United Kingdom</td>\n",
       "      <td>323,132</td>\n",
       "      <td>30 June 2012</td>\n",
       "      <td>323132</td>\n",
       "    </tr>\n",
       "    <tr>\n",
       "      <th>Wakefield</th>\n",
       "      <td>91</td>\n",
       "      <td>United Kingdom</td>\n",
       "      <td>327,627</td>\n",
       "      <td>30 June 2012</td>\n",
       "      <td>327627</td>\n",
       "    </tr>\n",
       "    <tr>\n",
       "      <th>Leicester</th>\n",
       "      <td>87</td>\n",
       "      <td>United Kingdom</td>\n",
       "      <td>331,606</td>\n",
       "      <td>30 June 2012</td>\n",
       "      <td>331606</td>\n",
       "    </tr>\n",
       "  </tbody>\n",
       "</table>\n",
       "</div>"
      ],
      "text/plain": [
       "            Rank           State Population Date of census/estimate  \\\n",
       "City                                                                  \n",
       "Nottingham   103  United Kingdom    308,735            30 June 2012   \n",
       "Wirral        97  United Kingdom    320,229            30 June 2012   \n",
       "Coventry      94  United Kingdom    323,132            30 June 2012   \n",
       "Wakefield     91  United Kingdom    327,627            30 June 2012   \n",
       "Leicester     87  United Kingdom    331,606            30 June 2012   \n",
       "\n",
       "            Numeric Population  \n",
       "City                            \n",
       "Nottingham              308735  \n",
       "Wirral                  320229  \n",
       "Coventry                323132  \n",
       "Wakefield               327627  \n",
       "Leicester               331606  "
      ]
     },
     "execution_count": 57,
     "metadata": {},
     "output_type": "execute_result"
    }
   ],
   "source": [
    "df_pop.set_index(\"City\").sort_values(\n",
    "    [\"State\", \"Numeric Population\"], ascending=[False, True]\n",
    ").head()"
   ]
  },
  {
   "cell_type": "markdown",
   "id": "d87a2b2c-718e-4007-ab54-f5185aa7d798",
   "metadata": {},
   "source": [
    "With categorical data such as the `State` column, it is frequently of interest to\n",
    "summarize how many values of each category a column contains. Such counts can be\n",
    "computed using the `value_counts` method (of the `Series` object). For example, to count\n",
    "the number of cities each country has on the list of the 105 largest cities in Europe, we\n",
    "can use:"
   ]
  },
  {
   "cell_type": "code",
   "execution_count": 58,
   "id": "197cf08d-e360-4cd0-a516-cbbad576e053",
   "metadata": {},
   "outputs": [
    {
     "data": {
      "text/plain": [
       "Germany           19\n",
       "United Kingdom    16\n",
       "Spain             13\n",
       "Poland            10\n",
       "Italy             10\n",
       "Name: State, dtype: int64"
      ]
     },
     "execution_count": 58,
     "metadata": {},
     "output_type": "execute_result"
    }
   ],
   "source": [
    "city_counts = df_pop.State.value_counts()\n",
    "\n",
    "city_counts.head()"
   ]
  },
  {
   "cell_type": "markdown",
   "id": "0354a5c0-ec54-4bb4-a6b3-7b192d48c112",
   "metadata": {},
   "source": [
    "In this example, we see from the results that the state with the largest number of\n",
    "cities in the list is Germany, with 19 cities, followed by the United Kingdom with 16\n",
    "cities, and so on. A related question is how large the total population of all cities within\n",
    "a state is. To answer this type of question, we can proceed in two ways: First, we can\n",
    "create a hierarchical index using `State` and `City` and use the sum method to reduce the\n",
    "`DataFrame` along one of the indices. In this case, we want to sum over all entries within\n",
    "the index level State, so we can use sum(`level=\"State\"`), which eliminates the `City`\n",
    "index. For presentation we also sort the resulting `DataFrame` in descending order of the\n",
    "column `NumericPopulation`:"
   ]
  },
  {
   "cell_type": "code",
   "execution_count": 72,
   "id": "d08c87a1-818e-4952-88e0-b43c6129e374",
   "metadata": {},
   "outputs": [
    {
     "data": {
      "text/html": [
       "<div>\n",
       "<style scoped>\n",
       "    .dataframe tbody tr th:only-of-type {\n",
       "        vertical-align: middle;\n",
       "    }\n",
       "\n",
       "    .dataframe tbody tr th {\n",
       "        vertical-align: top;\n",
       "    }\n",
       "\n",
       "    .dataframe thead th {\n",
       "        text-align: right;\n",
       "    }\n",
       "</style>\n",
       "<table border=\"1\" class=\"dataframe\">\n",
       "  <thead>\n",
       "    <tr style=\"text-align: right;\">\n",
       "      <th></th>\n",
       "      <th>Numeric Population</th>\n",
       "    </tr>\n",
       "    <tr>\n",
       "      <th>State</th>\n",
       "      <th></th>\n",
       "    </tr>\n",
       "  </thead>\n",
       "  <tbody>\n",
       "    <tr>\n",
       "      <th>United Kingdom</th>\n",
       "      <td>16011877</td>\n",
       "    </tr>\n",
       "    <tr>\n",
       "      <th>Germany</th>\n",
       "      <td>15119548</td>\n",
       "    </tr>\n",
       "    <tr>\n",
       "      <th>Spain</th>\n",
       "      <td>10041639</td>\n",
       "    </tr>\n",
       "    <tr>\n",
       "      <th>Italy</th>\n",
       "      <td>8764067</td>\n",
       "    </tr>\n",
       "    <tr>\n",
       "      <th>Poland</th>\n",
       "      <td>6267409</td>\n",
       "    </tr>\n",
       "  </tbody>\n",
       "</table>\n",
       "</div>"
      ],
      "text/plain": [
       "                Numeric Population\n",
       "State                             \n",
       "United Kingdom            16011877\n",
       "Germany                   15119548\n",
       "Spain                     10041639\n",
       "Italy                      8764067\n",
       "Poland                     6267409"
      ]
     },
     "execution_count": 72,
     "metadata": {},
     "output_type": "execute_result"
    }
   ],
   "source": [
    "df_pop3 = df_pop[[\"State\", \"City\", \"Numeric Population\"]].set_index([\"State\", \"City\"])\n",
    "\n",
    "df_pop4 = (\n",
    "    df_pop3.groupby(\"State\").sum().sort_values(\"Numeric Population\", ascending=False)\n",
    ")\n",
    "\n",
    "df_pop4.head()"
   ]
  },
  {
   "cell_type": "code",
   "execution_count": 75,
   "id": "12569759-7492-423b-a4c1-d62925910613",
   "metadata": {},
   "outputs": [
    {
     "data": {
      "text/html": [
       "<div>\n",
       "<style scoped>\n",
       "    .dataframe tbody tr th:only-of-type {\n",
       "        vertical-align: middle;\n",
       "    }\n",
       "\n",
       "    .dataframe tbody tr th {\n",
       "        vertical-align: top;\n",
       "    }\n",
       "\n",
       "    .dataframe thead th {\n",
       "        text-align: right;\n",
       "    }\n",
       "</style>\n",
       "<table border=\"1\" class=\"dataframe\">\n",
       "  <thead>\n",
       "    <tr style=\"text-align: right;\">\n",
       "      <th></th>\n",
       "      <th>Numeric Population</th>\n",
       "    </tr>\n",
       "    <tr>\n",
       "      <th>State</th>\n",
       "      <th></th>\n",
       "    </tr>\n",
       "  </thead>\n",
       "  <tbody>\n",
       "    <tr>\n",
       "      <th>United Kingdom</th>\n",
       "      <td>16011877</td>\n",
       "    </tr>\n",
       "    <tr>\n",
       "      <th>Germany</th>\n",
       "      <td>15119548</td>\n",
       "    </tr>\n",
       "    <tr>\n",
       "      <th>Spain</th>\n",
       "      <td>10041639</td>\n",
       "    </tr>\n",
       "    <tr>\n",
       "      <th>Italy</th>\n",
       "      <td>8764067</td>\n",
       "    </tr>\n",
       "    <tr>\n",
       "      <th>Poland</th>\n",
       "      <td>6267409</td>\n",
       "    </tr>\n",
       "  </tbody>\n",
       "</table>\n",
       "</div>"
      ],
      "text/plain": [
       "                Numeric Population\n",
       "State                             \n",
       "United Kingdom            16011877\n",
       "Germany                   15119548\n",
       "Spain                     10041639\n",
       "Italy                      8764067\n",
       "Poland                     6267409"
      ]
     },
     "execution_count": 75,
     "metadata": {},
     "output_type": "execute_result"
    }
   ],
   "source": [
    "# Drop Rank and groupby State\n",
    "\n",
    "df_pop5 = (\n",
    "    df_pop.drop(\"Rank\", axis=1)\n",
    "    .groupby(\"State\")\n",
    "    .sum()\n",
    "    .sort_values(\"Numeric Population\", ascending=False)\n",
    ")\n",
    "\n",
    "df_pop5.head()"
   ]
  },
  {
   "cell_type": "markdown",
   "id": "308d3ded-4544-4b2c-a4bb-f286ed0677b5",
   "metadata": {},
   "source": [
    "Note that here we also used the drop method to remove the Rank column (hence the\n",
    "`axis=1`, use `axis=0` to drop rows) from the `DataFrame` (since it is not meaningful\n",
    "to aggregate the rank by summation). Finally, we use the plot method of the `Series`\n",
    "object to plot bar graphs for the city count and the total population. The results are\n",
    "shown in Figure"
   ]
  },
  {
   "cell_type": "code",
   "execution_count": 79,
   "id": "de55fdcf-de48-4a00-b2c2-a9bee94e91d0",
   "metadata": {},
   "outputs": [
    {
     "data": {
      "text/plain": [
       "Text(0.5, 0, 'Total pop. in top 105 cities')"
      ]
     },
     "execution_count": 79,
     "metadata": {},
     "output_type": "execute_result"
    },
    {
     "data": {
      "image/png": "[encoded data removed]",
      "text/plain": [
       "<Figure size 1296x288 with 2 Axes>"
      ]
     },
     "metadata": {},
     "output_type": "display_data"
    }
   ],
   "source": [
    "fig, (ax1, ax2) = plt.subplots(1, 2, figsize=(18, 4))\n",
    "\n",
    "# Plot city counts\n",
    "city_counts.plot(kind='barh', ax=ax1)\n",
    "\n",
    "ax1.set_xlabel(\"# cities in top 105\")\n",
    "\n",
    "# Plot Numeric Population\n",
    "df_pop5[\"Numeric Population\"].plot(kind='barh', ax=ax2)\n",
    "\n",
    "ax2.set_xlabel(\"Total pop. in top 105 cities\")"
   ]
  },
  {
   "cell_type": "markdown",
   "id": "e880e89f-b3a0-4444-b5f8-79341b93bd98",
   "metadata": {},
   "source": [
    "> The number of cities in the list of the top 105 most populated cities in\n",
    "Europe (left) and the total population in those cities (right), grouped by state"
   ]
  },
  {
   "cell_type": "code",
   "execution_count": null,
   "id": "dc745260-d2a7-43f5-9882-794b25d255cd",
   "metadata": {},
   "outputs": [],
   "source": []
  }
 ],
 "metadata": {
  "kernelspec": {
   "display_name": "Python 3",
   "language": "python",
   "name": "python3"
  },
  "language_info": {
   "codemirror_mode": {
    "name": "ipython",
    "version": 3
   },
   "file_extension": ".py",
   "mimetype": "text/x-python",
   "name": "python",
   "nbconvert_exporter": "python",
   "pygments_lexer": "ipython3",
   "version": "3.8.12"
  }
 },
 "nbformat": 4,
 "nbformat_minor": 5
}
