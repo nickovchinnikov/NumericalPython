{
 "cells": [
  {
   "cell_type": "code",
   "execution_count": 1,
   "id": "b68541cf-2576-4a9a-a55f-404650f090ed",
   "metadata": {},
   "outputs": [],
   "source": [
    "import matplotlib as mpl\n",
    "import matplotlib.pyplot as plt\n",
    "import numpy as np\n",
    "import pandas as pd\n",
    "\n",
    "mpl.style.use(\"ggplot\")\n",
    "\n",
    "import datetime\n",
    "\n",
    "import seaborn as sns"
   ]
  },
  {
   "cell_type": "markdown",
   "id": "57eb6748-7dc5-429f-878d-586587aab3cf",
   "metadata": {},
   "source": [
    "# Time Series"
   ]
  },
  {
   "cell_type": "markdown",
   "id": "22b688c7-b086-4a72-8187-17480ead564e",
   "metadata": {},
   "source": [
    "Using pandas time-series indexers,\n",
    "`DatetimeIndex` and `PeriodIndex`, we can carry out many common date, time, period,\n",
    "and calendar operations, such as selecting time ranges and shifting and resampling of\n",
    "the data points in a time series"
   ]
  },
  {
   "cell_type": "code",
   "execution_count": 2,
   "id": "bcc57352-701f-454d-b318-7676aa22f36d",
   "metadata": {},
   "outputs": [
    {
     "data": {
      "text/plain": [
       "DatetimeIndex(['2022-01-01', '2022-01-02', '2022-01-03', '2022-01-04',\n",
       "               '2022-01-05', '2022-01-06', '2022-01-07', '2022-01-08',\n",
       "               '2022-01-09', '2022-01-10', '2022-01-11', '2022-01-12',\n",
       "               '2022-01-13', '2022-01-14', '2022-01-15', '2022-01-16',\n",
       "               '2022-01-17', '2022-01-18', '2022-01-19', '2022-01-20',\n",
       "               '2022-01-21', '2022-01-22', '2022-01-23', '2022-01-24',\n",
       "               '2022-01-25', '2022-01-26', '2022-01-27', '2022-01-28',\n",
       "               '2022-01-29', '2022-01-30', '2022-01-31'],\n",
       "              dtype='datetime64[ns]', freq='D')"
      ]
     },
     "execution_count": 2,
     "metadata": {},
     "output_type": "execute_result"
    }
   ],
   "source": [
    "pd.date_range(\"2022-1-1\", periods=31)"
   ]
  },
  {
   "cell_type": "markdown",
   "id": "6db33873-d0af-47a4-bd0e-153b0829c80c",
   "metadata": {},
   "source": [
    "To generate a sequence of dates that can be used as an index in a pandas `Series`\n",
    "or `DataFrame` objects, we can, for example, use the `date_range` function. It takes the\n",
    "starting point as a date and time string (or, alternatively, a datetime object from the\n",
    "Python standard library) as a first argument, and the number of elements in the `range`\n",
    "can be set using the periods keyword argument:"
   ]
  },
  {
   "cell_type": "markdown",
   "id": "bc1e01c5-62cf-4463-8287-401bea33e17b",
   "metadata": {},
   "source": [
    "To specify the frequency of the timestamps (which defaults to one day), we can use\n",
    "the freq keyword argument, and instead of using periods to specify the number of\n",
    "points, we can give both starting and ending points as date and time strings (or `datetime`\n",
    "objects) as the first and second arguments. For example, to generate hourly timestamps\n",
    "between 00:00 and 12:00 on 2015-01-01, we can use:"
   ]
  },
  {
   "cell_type": "code",
   "execution_count": 3,
   "id": "06cb32ec-b69c-4993-98cf-6763ab0b3e13",
   "metadata": {},
   "outputs": [
    {
     "data": {
      "text/plain": [
       "DatetimeIndex(['2015-01-01 00:00:00', '2015-01-01 01:00:00',\n",
       "               '2015-01-01 02:00:00', '2015-01-01 03:00:00',\n",
       "               '2015-01-01 04:00:00', '2015-01-01 05:00:00',\n",
       "               '2015-01-01 06:00:00', '2015-01-01 07:00:00',\n",
       "               '2015-01-01 08:00:00', '2015-01-01 09:00:00',\n",
       "               '2015-01-01 10:00:00', '2015-01-01 11:00:00',\n",
       "               '2015-01-01 12:00:00'],\n",
       "              dtype='datetime64[ns]', freq='H')"
      ]
     },
     "execution_count": 3,
     "metadata": {},
     "output_type": "execute_result"
    }
   ],
   "source": [
    "pd.date_range(\"2015-1-1 00:00\", \"2015-1-1 12:00\", freq=\"H\")"
   ]
  },
  {
   "cell_type": "code",
   "execution_count": 4,
   "id": "37a558d0-bae1-45c8-b34f-b2dfd087569b",
   "metadata": {},
   "outputs": [
    {
     "data": {
      "text/plain": [
       "2015-01-01    0\n",
       "2015-01-02    1\n",
       "2015-01-03    2\n",
       "2015-01-04    3\n",
       "2015-01-05    4\n",
       "Freq: D, dtype: int64"
      ]
     },
     "execution_count": 4,
     "metadata": {},
     "output_type": "execute_result"
    }
   ],
   "source": [
    "ts1 = pd.Series(np.arange(31), index=pd.date_range(\"2015-1-1\", periods=31))\n",
    "\n",
    "ts1.head()"
   ]
  },
  {
   "cell_type": "code",
   "execution_count": 5,
   "id": "20fd2756-7307-4bd8-8d23-4090125466de",
   "metadata": {},
   "outputs": [
    {
     "data": {
      "text/plain": [
       "2"
      ]
     },
     "execution_count": 5,
     "metadata": {},
     "output_type": "execute_result"
    }
   ],
   "source": [
    "ts1[\"2015-1-3\"]"
   ]
  },
  {
   "cell_type": "code",
   "execution_count": 6,
   "id": "a18853cd-67ac-42dc-b410-ae908b2a3d37",
   "metadata": {},
   "outputs": [
    {
     "data": {
      "text/plain": [
       "Timestamp('2015-01-03 00:00:00', freq='D')"
      ]
     },
     "execution_count": 6,
     "metadata": {},
     "output_type": "execute_result"
    }
   ],
   "source": [
    "ts1.index[2]"
   ]
  },
  {
   "cell_type": "markdown",
   "id": "f8c8b47e-d23c-484a-bb3f-f5c002f13dbb",
   "metadata": {},
   "source": [
    "In many aspects, a Timestamp and `datetime` object are interchangeable, and the\n",
    "Timestamp class has, like the `datetime` class, attributes for accessing time fields such\n",
    "as year, month, day, hour, minute, and so on. However, a notable difference between\n",
    "Timestamp and `datetime` is that Timestamp stores a `timestamp` with nanosecond\n",
    "resolution, while a `datetime` object only uses microsecond resolution."
   ]
  },
  {
   "cell_type": "code",
   "execution_count": 7,
   "id": "02247cf5-2f51-40bb-843b-12f7c6dc50cb",
   "metadata": {},
   "outputs": [
    {
     "data": {
      "text/plain": [
       "(2015, 1, 3)"
      ]
     },
     "execution_count": 7,
     "metadata": {},
     "output_type": "execute_result"
    }
   ],
   "source": [
    "date2 = ts1.index[2]\n",
    "date2.year, date2.month, date2.day"
   ]
  },
  {
   "cell_type": "code",
   "execution_count": 8,
   "id": "f6e56ff2-91b2-491a-8d23-93ecba1f08e9",
   "metadata": {},
   "outputs": [
    {
     "data": {
      "text/plain": [
       "0"
      ]
     },
     "execution_count": 8,
     "metadata": {},
     "output_type": "execute_result"
    }
   ],
   "source": [
    "date2.nanosecond"
   ]
  },
  {
   "cell_type": "markdown",
   "id": "9d0bd71d-21e8-4b27-9edd-a3c8988724ae",
   "metadata": {},
   "source": [
    "We can convert a `Timestamp` object to a standard Python `datetime` object using the\n",
    "`to_pydatetime` method:"
   ]
  },
  {
   "cell_type": "code",
   "execution_count": 9,
   "id": "f43dda1b-a088-4ffd-b006-043910d72f35",
   "metadata": {},
   "outputs": [
    {
     "data": {
      "text/plain": [
       "datetime.datetime(2015, 1, 3, 0, 0)"
      ]
     },
     "execution_count": 9,
     "metadata": {},
     "output_type": "execute_result"
    }
   ],
   "source": [
    "ts1.index[2].to_pydatetime()"
   ]
  },
  {
   "cell_type": "markdown",
   "id": "0b77d3b4-e407-4623-8125-1a9950366b28",
   "metadata": {},
   "source": [
    "and we can use a list of `datetime` objects to create `pandas` time series:"
   ]
  },
  {
   "cell_type": "code",
   "execution_count": 10,
   "id": "21cdb887-077a-4611-9566-34d2fd9f56d3",
   "metadata": {},
   "outputs": [
    {
     "data": {
      "text/plain": [
       "2015-01-01    0.883639\n",
       "2015-02-01    0.282752\n",
       "dtype: float64"
      ]
     },
     "execution_count": 10,
     "metadata": {},
     "output_type": "execute_result"
    }
   ],
   "source": [
    "ts2 = pd.Series(\n",
    "    np.random.rand(2),\n",
    "    index=[datetime.datetime(2015, 1, 1), datetime.datetime(2015, 2, 1)],\n",
    ")\n",
    "\n",
    "ts2"
   ]
  },
  {
   "cell_type": "markdown",
   "id": "64bef020-a5a0-4dab-958f-b7835d8ab7b4",
   "metadata": {},
   "source": [
    "Data that is defined for sequences of time spans can be represented using `Series`\n",
    "and `DataFrame` objects that are indexed using the `PeriodIndex` class. We can construct\n",
    "an instance of the `PeriodIndex` class explicitly by passing a list of Period objects and\n",
    "then specify it as index when creating a `Series` or `DataFrame` object:"
   ]
  },
  {
   "cell_type": "code",
   "execution_count": 11,
   "id": "fbe5e4bd-fc34-48ae-b6ea-634cf27a57b5",
   "metadata": {},
   "outputs": [
    {
     "data": {
      "text/plain": [
       "2015-01    0.381488\n",
       "2015-02    0.289910\n",
       "2015-03    0.067863\n",
       "Freq: M, dtype: float64"
      ]
     },
     "execution_count": 11,
     "metadata": {},
     "output_type": "execute_result"
    }
   ],
   "source": [
    "periods = pd.PeriodIndex(\n",
    "    [pd.Period(\"2015-01\"), pd.Period(\"2015-02\"), pd.Period(\"2015-03\")]\n",
    ")\n",
    "\n",
    "ts3 = pd.Series(np.random.rand(3), index=periods)\n",
    "\n",
    "ts3"
   ]
  },
  {
   "cell_type": "code",
   "execution_count": 12,
   "id": "4ad228ab-f90f-4aed-acdc-8c565aab3a68",
   "metadata": {},
   "outputs": [
    {
     "data": {
      "text/plain": [
       "PeriodIndex(['2015-01', '2015-02', '2015-03'], dtype='period[M]')"
      ]
     },
     "execution_count": 12,
     "metadata": {},
     "output_type": "execute_result"
    }
   ],
   "source": [
    "ts3.index"
   ]
  },
  {
   "cell_type": "markdown",
   "id": "41244e10-843e-4924-a1e4-cad4b93a3174",
   "metadata": {},
   "source": [
    "We can also convert a `Series` or `DataFrame` object indexed by a `DatetimeIndex`\n",
    "object to a `PeriodIndex` using the `to_period` method (which takes an argument that\n",
    "specifies the period frequency, here 'M' for month):"
   ]
  },
  {
   "cell_type": "code",
   "execution_count": 13,
   "id": "04f49f00-aadf-4ed0-9ee5-d0340ea8e480",
   "metadata": {},
   "outputs": [
    {
     "data": {
      "text/plain": [
       "2015-01    0.883639\n",
       "2015-02    0.282752\n",
       "Freq: M, dtype: float64"
      ]
     },
     "execution_count": 13,
     "metadata": {},
     "output_type": "execute_result"
    }
   ],
   "source": [
    "ts2.to_period(\"M\")"
   ]
  },
  {
   "cell_type": "markdown",
   "id": "1ecfc6f6-de65-410d-98e4-fec279900b4f",
   "metadata": {},
   "source": [
    "In the remaining part of this section we explore select features of pandas time\n",
    "series through examples. We look at the manipulation of two time series that contain\n",
    "sequences of temperature measurements at given timestamps. We have one dataset\n",
    "for an indoor temperature sensor and one dataset for an outdoor temperature sensor,\n",
    "both with observations approximately every 10 minutes during most of 2014. The two\n",
    "data files, temperature_indoor_2014.tsv and temperature_outdoor_2014.tsv, are\n",
    "TSV (tab-separated values, a variant of the CSV format) files with two columns: the first\n",
    "column contains UNIX timestamps (seconds since Jan 1, 1970), and the second column\n",
    "is the measured temperature in degree Celsius\n",
    "\n",
    "We can read the data files using `read_csv` by specifying that the delimiter between\n",
    "columns is the TAB character: `delimiter=\"\\t\"`. When reading the two files, we also\n",
    "explicitly specify the column names using the names keyword argument, since the files in\n",
    "this example do not have header lines with the column names."
   ]
  },
  {
   "cell_type": "code",
   "execution_count": 14,
   "id": "67d04462-c4a5-4ad9-a73f-02810c2e860c",
   "metadata": {},
   "outputs": [],
   "source": [
    "df1 = pd.read_csv(\n",
    "    \"temperature_outdoor_2014.tsv\", delimiter=\"\\t\", names=[\"time\", \"outdoor\"]\n",
    ")\n",
    "\n",
    "df2 = pd.read_csv(\n",
    "    \"temperature_indoor_2014.tsv\", delimiter=\"\\t\", names=[\"time\", \"indoor\"]\n",
    ")"
   ]
  },
  {
   "cell_type": "markdown",
   "id": "cbe7a654-c283-4123-bbad-85d24a160669",
   "metadata": {},
   "source": [
    "Once we have created `DataFrame` objects for the time-series data, it is informative to\n",
    "inspect the data by displaying the first few lines:"
   ]
  },
  {
   "cell_type": "code",
   "execution_count": 15,
   "id": "160a5086-b11a-4c4b-abef-946607da35d2",
   "metadata": {},
   "outputs": [
    {
     "data": {
      "text/html": [
       "<div>\n",
       "<style scoped>\n",
       "    .dataframe tbody tr th:only-of-type {\n",
       "        vertical-align: middle;\n",
       "    }\n",
       "\n",
       "    .dataframe tbody tr th {\n",
       "        vertical-align: top;\n",
       "    }\n",
       "\n",
       "    .dataframe thead th {\n",
       "        text-align: right;\n",
       "    }\n",
       "</style>\n",
       "<table border=\"1\" class=\"dataframe\">\n",
       "  <thead>\n",
       "    <tr style=\"text-align: right;\">\n",
       "      <th></th>\n",
       "      <th>time</th>\n",
       "      <th>outdoor</th>\n",
       "    </tr>\n",
       "  </thead>\n",
       "  <tbody>\n",
       "    <tr>\n",
       "      <th>0</th>\n",
       "      <td>1388530986</td>\n",
       "      <td>4.38</td>\n",
       "    </tr>\n",
       "    <tr>\n",
       "      <th>1</th>\n",
       "      <td>1388531586</td>\n",
       "      <td>4.25</td>\n",
       "    </tr>\n",
       "    <tr>\n",
       "      <th>2</th>\n",
       "      <td>1388532187</td>\n",
       "      <td>4.19</td>\n",
       "    </tr>\n",
       "    <tr>\n",
       "      <th>3</th>\n",
       "      <td>1388532787</td>\n",
       "      <td>4.06</td>\n",
       "    </tr>\n",
       "    <tr>\n",
       "      <th>4</th>\n",
       "      <td>1388533388</td>\n",
       "      <td>4.06</td>\n",
       "    </tr>\n",
       "  </tbody>\n",
       "</table>\n",
       "</div>"
      ],
      "text/plain": [
       "         time  outdoor\n",
       "0  1388530986     4.38\n",
       "1  1388531586     4.25\n",
       "2  1388532187     4.19\n",
       "3  1388532787     4.06\n",
       "4  1388533388     4.06"
      ]
     },
     "execution_count": 15,
     "metadata": {},
     "output_type": "execute_result"
    }
   ],
   "source": [
    "df1.head()"
   ]
  },
  {
   "cell_type": "markdown",
   "id": "008cda6a-822a-4ba3-b7a1-418021419d7d",
   "metadata": {},
   "source": [
    "The next step toward a meaningful representation of the time-series data is to\n",
    "convert the `UNIX` timestamps to date and time objects using `to_datetime` with the\n",
    "`unit=\"s\"` argument. Furthermore, we localize the timestamps (assigning a time zone)\n",
    "using `tz_localize` and convert the time zone attribute to the Europe/Stockholm time\n",
    "zone using `tz_convert`. We also set the time column as index using `set_index`:"
   ]
  },
  {
   "cell_type": "code",
   "execution_count": 16,
   "id": "7df35f93-b6a9-4ae6-98a8-5cc4b4e2d8cc",
   "metadata": {},
   "outputs": [
    {
     "data": {
      "text/plain": [
       "DatetimeIndex(['2014-01-01 00:03:06+01:00', '2014-01-01 00:13:06+01:00',\n",
       "               '2014-01-01 00:23:07+01:00', '2014-01-01 00:33:07+01:00',\n",
       "               '2014-01-01 00:43:08+01:00', '2014-01-01 00:53:08+01:00',\n",
       "               '2014-01-01 01:03:09+01:00', '2014-01-01 01:13:09+01:00',\n",
       "               '2014-01-01 01:23:10+01:00', '2014-01-01 01:33:26+01:00',\n",
       "               ...\n",
       "               '2014-12-30 22:26:30+01:00', '2014-12-30 22:36:31+01:00',\n",
       "               '2014-12-30 22:46:31+01:00', '2014-12-30 22:56:32+01:00',\n",
       "               '2014-12-30 23:06:32+01:00', '2014-12-30 23:16:33+01:00',\n",
       "               '2014-12-30 23:26:33+01:00', '2014-12-30 23:36:34+01:00',\n",
       "               '2014-12-30 23:46:35+01:00', '2014-12-30 23:56:35+01:00'],\n",
       "              dtype='datetime64[ns, Europe/Stockholm]', length=49548, freq=None)"
      ]
     },
     "execution_count": 16,
     "metadata": {},
     "output_type": "execute_result"
    }
   ],
   "source": [
    "pd.to_datetime(df1.time.values, unit=\"s\").tz_localize(\"UTC\").tz_convert(\n",
    "    \"Europe/Stockholm\"\n",
    ")"
   ]
  },
  {
   "cell_type": "code",
   "execution_count": 17,
   "id": "9f733d97-3db7-4c4c-a96f-490f27e13dc8",
   "metadata": {},
   "outputs": [
    {
     "data": {
      "text/html": [
       "<div>\n",
       "<style scoped>\n",
       "    .dataframe tbody tr th:only-of-type {\n",
       "        vertical-align: middle;\n",
       "    }\n",
       "\n",
       "    .dataframe tbody tr th {\n",
       "        vertical-align: top;\n",
       "    }\n",
       "\n",
       "    .dataframe thead th {\n",
       "        text-align: right;\n",
       "    }\n",
       "</style>\n",
       "<table border=\"1\" class=\"dataframe\">\n",
       "  <thead>\n",
       "    <tr style=\"text-align: right;\">\n",
       "      <th></th>\n",
       "      <th>outdoor</th>\n",
       "    </tr>\n",
       "    <tr>\n",
       "      <th>time</th>\n",
       "      <th></th>\n",
       "    </tr>\n",
       "  </thead>\n",
       "  <tbody>\n",
       "    <tr>\n",
       "      <th>2014-01-01 00:03:06+01:00</th>\n",
       "      <td>4.38</td>\n",
       "    </tr>\n",
       "    <tr>\n",
       "      <th>2014-01-01 00:13:06+01:00</th>\n",
       "      <td>4.25</td>\n",
       "    </tr>\n",
       "    <tr>\n",
       "      <th>2014-01-01 00:23:07+01:00</th>\n",
       "      <td>4.19</td>\n",
       "    </tr>\n",
       "    <tr>\n",
       "      <th>2014-01-01 00:33:07+01:00</th>\n",
       "      <td>4.06</td>\n",
       "    </tr>\n",
       "    <tr>\n",
       "      <th>2014-01-01 00:43:08+01:00</th>\n",
       "      <td>4.06</td>\n",
       "    </tr>\n",
       "  </tbody>\n",
       "</table>\n",
       "</div>"
      ],
      "text/plain": [
       "                           outdoor\n",
       "time                              \n",
       "2014-01-01 00:03:06+01:00     4.38\n",
       "2014-01-01 00:13:06+01:00     4.25\n",
       "2014-01-01 00:23:07+01:00     4.19\n",
       "2014-01-01 00:33:07+01:00     4.06\n",
       "2014-01-01 00:43:08+01:00     4.06"
      ]
     },
     "execution_count": 17,
     "metadata": {},
     "output_type": "execute_result"
    }
   ],
   "source": [
    "df1.time = (\n",
    "    pd.to_datetime(df1.time.values, unit=\"s\")\n",
    "    .tz_localize(\"UTC\")\n",
    "    .tz_convert(\"Europe/Stockholm\")\n",
    ")\n",
    "\n",
    "df1 = df1.set_index(\"time\")\n",
    "\n",
    "df1.head()"
   ]
  },
  {
   "cell_type": "code",
   "execution_count": 18,
   "id": "57f69bdc-33da-4971-9a1b-c746a1093e1d",
   "metadata": {},
   "outputs": [
    {
     "data": {
      "text/html": [
       "<div>\n",
       "<style scoped>\n",
       "    .dataframe tbody tr th:only-of-type {\n",
       "        vertical-align: middle;\n",
       "    }\n",
       "\n",
       "    .dataframe tbody tr th {\n",
       "        vertical-align: top;\n",
       "    }\n",
       "\n",
       "    .dataframe thead th {\n",
       "        text-align: right;\n",
       "    }\n",
       "</style>\n",
       "<table border=\"1\" class=\"dataframe\">\n",
       "  <thead>\n",
       "    <tr style=\"text-align: right;\">\n",
       "      <th></th>\n",
       "      <th>indoor</th>\n",
       "    </tr>\n",
       "    <tr>\n",
       "      <th>time</th>\n",
       "      <th></th>\n",
       "    </tr>\n",
       "  </thead>\n",
       "  <tbody>\n",
       "    <tr>\n",
       "      <th>2014-01-01 00:03:06+01:00</th>\n",
       "      <td>21.94</td>\n",
       "    </tr>\n",
       "    <tr>\n",
       "      <th>2014-01-01 00:13:06+01:00</th>\n",
       "      <td>22.00</td>\n",
       "    </tr>\n",
       "    <tr>\n",
       "      <th>2014-01-01 00:23:07+01:00</th>\n",
       "      <td>22.00</td>\n",
       "    </tr>\n",
       "    <tr>\n",
       "      <th>2014-01-01 00:33:07+01:00</th>\n",
       "      <td>22.00</td>\n",
       "    </tr>\n",
       "    <tr>\n",
       "      <th>2014-01-01 00:43:08+01:00</th>\n",
       "      <td>22.00</td>\n",
       "    </tr>\n",
       "  </tbody>\n",
       "</table>\n",
       "</div>"
      ],
      "text/plain": [
       "                           indoor\n",
       "time                             \n",
       "2014-01-01 00:03:06+01:00   21.94\n",
       "2014-01-01 00:13:06+01:00   22.00\n",
       "2014-01-01 00:23:07+01:00   22.00\n",
       "2014-01-01 00:33:07+01:00   22.00\n",
       "2014-01-01 00:43:08+01:00   22.00"
      ]
     },
     "execution_count": 18,
     "metadata": {},
     "output_type": "execute_result"
    }
   ],
   "source": [
    "df2.time = (\n",
    "    pd.to_datetime(df2.time.values, unit=\"s\")\n",
    "    .tz_localize(\"UTC\")\n",
    "    .tz_convert(\"Europe/Stockholm\")\n",
    ")\n",
    "\n",
    "df2 = df2.set_index(\"time\")\n",
    "\n",
    "df2.head()"
   ]
  },
  {
   "cell_type": "markdown",
   "id": "89c5580e-b689-4583-ba15-7197f437bac2",
   "metadata": {},
   "source": [
    "Displaying the first few rows of the data frame for the outdoor temperature dataset\n",
    "shows that the index now indeed is a date and time object. As we will see examples of\n",
    "such in the following, having the index of a time series represented as proper date and\n",
    "time objects (in contrast to using, e.g., integers representing the UNIX timestamps)\n",
    "allows us to easily perform many time-oriented operations. Before we proceed to explore\n",
    "the data in more detail, we first plot the two time series to obtain an idea of how the data\n",
    "looks like. For this we can use the `DataFrame.plot` method, and the results are shown\n",
    "in Figure. Note that there is data missing for a part of August. Imperfect data is a\n",
    "common problem, and handling missing data in a suitable manner is an important part\n",
    "of the mission statement of the *pandas* library."
   ]
  },
  {
   "cell_type": "code",
   "execution_count": 19,
   "id": "01307a56-b042-4fa9-b83e-26448d0869be",
   "metadata": {},
   "outputs": [
    {
     "data": {
      "text/plain": [
       "<AxesSubplot:xlabel='time'>"
      ]
     },
     "execution_count": 19,
     "metadata": {},
     "output_type": "execute_result"
    },
    {
     "data": {
      "image/png": "[encoded data removed]",
      "text/plain": [
       "<Figure size 864x288 with 1 Axes>"
      ]
     },
     "metadata": {},
     "output_type": "display_data"
    }
   ],
   "source": [
    "fig, ax = plt.subplots(1, 1, figsize=(12, 4))\n",
    "\n",
    "df1.plot(ax=ax)\n",
    "df2.plot(ax=ax)"
   ]
  },
  {
   "cell_type": "markdown",
   "id": "e2bdc0d0-be0a-4128-ae7b-c2dadeaeb1b4",
   "metadata": {},
   "source": [
    "> Plot of the time series for indoor and outdoor temperature"
   ]
  },
  {
   "cell_type": "markdown",
   "id": "5c273a77-7ba6-479b-bc04-d9a5664dc0ae",
   "metadata": {},
   "source": [
    "It is also illuminating to display the result of the info method of the DataFrame\n",
    "object. Doing so tells us that there are nearly 50000 data points in this dataset and that it\n",
    "contains data points starting at **2014-01-01 00:03:06** and ending at **2014-12-30 23:56:35**"
   ]
  },
  {
   "cell_type": "code",
   "execution_count": 20,
   "id": "d65ad1f9-fe1c-4cb0-8dc2-2763c2ff52f4",
   "metadata": {},
   "outputs": [
    {
     "name": "stdout",
     "output_type": "stream",
     "text": [
      "<class 'pandas.core.frame.DataFrame'>\n",
      "DatetimeIndex: 49548 entries, 2014-01-01 00:03:06+01:00 to 2014-12-30 23:56:35+01:00\n",
      "Data columns (total 1 columns):\n",
      " #   Column   Non-Null Count  Dtype  \n",
      "---  ------   --------------  -----  \n",
      " 0   outdoor  49548 non-null  float64\n",
      "dtypes: float64(1)\n",
      "memory usage: 774.2 KB\n"
     ]
    }
   ],
   "source": [
    "df1.info()"
   ]
  },
  {
   "cell_type": "markdown",
   "id": "7274bf62-1ea8-4fd2-be9d-20ae0c41fa93",
   "metadata": {},
   "source": [
    "A common operation on time series is to select and extract parts of the data. For\n",
    "example, from the full dataset that contains data for all of 2014, we may be interested in\n",
    "selecting out and analyzing only the data for the month of January. In pandas, we can\n",
    "accomplish this in a number of ways. For example, we can use Boolean indexing of a\n",
    "DataFrame to create a DataFrame for a subset of the data. To create the Boolean indexing\n",
    "mask that selects the data for January, we can take advantage of the pandas time-series\n",
    "features that allow us to compare the time-series index with string representations of a\n",
    "date and time. In the following code, the expressions like `df1.index >= \"2014-1-1\"`,\n",
    "where `df1.index` is a time DateTimeIndex instance, result in a Boolean NumPy array\n",
    "that can be used as a mask to select the desired elements."
   ]
  },
  {
   "cell_type": "code",
   "execution_count": 21,
   "id": "305bd725-0d88-46f9-b1fc-f0033e6ed5eb",
   "metadata": {},
   "outputs": [
    {
     "name": "stdout",
     "output_type": "stream",
     "text": [
      "<class 'pandas.core.frame.DataFrame'>\n",
      "DatetimeIndex: 4452 entries, 2014-01-01 00:03:06+01:00 to 2014-01-31 23:56:58+01:00\n",
      "Data columns (total 1 columns):\n",
      " #   Column   Non-Null Count  Dtype  \n",
      "---  ------   --------------  -----  \n",
      " 0   outdoor  4452 non-null   float64\n",
      "dtypes: float64(1)\n",
      "memory usage: 69.6 KB\n"
     ]
    }
   ],
   "source": [
    "# Create mask for January\n",
    "mask_jan = (df1.index >= \"2014-1-1\") & (df1.index < \"2014-2-1\")\n",
    "\n",
    "# Apply mask for Jan to write it\n",
    "df1_jan = df1[mask_jan]\n",
    "\n",
    "df1_jan.info()"
   ]
  },
  {
   "cell_type": "markdown",
   "id": "652fc5e9-f4fd-4500-9b42-a1639a796bd0",
   "metadata": {},
   "source": [
    "> Alternatively, we can use slice syntax directly with date and time strings:"
   ]
  },
  {
   "cell_type": "code",
   "execution_count": 23,
   "id": "346f41c4-0bdb-4cd2-b146-477b20402f9e",
   "metadata": {},
   "outputs": [
    {
     "name": "stdout",
     "output_type": "stream",
     "text": [
      "<class 'pandas.core.frame.DataFrame'>\n",
      "DatetimeIndex: 4452 entries, 2014-01-01 00:03:06+01:00 to 2014-01-31 23:56:58+01:00\n",
      "Data columns (total 1 columns):\n",
      " #   Column  Non-Null Count  Dtype  \n",
      "---  ------  --------------  -----  \n",
      " 0   indoor  4452 non-null   float64\n",
      "dtypes: float64(1)\n",
      "memory usage: 69.6 KB\n"
     ]
    }
   ],
   "source": [
    "df2_jan = df2[\"2014-1-1\":\"2014-1-31\"]\n",
    "\n",
    "# the same slice of data\n",
    "df2_jan.info()"
   ]
  },
  {
   "cell_type": "markdown",
   "id": "8d16f2f5-3c45-4c7d-bb16-0bc878a046ef",
   "metadata": {},
   "source": [
    "The results are two DataFrame objects, `df1_jan` and `df2_jan`, that contain data only\n",
    "for the month of January. Plotting this subset of the original data using the plot method\n",
    "results in the graph shown in Figure"
   ]
  },
  {
   "cell_type": "code",
   "execution_count": 24,
   "id": "b9994308-a4e9-4c01-8128-1f75754440da",
   "metadata": {},
   "outputs": [
    {
     "data": {
      "text/plain": [
       "<AxesSubplot:xlabel='time'>"
      ]
     },
     "execution_count": 24,
     "metadata": {},
     "output_type": "execute_result"
    },
    {
     "data": {
      "image/png": "[encoded data removed]",
      "text/plain": [
       "<Figure size 864x288 with 1 Axes>"
      ]
     },
     "metadata": {},
     "output_type": "display_data"
    }
   ],
   "source": [
    "fig, ax = plt.subplots(1, 1, figsize=(12, 4))\n",
    "\n",
    "# January plot\n",
    "df1_jan.plot(ax=ax)\n",
    "df2_jan.plot(ax=ax)"
   ]
  },
  {
   "cell_type": "markdown",
   "id": "4e9e8305-0781-4c6f-bb37-0b99a2563442",
   "metadata": {},
   "source": [
    "> Plot of the time series for indoor and outdoor temperature for a\n",
    "selected month (January)"
   ]
  },
  {
   "cell_type": "markdown",
   "id": "071a9b8a-b19d-4bd7-a071-bb3b1521f89f",
   "metadata": {},
   "source": [
    "Like the datetime class in Python’s standard library, the Timestamp class that is used\n",
    "in pandas to represent time values has attributes for accessing fields such as year, month,\n",
    "day, hour, minute, and so on. These fields are particularly useful when processing time\n",
    "series. For example, if we wish to calculate the average temperature for each month of\n",
    "the year, we can begin by creating a new column month, which we assign to the month\n",
    "field of the Timestamp values of the DatetimeIndex indexer. To extract the month field\n",
    "from each Timestamp value, we first call `reset_index` to convert the index to a column\n",
    "in the data frame (in which case the new DataFrame object falls back to using an integer\n",
    "index), after which we can use the apply function on the newly created time column"
   ]
  },
  {
   "cell_type": "code",
   "execution_count": 26,
   "id": "d92f8220-7df4-4e8d-8ffd-fe6ea8a812c0",
   "metadata": {},
   "outputs": [
    {
     "data": {
      "text/plain": [
       "0       2014-01-01 00:03:06+01:00\n",
       "1       2014-01-01 00:13:06+01:00\n",
       "2       2014-01-01 00:23:07+01:00\n",
       "3       2014-01-01 00:33:07+01:00\n",
       "4       2014-01-01 00:43:08+01:00\n",
       "                   ...           \n",
       "49543   2014-12-30 23:16:33+01:00\n",
       "49544   2014-12-30 23:26:33+01:00\n",
       "49545   2014-12-30 23:36:34+01:00\n",
       "49546   2014-12-30 23:46:35+01:00\n",
       "49547   2014-12-30 23:56:35+01:00\n",
       "Name: time, Length: 49548, dtype: datetime64[ns, Europe/Stockholm]"
      ]
     },
     "execution_count": 26,
     "metadata": {},
     "output_type": "execute_result"
    }
   ],
   "source": [
    "df1_month = df1.reset_index()\n",
    "\n",
    "df1_month.time"
   ]
  },
  {
   "cell_type": "code",
   "execution_count": 29,
   "id": "30874b00-c85e-443d-81cb-5978c481859e",
   "metadata": {},
   "outputs": [
    {
     "data": {
      "text/html": [
       "<div>\n",
       "<style scoped>\n",
       "    .dataframe tbody tr th:only-of-type {\n",
       "        vertical-align: middle;\n",
       "    }\n",
       "\n",
       "    .dataframe tbody tr th {\n",
       "        vertical-align: top;\n",
       "    }\n",
       "\n",
       "    .dataframe thead th {\n",
       "        text-align: right;\n",
       "    }\n",
       "</style>\n",
       "<table border=\"1\" class=\"dataframe\">\n",
       "  <thead>\n",
       "    <tr style=\"text-align: right;\">\n",
       "      <th></th>\n",
       "      <th>time</th>\n",
       "      <th>outdoor</th>\n",
       "      <th>month</th>\n",
       "    </tr>\n",
       "  </thead>\n",
       "  <tbody>\n",
       "    <tr>\n",
       "      <th>0</th>\n",
       "      <td>2014-01-01 00:03:06+01:00</td>\n",
       "      <td>4.38</td>\n",
       "      <td>1</td>\n",
       "    </tr>\n",
       "    <tr>\n",
       "      <th>1</th>\n",
       "      <td>2014-01-01 00:13:06+01:00</td>\n",
       "      <td>4.25</td>\n",
       "      <td>1</td>\n",
       "    </tr>\n",
       "    <tr>\n",
       "      <th>2</th>\n",
       "      <td>2014-01-01 00:23:07+01:00</td>\n",
       "      <td>4.19</td>\n",
       "      <td>1</td>\n",
       "    </tr>\n",
       "    <tr>\n",
       "      <th>3</th>\n",
       "      <td>2014-01-01 00:33:07+01:00</td>\n",
       "      <td>4.06</td>\n",
       "      <td>1</td>\n",
       "    </tr>\n",
       "    <tr>\n",
       "      <th>4</th>\n",
       "      <td>2014-01-01 00:43:08+01:00</td>\n",
       "      <td>4.06</td>\n",
       "      <td>1</td>\n",
       "    </tr>\n",
       "  </tbody>\n",
       "</table>\n",
       "</div>"
      ],
      "text/plain": [
       "                       time  outdoor  month\n",
       "0 2014-01-01 00:03:06+01:00     4.38      1\n",
       "1 2014-01-01 00:13:06+01:00     4.25      1\n",
       "2 2014-01-01 00:23:07+01:00     4.19      1\n",
       "3 2014-01-01 00:33:07+01:00     4.06      1\n",
       "4 2014-01-01 00:43:08+01:00     4.06      1"
      ]
     },
     "execution_count": 29,
     "metadata": {},
     "output_type": "execute_result"
    }
   ],
   "source": [
    "# Add new column month\n",
    "df1_month[\"month\"] = df1_month.time.apply(lambda x: x.month)\n",
    "\n",
    "df1_month.head()"
   ]
  },
  {
   "cell_type": "markdown",
   "id": "b080f685-97ec-471b-ad4c-58b7f4f64aba",
   "metadata": {},
   "source": [
    "Next, we can group the DataFrame by the new month field and aggregate the grouped\n",
    "values using the mean function for computing the average within each group."
   ]
  },
  {
   "cell_type": "code",
   "execution_count": 30,
   "id": "b5084be1-1daa-40c2-a879-27492543b93b",
   "metadata": {},
   "outputs": [
    {
     "data": {
      "text/html": [
       "<div>\n",
       "<style scoped>\n",
       "    .dataframe tbody tr th:only-of-type {\n",
       "        vertical-align: middle;\n",
       "    }\n",
       "\n",
       "    .dataframe tbody tr th {\n",
       "        vertical-align: top;\n",
       "    }\n",
       "\n",
       "    .dataframe thead th {\n",
       "        text-align: right;\n",
       "    }\n",
       "</style>\n",
       "<table border=\"1\" class=\"dataframe\">\n",
       "  <thead>\n",
       "    <tr style=\"text-align: right;\">\n",
       "      <th></th>\n",
       "      <th>outdoor</th>\n",
       "    </tr>\n",
       "    <tr>\n",
       "      <th>month</th>\n",
       "      <th></th>\n",
       "    </tr>\n",
       "  </thead>\n",
       "  <tbody>\n",
       "    <tr>\n",
       "      <th>1</th>\n",
       "      <td>-1.776646</td>\n",
       "    </tr>\n",
       "    <tr>\n",
       "      <th>2</th>\n",
       "      <td>2.231613</td>\n",
       "    </tr>\n",
       "    <tr>\n",
       "      <th>3</th>\n",
       "      <td>4.615437</td>\n",
       "    </tr>\n",
       "    <tr>\n",
       "      <th>4</th>\n",
       "      <td>8.105193</td>\n",
       "    </tr>\n",
       "    <tr>\n",
       "      <th>5</th>\n",
       "      <td>12.261396</td>\n",
       "    </tr>\n",
       "  </tbody>\n",
       "</table>\n",
       "</div>"
      ],
      "text/plain": [
       "         outdoor\n",
       "month           \n",
       "1      -1.776646\n",
       "2       2.231613\n",
       "3       4.615437\n",
       "4       8.105193\n",
       "5      12.261396"
      ]
     },
     "execution_count": 30,
     "metadata": {},
     "output_type": "execute_result"
    }
   ],
   "source": [
    "df1_month = df1_month.groupby(\"month\").aggregate(np.mean)\n",
    "\n",
    "df1_month.head()"
   ]
  },
  {
   "cell_type": "code",
   "execution_count": 31,
   "id": "c7d46186-1acb-438a-8689-cd22b23058ae",
   "metadata": {},
   "outputs": [
    {
     "data": {
      "text/html": [
       "<div>\n",
       "<style scoped>\n",
       "    .dataframe tbody tr th:only-of-type {\n",
       "        vertical-align: middle;\n",
       "    }\n",
       "\n",
       "    .dataframe tbody tr th {\n",
       "        vertical-align: top;\n",
       "    }\n",
       "\n",
       "    .dataframe thead th {\n",
       "        text-align: right;\n",
       "    }\n",
       "</style>\n",
       "<table border=\"1\" class=\"dataframe\">\n",
       "  <thead>\n",
       "    <tr style=\"text-align: right;\">\n",
       "      <th></th>\n",
       "      <th>indoor</th>\n",
       "    </tr>\n",
       "    <tr>\n",
       "      <th>month</th>\n",
       "      <th></th>\n",
       "    </tr>\n",
       "  </thead>\n",
       "  <tbody>\n",
       "    <tr>\n",
       "      <th>1</th>\n",
       "      <td>19.862590</td>\n",
       "    </tr>\n",
       "    <tr>\n",
       "      <th>2</th>\n",
       "      <td>20.231507</td>\n",
       "    </tr>\n",
       "    <tr>\n",
       "      <th>3</th>\n",
       "      <td>19.597748</td>\n",
       "    </tr>\n",
       "    <tr>\n",
       "      <th>4</th>\n",
       "      <td>22.149754</td>\n",
       "    </tr>\n",
       "    <tr>\n",
       "      <th>5</th>\n",
       "      <td>26.332160</td>\n",
       "    </tr>\n",
       "  </tbody>\n",
       "</table>\n",
       "</div>"
      ],
      "text/plain": [
       "          indoor\n",
       "month           \n",
       "1      19.862590\n",
       "2      20.231507\n",
       "3      19.597748\n",
       "4      22.149754\n",
       "5      26.332160"
      ]
     },
     "execution_count": 31,
     "metadata": {},
     "output_type": "execute_result"
    }
   ],
   "source": [
    "df2_month = df2.reset_index()\n",
    "df2_month[\"month\"] = df2_month.time.apply(lambda x: x.month)\n",
    "df2_month = df2_month.groupby(\"month\").aggregate(np.mean)\n",
    "\n",
    "df2_month.head()"
   ]
  },
  {
   "cell_type": "markdown",
   "id": "bac6fd24-d7dc-4481-882f-038d491746a7",
   "metadata": {},
   "source": [
    "After having repeated the same process for the second DataFrame (indoor\n",
    "temperatures), we can combine `df1_month` and `df2_month` into a single DataFrame using\n",
    "the join method:"
   ]
  },
  {
   "cell_type": "code",
   "execution_count": 32,
   "id": "998cb55b-653c-4a43-8673-1b93143141ec",
   "metadata": {},
   "outputs": [
    {
     "data": {
      "text/html": [
       "<div>\n",
       "<style scoped>\n",
       "    .dataframe tbody tr th:only-of-type {\n",
       "        vertical-align: middle;\n",
       "    }\n",
       "\n",
       "    .dataframe tbody tr th {\n",
       "        vertical-align: top;\n",
       "    }\n",
       "\n",
       "    .dataframe thead th {\n",
       "        text-align: right;\n",
       "    }\n",
       "</style>\n",
       "<table border=\"1\" class=\"dataframe\">\n",
       "  <thead>\n",
       "    <tr style=\"text-align: right;\">\n",
       "      <th></th>\n",
       "      <th>outdoor</th>\n",
       "      <th>indoor</th>\n",
       "    </tr>\n",
       "    <tr>\n",
       "      <th>month</th>\n",
       "      <th></th>\n",
       "      <th></th>\n",
       "    </tr>\n",
       "  </thead>\n",
       "  <tbody>\n",
       "    <tr>\n",
       "      <th>1</th>\n",
       "      <td>-1.776646</td>\n",
       "      <td>19.862590</td>\n",
       "    </tr>\n",
       "    <tr>\n",
       "      <th>2</th>\n",
       "      <td>2.231613</td>\n",
       "      <td>20.231507</td>\n",
       "    </tr>\n",
       "    <tr>\n",
       "      <th>3</th>\n",
       "      <td>4.615437</td>\n",
       "      <td>19.597748</td>\n",
       "    </tr>\n",
       "    <tr>\n",
       "      <th>4</th>\n",
       "      <td>8.105193</td>\n",
       "      <td>22.149754</td>\n",
       "    </tr>\n",
       "    <tr>\n",
       "      <th>5</th>\n",
       "      <td>12.261396</td>\n",
       "      <td>26.332160</td>\n",
       "    </tr>\n",
       "  </tbody>\n",
       "</table>\n",
       "</div>"
      ],
      "text/plain": [
       "         outdoor     indoor\n",
       "month                      \n",
       "1      -1.776646  19.862590\n",
       "2       2.231613  20.231507\n",
       "3       4.615437  19.597748\n",
       "4       8.105193  22.149754\n",
       "5      12.261396  26.332160"
      ]
     },
     "execution_count": 32,
     "metadata": {},
     "output_type": "execute_result"
    }
   ],
   "source": [
    "df_month = df1_month.join(df2_month)\n",
    "\n",
    "df_month.head()"
   ]
  },
  {
   "cell_type": "markdown",
   "id": "a5ea9b19-3740-4421-a885-45df34d1b3fe",
   "metadata": {},
   "source": [
    "In only a few lines of code, we have here leveraged some of the many data processing\n",
    "capabilities of pandas to transform and compute with the data. It is often the case that\n",
    "there are many different ways to combine the tools provided by pandas to do the same,\n",
    "or a similar, analysis. For the current example, we can do the whole process in a single\n",
    "line of code, using the `to_period` and `groupby` methods and the `concat` function (which\n",
    "like `join` combines DataFrame into a single DataFrame):"
   ]
  },
  {
   "cell_type": "code",
   "execution_count": 37,
   "id": "533bf2eb-d958-498f-8b8e-31b723fa727e",
   "metadata": {},
   "outputs": [
    {
     "data": {
      "text/html": [
       "<div>\n",
       "<style scoped>\n",
       "    .dataframe tbody tr th:only-of-type {\n",
       "        vertical-align: middle;\n",
       "    }\n",
       "\n",
       "    .dataframe tbody tr th {\n",
       "        vertical-align: top;\n",
       "    }\n",
       "\n",
       "    .dataframe thead th {\n",
       "        text-align: right;\n",
       "    }\n",
       "</style>\n",
       "<table border=\"1\" class=\"dataframe\">\n",
       "  <thead>\n",
       "    <tr style=\"text-align: right;\">\n",
       "      <th></th>\n",
       "      <th>outdoor</th>\n",
       "    </tr>\n",
       "    <tr>\n",
       "      <th>time</th>\n",
       "      <th></th>\n",
       "    </tr>\n",
       "  </thead>\n",
       "  <tbody>\n",
       "    <tr>\n",
       "      <th>2014-01-01 00:03:06+01:00</th>\n",
       "      <td>4.38</td>\n",
       "    </tr>\n",
       "    <tr>\n",
       "      <th>2014-01-01 00:13:06+01:00</th>\n",
       "      <td>4.25</td>\n",
       "    </tr>\n",
       "    <tr>\n",
       "      <th>2014-01-01 00:23:07+01:00</th>\n",
       "      <td>4.19</td>\n",
       "    </tr>\n",
       "    <tr>\n",
       "      <th>2014-01-01 00:33:07+01:00</th>\n",
       "      <td>4.06</td>\n",
       "    </tr>\n",
       "    <tr>\n",
       "      <th>2014-01-01 00:43:08+01:00</th>\n",
       "      <td>4.06</td>\n",
       "    </tr>\n",
       "  </tbody>\n",
       "</table>\n",
       "</div>"
      ],
      "text/plain": [
       "                           outdoor\n",
       "time                              \n",
       "2014-01-01 00:03:06+01:00     4.38\n",
       "2014-01-01 00:13:06+01:00     4.25\n",
       "2014-01-01 00:23:07+01:00     4.19\n",
       "2014-01-01 00:33:07+01:00     4.06\n",
       "2014-01-01 00:43:08+01:00     4.06"
      ]
     },
     "execution_count": 37,
     "metadata": {},
     "output_type": "execute_result"
    }
   ],
   "source": [
    "df1.head()"
   ]
  },
  {
   "cell_type": "code",
   "execution_count": 47,
   "id": "80715e70-c735-4257-b787-f28681d2d17f",
   "metadata": {},
   "outputs": [
    {
     "name": "stderr",
     "output_type": "stream",
     "text": [
      "/home/you/anaconda3/lib/python3.8/site-packages/pandas/core/arrays/datetimes.py:1143: UserWarning: Converting to PeriodArray/Index representation will drop timezone information.\n",
      "  warnings.warn(\n"
     ]
    },
    {
     "data": {
      "text/html": [
       "<div>\n",
       "<style scoped>\n",
       "    .dataframe tbody tr th:only-of-type {\n",
       "        vertical-align: middle;\n",
       "    }\n",
       "\n",
       "    .dataframe tbody tr th {\n",
       "        vertical-align: top;\n",
       "    }\n",
       "\n",
       "    .dataframe thead th {\n",
       "        text-align: right;\n",
       "    }\n",
       "</style>\n",
       "<table border=\"1\" class=\"dataframe\">\n",
       "  <thead>\n",
       "    <tr style=\"text-align: right;\">\n",
       "      <th></th>\n",
       "      <th>outdoor</th>\n",
       "    </tr>\n",
       "    <tr>\n",
       "      <th>time</th>\n",
       "      <th></th>\n",
       "    </tr>\n",
       "  </thead>\n",
       "  <tbody>\n",
       "    <tr>\n",
       "      <th>2014-01</th>\n",
       "      <td>-1.776646</td>\n",
       "    </tr>\n",
       "    <tr>\n",
       "      <th>2014-02</th>\n",
       "      <td>2.231613</td>\n",
       "    </tr>\n",
       "    <tr>\n",
       "      <th>2014-03</th>\n",
       "      <td>4.615437</td>\n",
       "    </tr>\n",
       "    <tr>\n",
       "      <th>2014-04</th>\n",
       "      <td>8.105193</td>\n",
       "    </tr>\n",
       "    <tr>\n",
       "      <th>2014-05</th>\n",
       "      <td>12.261396</td>\n",
       "    </tr>\n",
       "  </tbody>\n",
       "</table>\n",
       "</div>"
      ],
      "text/plain": [
       "           outdoor\n",
       "time              \n",
       "2014-01  -1.776646\n",
       "2014-02   2.231613\n",
       "2014-03   4.615437\n",
       "2014-04   8.105193\n",
       "2014-05  12.261396"
      ]
     },
     "execution_count": 47,
     "metadata": {},
     "output_type": "execute_result"
    }
   ],
   "source": [
    "df1.to_period(\"M\").groupby(level=0).mean().head()"
   ]
  },
  {
   "cell_type": "code",
   "execution_count": 48,
   "id": "128135f2-3710-4596-9104-ae17f00328cd",
   "metadata": {},
   "outputs": [
    {
     "name": "stderr",
     "output_type": "stream",
     "text": [
      "/home/you/anaconda3/lib/python3.8/site-packages/pandas/core/arrays/datetimes.py:1143: UserWarning: Converting to PeriodArray/Index representation will drop timezone information.\n",
      "  warnings.warn(\n"
     ]
    },
    {
     "data": {
      "text/html": [
       "<div>\n",
       "<style scoped>\n",
       "    .dataframe tbody tr th:only-of-type {\n",
       "        vertical-align: middle;\n",
       "    }\n",
       "\n",
       "    .dataframe tbody tr th {\n",
       "        vertical-align: top;\n",
       "    }\n",
       "\n",
       "    .dataframe thead th {\n",
       "        text-align: right;\n",
       "    }\n",
       "</style>\n",
       "<table border=\"1\" class=\"dataframe\">\n",
       "  <thead>\n",
       "    <tr style=\"text-align: right;\">\n",
       "      <th></th>\n",
       "      <th>outdoor</th>\n",
       "      <th>indoor</th>\n",
       "    </tr>\n",
       "    <tr>\n",
       "      <th>time</th>\n",
       "      <th></th>\n",
       "      <th></th>\n",
       "    </tr>\n",
       "  </thead>\n",
       "  <tbody>\n",
       "    <tr>\n",
       "      <th>2014-01</th>\n",
       "      <td>-1.776646</td>\n",
       "      <td>19.862590</td>\n",
       "    </tr>\n",
       "    <tr>\n",
       "      <th>2014-02</th>\n",
       "      <td>2.231613</td>\n",
       "      <td>20.231507</td>\n",
       "    </tr>\n",
       "    <tr>\n",
       "      <th>2014-03</th>\n",
       "      <td>4.615437</td>\n",
       "      <td>19.597748</td>\n",
       "    </tr>\n",
       "    <tr>\n",
       "      <th>2014-04</th>\n",
       "      <td>8.105193</td>\n",
       "      <td>22.149754</td>\n",
       "    </tr>\n",
       "    <tr>\n",
       "      <th>2014-05</th>\n",
       "      <td>12.261396</td>\n",
       "      <td>26.332160</td>\n",
       "    </tr>\n",
       "  </tbody>\n",
       "</table>\n",
       "</div>"
      ],
      "text/plain": [
       "           outdoor     indoor\n",
       "time                         \n",
       "2014-01  -1.776646  19.862590\n",
       "2014-02   2.231613  20.231507\n",
       "2014-03   4.615437  19.597748\n",
       "2014-04   8.105193  22.149754\n",
       "2014-05  12.261396  26.332160"
      ]
     },
     "execution_count": 48,
     "metadata": {},
     "output_type": "execute_result"
    }
   ],
   "source": [
    "df_month = pd.concat(\n",
    "    [df.to_period(\"M\").groupby(level=0).mean() for df in [df1, df2]], axis=1\n",
    ")\n",
    "\n",
    "df_month.head()"
   ]
  },
  {
   "cell_type": "markdown",
   "id": "82a8afd5-ee24-4bed-a092-c56252bda329",
   "metadata": {},
   "source": [
    "To visualize the results, we plot the average monthly temperatures as a bar plot and a\n",
    "boxplot using the DataFrame method plot. The result is shown in Figure"
   ]
  },
  {
   "cell_type": "code",
   "execution_count": 49,
   "id": "b8c4b279-9bdb-49de-8bae-4925202f1dd0",
   "metadata": {},
   "outputs": [
    {
     "data": {
      "text/plain": [
       "<AxesSubplot:>"
      ]
     },
     "execution_count": 49,
     "metadata": {},
     "output_type": "execute_result"
    },
    {
     "data": {
      "image/png": "[encoded data removed]",
      "text/plain": [
       "<Figure size 864x288 with 2 Axes>"
      ]
     },
     "metadata": {},
     "output_type": "display_data"
    }
   ],
   "source": [
    "fig, axes = plt.subplots(1, 2, figsize=(12, 4))\n",
    "\n",
    "df_month.plot(kind=\"bar\", ax=axes[0])\n",
    "df_month.plot(kind=\"box\", ax=axes[1])"
   ]
  },
  {
   "cell_type": "markdown",
   "id": "cb895a85-0030-4a1a-a28f-249b4bef8668",
   "metadata": {},
   "source": [
    "> Average indoor and outdoor temperatures per month (left) and a\n",
    "boxplot for monthly indoor and outdoor temperature (right)"
   ]
  },
  {
   "cell_type": "code",
   "execution_count": 51,
   "id": "3afc371b-a88c-4e04-ab6f-cef648789d2b",
   "metadata": {},
   "outputs": [
    {
     "data": {
      "text/html": [
       "<div>\n",
       "<style scoped>\n",
       "    .dataframe tbody tr th:only-of-type {\n",
       "        vertical-align: middle;\n",
       "    }\n",
       "\n",
       "    .dataframe tbody tr th {\n",
       "        vertical-align: top;\n",
       "    }\n",
       "\n",
       "    .dataframe thead th {\n",
       "        text-align: right;\n",
       "    }\n",
       "</style>\n",
       "<table border=\"1\" class=\"dataframe\">\n",
       "  <thead>\n",
       "    <tr style=\"text-align: right;\">\n",
       "      <th></th>\n",
       "      <th>outdoor</th>\n",
       "    </tr>\n",
       "    <tr>\n",
       "      <th>time</th>\n",
       "      <th></th>\n",
       "    </tr>\n",
       "  </thead>\n",
       "  <tbody>\n",
       "    <tr>\n",
       "      <th>2014-01-01 00:03:06+01:00</th>\n",
       "      <td>4.38</td>\n",
       "    </tr>\n",
       "    <tr>\n",
       "      <th>2014-01-01 00:13:06+01:00</th>\n",
       "      <td>4.25</td>\n",
       "    </tr>\n",
       "    <tr>\n",
       "      <th>2014-01-01 00:23:07+01:00</th>\n",
       "      <td>4.19</td>\n",
       "    </tr>\n",
       "    <tr>\n",
       "      <th>2014-01-01 00:33:07+01:00</th>\n",
       "      <td>4.06</td>\n",
       "    </tr>\n",
       "    <tr>\n",
       "      <th>2014-01-01 00:43:08+01:00</th>\n",
       "      <td>4.06</td>\n",
       "    </tr>\n",
       "  </tbody>\n",
       "</table>\n",
       "</div>"
      ],
      "text/plain": [
       "                           outdoor\n",
       "time                              \n",
       "2014-01-01 00:03:06+01:00     4.38\n",
       "2014-01-01 00:13:06+01:00     4.25\n",
       "2014-01-01 00:23:07+01:00     4.19\n",
       "2014-01-01 00:33:07+01:00     4.06\n",
       "2014-01-01 00:43:08+01:00     4.06"
      ]
     },
     "execution_count": 51,
     "metadata": {},
     "output_type": "execute_result"
    }
   ],
   "source": [
    "df1.head()"
   ]
  },
  {
   "cell_type": "code",
   "execution_count": 61,
   "id": "b7379b08-fa65-49f2-b2be-7dcb2b4f5f3a",
   "metadata": {},
   "outputs": [
    {
     "data": {
      "image/png": "[encoded data removed]",
      "text/plain": [
       "<Figure size 864x432 with 2 Axes>"
      ]
     },
     "metadata": {},
     "output_type": "display_data"
    }
   ],
   "source": [
    "df1_hour = df1.resample(\"H\").mean()\n",
    "df1_hour.columns = [\"outdoor (hourly avg.)\"]\n",
    "\n",
    "df1_day = df1.resample(\"D\").mean()\n",
    "df1_day.columns = [\"outdoor (daily avg.)\"]\n",
    "\n",
    "df1_week = df1.resample(\"7D\").mean()\n",
    "df1_week.columns = [\"outdoor (weekly avg.)\"]\n",
    "\n",
    "df1_month = df1.resample(\"M\").mean()\n",
    "df1_month.columns = [\"outdoor (monthly avg.)\"]\n",
    "\n",
    "df_diff = df1.resample(\"D\").mean().outdoor - df2.resample(\"D\").mean().indoor\n",
    "\n",
    "fig, (ax1, ax2) = plt.subplots(2, 1, figsize=(12, 6))\n",
    "\n",
    "df1_hour.plot(ax=ax1, alpha=0.25)\n",
    "df1_day.plot(ax=ax1)\n",
    "df1_week.plot(ax=ax1)\n",
    "df1_month.plot(ax=ax1)\n",
    "\n",
    "df_diff.plot(ax=ax2)\n",
    "ax2.set_title(\"temperature difference between outdoor and indoor\")\n",
    "fig.tight_layout()"
   ]
  },
  {
   "cell_type": "markdown",
   "id": "936be0d9-6b3a-4f83-b949-caf6c31d6b87",
   "metadata": {},
   "source": [
    "> Outdoor temperature, resampled to hourly, daily, weekly, and\n",
    "monthly averages (top). Daily temperature difference between outdoors and\n",
    "indoors (bottom)"
   ]
  },
  {
   "cell_type": "markdown",
   "id": "d3f4f7a2-78c8-4332-9de7-532748b84c48",
   "metadata": {},
   "source": [
    "As an illustration of up-sampling, consider the following example where we\n",
    "resample the data frame `df1` to a sampling frequency of 5 minutes, using three different\n",
    "aggregation methods (`mean`, `ffill` for forward-fill, and `bfill` for back-fill). The original\n",
    "sample frequency is approximately 10 minutes, so this resampling is indeed up-sampling.\n",
    "The result is three new data frames that we combine into a single DataFrame\n",
    "object using the `concat` function. The first five rows in the data frame are also shown\n",
    "in the following example. Note that every second data point is a new sample point,\n",
    "and depending on the value of the aggregation method, those values are filled (or not)\n",
    "according to the specified strategies. When no fill strategy is selected, the corresponding\n",
    "values are marked as missing using the NaN value."
   ]
  },
  {
   "cell_type": "code",
   "execution_count": 75,
   "id": "a00892e0-5dc0-441e-a58e-517d30ac0172",
   "metadata": {},
   "outputs": [
    {
     "data": {
      "text/plain": [
       "(                           None\n",
       " time                           \n",
       " 2014-01-01 00:00:00+01:00  4.38\n",
       " 2014-01-01 00:05:00+01:00   NaN\n",
       " 2014-01-01 00:10:00+01:00  4.25\n",
       " 2014-01-01 00:15:00+01:00   NaN\n",
       " 2014-01-01 00:20:00+01:00  4.19\n",
       " ...                         ...\n",
       " 2014-12-30 23:35:00+01:00  1.62\n",
       " 2014-12-30 23:40:00+01:00   NaN\n",
       " 2014-12-30 23:45:00+01:00  1.62\n",
       " 2014-12-30 23:50:00+01:00   NaN\n",
       " 2014-12-30 23:55:00+01:00  1.75\n",
       " \n",
       " [104832 rows x 1 columns],)"
      ]
     },
     "execution_count": 75,
     "metadata": {},
     "output_type": "execute_result"
    }
   ],
   "source": [
    "nofill = (df1.resample(\"5min\").mean().rename(columns={\"outdoor\": \"None\"}),)\n",
    "\n",
    "nofill"
   ]
  },
  {
   "cell_type": "code",
   "execution_count": 66,
   "id": "870b0c44-681b-4798-9958-2b4f4159ece4",
   "metadata": {},
   "outputs": [
    {
     "data": {
      "text/html": [
       "<div>\n",
       "<style scoped>\n",
       "    .dataframe tbody tr th:only-of-type {\n",
       "        vertical-align: middle;\n",
       "    }\n",
       "\n",
       "    .dataframe tbody tr th {\n",
       "        vertical-align: top;\n",
       "    }\n",
       "\n",
       "    .dataframe thead th {\n",
       "        text-align: right;\n",
       "    }\n",
       "</style>\n",
       "<table border=\"1\" class=\"dataframe\">\n",
       "  <thead>\n",
       "    <tr style=\"text-align: right;\">\n",
       "      <th></th>\n",
       "      <th>ffill</th>\n",
       "    </tr>\n",
       "    <tr>\n",
       "      <th>time</th>\n",
       "      <th></th>\n",
       "    </tr>\n",
       "  </thead>\n",
       "  <tbody>\n",
       "    <tr>\n",
       "      <th>2014-01-01 00:00:00+01:00</th>\n",
       "      <td>NaN</td>\n",
       "    </tr>\n",
       "    <tr>\n",
       "      <th>2014-01-01 00:05:00+01:00</th>\n",
       "      <td>4.38</td>\n",
       "    </tr>\n",
       "    <tr>\n",
       "      <th>2014-01-01 00:10:00+01:00</th>\n",
       "      <td>4.38</td>\n",
       "    </tr>\n",
       "    <tr>\n",
       "      <th>2014-01-01 00:15:00+01:00</th>\n",
       "      <td>4.25</td>\n",
       "    </tr>\n",
       "    <tr>\n",
       "      <th>2014-01-01 00:20:00+01:00</th>\n",
       "      <td>4.25</td>\n",
       "    </tr>\n",
       "    <tr>\n",
       "      <th>...</th>\n",
       "      <td>...</td>\n",
       "    </tr>\n",
       "    <tr>\n",
       "      <th>2014-12-30 23:35:00+01:00</th>\n",
       "      <td>1.62</td>\n",
       "    </tr>\n",
       "    <tr>\n",
       "      <th>2014-12-30 23:40:00+01:00</th>\n",
       "      <td>1.62</td>\n",
       "    </tr>\n",
       "    <tr>\n",
       "      <th>2014-12-30 23:45:00+01:00</th>\n",
       "      <td>1.62</td>\n",
       "    </tr>\n",
       "    <tr>\n",
       "      <th>2014-12-30 23:50:00+01:00</th>\n",
       "      <td>1.62</td>\n",
       "    </tr>\n",
       "    <tr>\n",
       "      <th>2014-12-30 23:55:00+01:00</th>\n",
       "      <td>1.62</td>\n",
       "    </tr>\n",
       "  </tbody>\n",
       "</table>\n",
       "<p>104832 rows × 1 columns</p>\n",
       "</div>"
      ],
      "text/plain": [
       "                           ffill\n",
       "time                            \n",
       "2014-01-01 00:00:00+01:00    NaN\n",
       "2014-01-01 00:05:00+01:00   4.38\n",
       "2014-01-01 00:10:00+01:00   4.38\n",
       "2014-01-01 00:15:00+01:00   4.25\n",
       "2014-01-01 00:20:00+01:00   4.25\n",
       "...                          ...\n",
       "2014-12-30 23:35:00+01:00   1.62\n",
       "2014-12-30 23:40:00+01:00   1.62\n",
       "2014-12-30 23:45:00+01:00   1.62\n",
       "2014-12-30 23:50:00+01:00   1.62\n",
       "2014-12-30 23:55:00+01:00   1.62\n",
       "\n",
       "[104832 rows x 1 columns]"
      ]
     },
     "execution_count": 66,
     "metadata": {},
     "output_type": "execute_result"
    }
   ],
   "source": [
    "ffill = df1.resample(\"5min\").ffill().rename(columns={\"outdoor\": \"ffill\"})\n",
    "ffill"
   ]
  },
  {
   "cell_type": "code",
   "execution_count": 71,
   "id": "104fc54d-3256-4481-95a9-9e3173a8d1e1",
   "metadata": {},
   "outputs": [
    {
     "data": {
      "text/html": [
       "<div>\n",
       "<style scoped>\n",
       "    .dataframe tbody tr th:only-of-type {\n",
       "        vertical-align: middle;\n",
       "    }\n",
       "\n",
       "    .dataframe tbody tr th {\n",
       "        vertical-align: top;\n",
       "    }\n",
       "\n",
       "    .dataframe thead th {\n",
       "        text-align: right;\n",
       "    }\n",
       "</style>\n",
       "<table border=\"1\" class=\"dataframe\">\n",
       "  <thead>\n",
       "    <tr style=\"text-align: right;\">\n",
       "      <th></th>\n",
       "      <th>bfill</th>\n",
       "    </tr>\n",
       "    <tr>\n",
       "      <th>time</th>\n",
       "      <th></th>\n",
       "    </tr>\n",
       "  </thead>\n",
       "  <tbody>\n",
       "    <tr>\n",
       "      <th>2014-01-01 00:00:00+01:00</th>\n",
       "      <td>4.38</td>\n",
       "    </tr>\n",
       "    <tr>\n",
       "      <th>2014-01-01 00:05:00+01:00</th>\n",
       "      <td>4.25</td>\n",
       "    </tr>\n",
       "    <tr>\n",
       "      <th>2014-01-01 00:10:00+01:00</th>\n",
       "      <td>4.25</td>\n",
       "    </tr>\n",
       "    <tr>\n",
       "      <th>2014-01-01 00:15:00+01:00</th>\n",
       "      <td>4.19</td>\n",
       "    </tr>\n",
       "    <tr>\n",
       "      <th>2014-01-01 00:20:00+01:00</th>\n",
       "      <td>4.19</td>\n",
       "    </tr>\n",
       "    <tr>\n",
       "      <th>...</th>\n",
       "      <td>...</td>\n",
       "    </tr>\n",
       "    <tr>\n",
       "      <th>2014-12-30 23:35:00+01:00</th>\n",
       "      <td>1.62</td>\n",
       "    </tr>\n",
       "    <tr>\n",
       "      <th>2014-12-30 23:40:00+01:00</th>\n",
       "      <td>1.62</td>\n",
       "    </tr>\n",
       "    <tr>\n",
       "      <th>2014-12-30 23:45:00+01:00</th>\n",
       "      <td>1.62</td>\n",
       "    </tr>\n",
       "    <tr>\n",
       "      <th>2014-12-30 23:50:00+01:00</th>\n",
       "      <td>1.75</td>\n",
       "    </tr>\n",
       "    <tr>\n",
       "      <th>2014-12-30 23:55:00+01:00</th>\n",
       "      <td>1.75</td>\n",
       "    </tr>\n",
       "  </tbody>\n",
       "</table>\n",
       "<p>104832 rows × 1 columns</p>\n",
       "</div>"
      ],
      "text/plain": [
       "                           bfill\n",
       "time                            \n",
       "2014-01-01 00:00:00+01:00   4.38\n",
       "2014-01-01 00:05:00+01:00   4.25\n",
       "2014-01-01 00:10:00+01:00   4.25\n",
       "2014-01-01 00:15:00+01:00   4.19\n",
       "2014-01-01 00:20:00+01:00   4.19\n",
       "...                          ...\n",
       "2014-12-30 23:35:00+01:00   1.62\n",
       "2014-12-30 23:40:00+01:00   1.62\n",
       "2014-12-30 23:45:00+01:00   1.62\n",
       "2014-12-30 23:50:00+01:00   1.75\n",
       "2014-12-30 23:55:00+01:00   1.75\n",
       "\n",
       "[104832 rows x 1 columns]"
      ]
     },
     "execution_count": 71,
     "metadata": {},
     "output_type": "execute_result"
    }
   ],
   "source": [
    "bfill = df1.resample(\"5min\").bfill().rename(columns={\"outdoor\": \"bfill\"})\n",
    "bfill"
   ]
  },
  {
   "cell_type": "code",
   "execution_count": 73,
   "id": "0eee2477-2fff-4e40-860e-2b00e7d437cc",
   "metadata": {},
   "outputs": [
    {
     "ename": "TypeError",
     "evalue": "cannot concatenate object of type '<class 'tuple'>'; only Series and DataFrame objs are valid",
     "output_type": "error",
     "traceback": [
      "\u001b[0;31m---------------------------------------------------------------------------\u001b[0m",
      "\u001b[0;31mTypeError\u001b[0m                                 Traceback (most recent call last)",
      "\u001b[0;32m<ipython-input-73-0a62dccd925a>\u001b[0m in \u001b[0;36m<module>\u001b[0;34m\u001b[0m\n\u001b[0;32m----> 1\u001b[0;31m \u001b[0mpd\u001b[0m\u001b[0;34m.\u001b[0m\u001b[0mconcat\u001b[0m\u001b[0;34m(\u001b[0m\u001b[0;34m[\u001b[0m\u001b[0mnofill\u001b[0m\u001b[0;34m,\u001b[0m \u001b[0mffill\u001b[0m\u001b[0;34m,\u001b[0m \u001b[0mbfill\u001b[0m\u001b[0;34m]\u001b[0m\u001b[0;34m,\u001b[0m \u001b[0maxis\u001b[0m\u001b[0;34m=\u001b[0m\u001b[0;36m1\u001b[0m\u001b[0;34m)\u001b[0m\u001b[0;34m.\u001b[0m\u001b[0mhead\u001b[0m\u001b[0;34m(\u001b[0m\u001b[0;34m)\u001b[0m\u001b[0;34m\u001b[0m\u001b[0;34m\u001b[0m\u001b[0m\n\u001b[0m",
      "\u001b[0;32m~/anaconda3/lib/python3.8/site-packages/pandas/util/_decorators.py\u001b[0m in \u001b[0;36mwrapper\u001b[0;34m(*args, **kwargs)\u001b[0m\n\u001b[1;32m    309\u001b[0m                     \u001b[0mstacklevel\u001b[0m\u001b[0;34m=\u001b[0m\u001b[0mstacklevel\u001b[0m\u001b[0;34m,\u001b[0m\u001b[0;34m\u001b[0m\u001b[0;34m\u001b[0m\u001b[0m\n\u001b[1;32m    310\u001b[0m                 )\n\u001b[0;32m--> 311\u001b[0;31m             \u001b[0;32mreturn\u001b[0m \u001b[0mfunc\u001b[0m\u001b[0;34m(\u001b[0m\u001b[0;34m*\u001b[0m\u001b[0margs\u001b[0m\u001b[0;34m,\u001b[0m \u001b[0;34m**\u001b[0m\u001b[0mkwargs\u001b[0m\u001b[0;34m)\u001b[0m\u001b[0;34m\u001b[0m\u001b[0;34m\u001b[0m\u001b[0m\n\u001b[0m\u001b[1;32m    312\u001b[0m \u001b[0;34m\u001b[0m\u001b[0m\n\u001b[1;32m    313\u001b[0m         \u001b[0;32mreturn\u001b[0m \u001b[0mwrapper\u001b[0m\u001b[0;34m\u001b[0m\u001b[0;34m\u001b[0m\u001b[0m\n",
      "\u001b[0;32m~/anaconda3/lib/python3.8/site-packages/pandas/core/reshape/concat.py\u001b[0m in \u001b[0;36mconcat\u001b[0;34m(objs, axis, join, ignore_index, keys, levels, names, verify_integrity, sort, copy)\u001b[0m\n\u001b[1;32m    292\u001b[0m     \u001b[0mValueError\u001b[0m\u001b[0;34m:\u001b[0m \u001b[0mIndexes\u001b[0m \u001b[0mhave\u001b[0m \u001b[0moverlapping\u001b[0m \u001b[0mvalues\u001b[0m\u001b[0;34m:\u001b[0m \u001b[0;34m[\u001b[0m\u001b[0;34m'a'\u001b[0m\u001b[0;34m]\u001b[0m\u001b[0;34m\u001b[0m\u001b[0;34m\u001b[0m\u001b[0m\n\u001b[1;32m    293\u001b[0m     \"\"\"\n\u001b[0;32m--> 294\u001b[0;31m     op = _Concatenator(\n\u001b[0m\u001b[1;32m    295\u001b[0m         \u001b[0mobjs\u001b[0m\u001b[0;34m,\u001b[0m\u001b[0;34m\u001b[0m\u001b[0;34m\u001b[0m\u001b[0m\n\u001b[1;32m    296\u001b[0m         \u001b[0maxis\u001b[0m\u001b[0;34m=\u001b[0m\u001b[0maxis\u001b[0m\u001b[0;34m,\u001b[0m\u001b[0;34m\u001b[0m\u001b[0;34m\u001b[0m\u001b[0m\n",
      "\u001b[0;32m~/anaconda3/lib/python3.8/site-packages/pandas/core/reshape/concat.py\u001b[0m in \u001b[0;36m__init__\u001b[0;34m(self, objs, axis, join, keys, levels, names, ignore_index, verify_integrity, copy, sort)\u001b[0m\n\u001b[1;32m    382\u001b[0m                     \u001b[0;34m\"only Series and DataFrame objs are valid\"\u001b[0m\u001b[0;34m\u001b[0m\u001b[0;34m\u001b[0m\u001b[0m\n\u001b[1;32m    383\u001b[0m                 )\n\u001b[0;32m--> 384\u001b[0;31m                 \u001b[0;32mraise\u001b[0m \u001b[0mTypeError\u001b[0m\u001b[0;34m(\u001b[0m\u001b[0mmsg\u001b[0m\u001b[0;34m)\u001b[0m\u001b[0;34m\u001b[0m\u001b[0;34m\u001b[0m\u001b[0m\n\u001b[0m\u001b[1;32m    385\u001b[0m \u001b[0;34m\u001b[0m\u001b[0m\n\u001b[1;32m    386\u001b[0m             \u001b[0mndims\u001b[0m\u001b[0;34m.\u001b[0m\u001b[0madd\u001b[0m\u001b[0;34m(\u001b[0m\u001b[0mobj\u001b[0m\u001b[0;34m.\u001b[0m\u001b[0mndim\u001b[0m\u001b[0;34m)\u001b[0m\u001b[0;34m\u001b[0m\u001b[0;34m\u001b[0m\u001b[0m\n",
      "\u001b[0;31mTypeError\u001b[0m: cannot concatenate object of type '<class 'tuple'>'; only Series and DataFrame objs are valid"
     ]
    }
   ],
   "source": [
    "pd.concat([nofill, ffill, bfill], axis=1).head()"
   ]
  },
  {
   "cell_type": "code",
   "execution_count": 76,
   "id": "9591b658-0b72-4178-bf0e-d78caa04e916",
   "metadata": {},
   "outputs": [
    {
     "data": {
      "text/html": [
       "<div>\n",
       "<style scoped>\n",
       "    .dataframe tbody tr th:only-of-type {\n",
       "        vertical-align: middle;\n",
       "    }\n",
       "\n",
       "    .dataframe tbody tr th {\n",
       "        vertical-align: top;\n",
       "    }\n",
       "\n",
       "    .dataframe thead th {\n",
       "        text-align: right;\n",
       "    }\n",
       "</style>\n",
       "<table border=\"1\" class=\"dataframe\">\n",
       "  <thead>\n",
       "    <tr style=\"text-align: right;\">\n",
       "      <th></th>\n",
       "      <th>None</th>\n",
       "      <th>ffill</th>\n",
       "      <th>bfill</th>\n",
       "    </tr>\n",
       "    <tr>\n",
       "      <th>time</th>\n",
       "      <th></th>\n",
       "      <th></th>\n",
       "      <th></th>\n",
       "    </tr>\n",
       "  </thead>\n",
       "  <tbody>\n",
       "    <tr>\n",
       "      <th>2014-01-01 00:00:00+01:00</th>\n",
       "      <td>4.38</td>\n",
       "      <td>NaN</td>\n",
       "      <td>4.38</td>\n",
       "    </tr>\n",
       "    <tr>\n",
       "      <th>2014-01-01 00:05:00+01:00</th>\n",
       "      <td>NaN</td>\n",
       "      <td>4.38</td>\n",
       "      <td>4.25</td>\n",
       "    </tr>\n",
       "    <tr>\n",
       "      <th>2014-01-01 00:10:00+01:00</th>\n",
       "      <td>4.25</td>\n",
       "      <td>4.38</td>\n",
       "      <td>4.25</td>\n",
       "    </tr>\n",
       "    <tr>\n",
       "      <th>2014-01-01 00:15:00+01:00</th>\n",
       "      <td>NaN</td>\n",
       "      <td>4.25</td>\n",
       "      <td>4.19</td>\n",
       "    </tr>\n",
       "    <tr>\n",
       "      <th>2014-01-01 00:20:00+01:00</th>\n",
       "      <td>4.19</td>\n",
       "      <td>4.25</td>\n",
       "      <td>4.19</td>\n",
       "    </tr>\n",
       "  </tbody>\n",
       "</table>\n",
       "</div>"
      ],
      "text/plain": [
       "                           None  ffill  bfill\n",
       "time                                         \n",
       "2014-01-01 00:00:00+01:00  4.38    NaN   4.38\n",
       "2014-01-01 00:05:00+01:00   NaN   4.38   4.25\n",
       "2014-01-01 00:10:00+01:00  4.25   4.38   4.25\n",
       "2014-01-01 00:15:00+01:00   NaN   4.25   4.19\n",
       "2014-01-01 00:20:00+01:00  4.19   4.25   4.19"
      ]
     },
     "execution_count": 76,
     "metadata": {},
     "output_type": "execute_result"
    }
   ],
   "source": [
    "pd.concat(\n",
    "    [\n",
    "        df1.resample(\"5min\").mean().rename(columns={\"outdoor\": \"None\"}),\n",
    "        df1.resample(\"5min\").ffill().rename(columns={\"outdoor\": \"ffill\"}),\n",
    "        df1.resample(\"5min\").bfill().rename(columns={\"outdoor\": \"bfill\"}),\n",
    "    ],\n",
    "    axis=1,\n",
    ").head()"
   ]
  },
  {
   "cell_type": "code",
   "execution_count": null,
   "id": "5596b5f9-6683-4d66-b2e7-5060dc8f4361",
   "metadata": {},
   "outputs": [],
   "source": []
  }
 ],
 "metadata": {
  "kernelspec": {
   "display_name": "Python 3",
   "language": "python",
   "name": "python3"
  },
  "language_info": {
   "codemirror_mode": {
    "name": "ipython",
    "version": 3
   },
   "file_extension": ".py",
   "mimetype": "text/x-python",
   "name": "python",
   "nbconvert_exporter": "python",
   "pygments_lexer": "ipython3",
   "version": "3.8.12"
  }
 },
 "nbformat": 4,
 "nbformat_minor": 5
}
