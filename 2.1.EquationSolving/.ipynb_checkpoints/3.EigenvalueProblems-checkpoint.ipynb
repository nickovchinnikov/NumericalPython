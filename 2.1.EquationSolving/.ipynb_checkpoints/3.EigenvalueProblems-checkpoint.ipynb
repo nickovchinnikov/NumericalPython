{
 "cells": [
  {
   "cell_type": "markdown",
   "id": "2316f4ee-099d-4fab-b640-f60c0d9f5f65",
   "metadata": {},
   "source": [
    "# Eigenvalue problems"
   ]
  },
  {
   "cell_type": "code",
   "execution_count": 2,
   "id": "fc93453f-6e5c-4d9e-8ea4-5db57313a627",
   "metadata": {},
   "outputs": [],
   "source": [
    "from scipy import linalg as la\n",
    "from scipy import optimize"
   ]
  },
  {
   "cell_type": "markdown",
   "id": "33ac9ebc-7147-4c5c-96bd-341c1c851cb8",
   "metadata": {},
   "source": [
    "### Sympy, Numpy, Matplotlib"
   ]
  },
  {
   "cell_type": "code",
   "execution_count": 3,
   "id": "21726a3f-47a2-4aa5-8777-f4ead1df8404",
   "metadata": {
    "tags": []
   },
   "outputs": [],
   "source": [
    "import sympy\n",
    "sympy.init_printing()\n",
    "\n",
    "import numpy as np\n",
    "\n",
    "%matplotlib inline\n",
    "import matplotlib.pyplot as plt\n",
    "import matplotlib as mpl\n",
    "\n",
    "from mpl_toolkits.mplot3d.axes3d import Axes3D"
   ]
  },
  {
   "cell_type": "markdown",
   "id": "773a7783-adca-4d1a-b4fb-d0b617dcfd86",
   "metadata": {},
   "source": [
    "> For example, to compute the eigenvalues and\n",
    "eigenvectors of symmetric 2 × 2 matrix with symbolic elements, we can use"
   ]
  },
  {
   "cell_type": "code",
   "execution_count": 4,
   "id": "180ca167-f2e2-41bc-8bfe-0765cf7af986",
   "metadata": {},
   "outputs": [
    {
     "data": {
      "text/latex": [
       "$\\displaystyle \\left[\\begin{matrix}\\epsilon & \\Delta\\\\\\Delta & - \\epsilon\\end{matrix}\\right]$"
      ],
      "text/plain": [
       "⎡ε  Δ ⎤\n",
       "⎢     ⎥\n",
       "⎣Δ  -ε⎦"
      ]
     },
     "execution_count": 4,
     "metadata": {},
     "output_type": "execute_result"
    }
   ],
   "source": [
    "eps, delta = sympy.symbols(\"epsilon, Delta\")\n",
    "H = sympy.Matrix([[eps, delta], [delta, -eps]])\n",
    "H"
   ]
  },
  {
   "cell_type": "code",
   "execution_count": 5,
   "id": "2695e4e2-dd3d-4929-81bf-467b8b374e2e",
   "metadata": {},
   "outputs": [
    {
     "data": {
      "image/png": "[encoded data removed]",
      "text/latex": [
       "$\\displaystyle \\left\\{ - \\sqrt{\\Delta^{2} + \\epsilon^{2}} : 1, \\  \\sqrt{\\Delta^{2} + \\epsilon^{2}} : 1\\right\\}$"
      ],
      "text/plain": [
       "⎧    _________        _________   ⎫\n",
       "⎨   ╱  2    2        ╱  2    2    ⎬\n",
       "⎩-╲╱  Δ  + ε  : 1, ╲╱  Δ  + ε  : 1⎭"
      ]
     },
     "execution_count": 5,
     "metadata": {},
     "output_type": "execute_result"
    }
   ],
   "source": [
    "H.eigenvals()"
   ]
  },
  {
   "cell_type": "code",
   "execution_count": 6,
   "id": "d9c408d3-deae-4cbb-8688-f24ce9308c25",
   "metadata": {},
   "outputs": [
    {
     "data": {
      "text/latex": [
       "$\\displaystyle \\left[ \\left( - \\sqrt{\\Delta^{2} + \\epsilon^{2}}, \\  1, \\  \\left[ \\left[\\begin{matrix}\\frac{\\epsilon}{\\Delta} - \\frac{\\sqrt{\\Delta^{2} + \\epsilon^{2}}}{\\Delta}\\\\1\\end{matrix}\\right]\\right]\\right), \\  \\left( \\sqrt{\\Delta^{2} + \\epsilon^{2}}, \\  1, \\  \\left[ \\left[\\begin{matrix}\\frac{\\epsilon}{\\Delta} + \\frac{\\sqrt{\\Delta^{2} + \\epsilon^{2}}}{\\Delta}\\\\1\\end{matrix}\\right]\\right]\\right)\\right]$"
      ],
      "text/plain": [
       "⎡⎛                  ⎡⎡       _________⎤⎤⎞  ⎛                 ⎡⎡       ________\n",
       "⎢⎜    _________     ⎢⎢      ╱  2    2 ⎥⎥⎟  ⎜   _________     ⎢⎢      ╱  2    2\n",
       "⎢⎜   ╱  2    2      ⎢⎢ε   ╲╱  Δ  + ε  ⎥⎥⎟  ⎜  ╱  2    2      ⎢⎢ε   ╲╱  Δ  + ε \n",
       "⎢⎜-╲╱  Δ  + ε  , 1, ⎢⎢─ - ────────────⎥⎥⎟, ⎜╲╱  Δ  + ε  , 1, ⎢⎢─ + ───────────\n",
       "⎢⎜                  ⎢⎢Δ        Δ      ⎥⎥⎟  ⎜                 ⎢⎢Δ        Δ     \n",
       "⎢⎜                  ⎢⎢                ⎥⎥⎟  ⎜                 ⎢⎢               \n",
       "⎣⎝                  ⎣⎣       1        ⎦⎦⎠  ⎝                 ⎣⎣       1       \n",
       "\n",
       "_⎤⎤⎞⎤\n",
       " ⎥⎥⎟⎥\n",
       " ⎥⎥⎟⎥\n",
       "─⎥⎥⎟⎥\n",
       " ⎥⎥⎟⎥\n",
       " ⎥⎥⎟⎥\n",
       " ⎦⎦⎠⎦"
      ]
     },
     "execution_count": 6,
     "metadata": {},
     "output_type": "execute_result"
    }
   ],
   "source": [
    "H.eigenvects()"
   ]
  },
  {
   "cell_type": "code",
   "execution_count": 7,
   "id": "46569f1f-8e35-4861-89fe-172150f528ad",
   "metadata": {},
   "outputs": [
    {
     "data": {
      "text/latex": [
       "$\\displaystyle \\left[\\begin{matrix}0\\end{matrix}\\right]$"
      ],
      "text/plain": [
       "[0]"
      ]
     },
     "execution_count": 7,
     "metadata": {},
     "output_type": "execute_result"
    }
   ],
   "source": [
    "(eval1, _, evec1), (eval2, _, evec2) = H.eigenvects()\n",
    "\n",
    "# Orthogonality\n",
    "sympy.simplify(evec1[0].T * evec2[0])"
   ]
  },
  {
   "cell_type": "markdown",
   "id": "81dba05c-63ae-49ff-b34a-861565494b57",
   "metadata": {},
   "source": [
    "> Obtaining analytical expressions for eigenvalues and eigenvectors using these\n",
    "methods is often very desirable indeed, but unfortunately it only works for small\n",
    "matrices. For anything larger than a 3 × 3, the analytical expression typically becomes\n",
    "extremely lengthy and cumbersome to work with even using a computer algebra\n",
    "system such as SymPy. Therefore, for larger systems we must resort to a fully numerical approach."
   ]
  },
  {
   "cell_type": "code",
   "execution_count": 8,
   "id": "0552c784-fcd7-443a-9ab2-f8a9c28abf15",
   "metadata": {},
   "outputs": [
    {
     "data": {
      "text/plain": [
       "array([13.35310908+0.j, -1.75902942+0.j,  3.40592034+0.j])"
      ]
     },
     "execution_count": 8,
     "metadata": {},
     "output_type": "execute_result"
    }
   ],
   "source": [
    "A = np.array([[1, 3, 5], [3, 5, 3], [5, 3, 9]])\n",
    "evals, evecs = la.eig(A)\n",
    "\n",
    "evals"
   ]
  },
  {
   "cell_type": "code",
   "execution_count": 9,
   "id": "aa34273d-ac3c-4731-9f5d-3f3fab90c3b0",
   "metadata": {},
   "outputs": [
    {
     "data": {
      "text/plain": [
       "array([[ 0.42663918,  0.90353276, -0.04009445],\n",
       "       [ 0.43751227, -0.24498225, -0.8651975 ],\n",
       "       [ 0.79155671, -0.35158534,  0.49982569]])"
      ]
     },
     "execution_count": 9,
     "metadata": {},
     "output_type": "execute_result"
    }
   ],
   "source": [
    "evecs"
   ]
  },
  {
   "cell_type": "code",
   "execution_count": 10,
   "id": "417e07cf-fa3f-4f53-9e66-7249cba116f5",
   "metadata": {},
   "outputs": [
    {
     "data": {
      "text/plain": [
       "array([-1.75902942,  3.40592034, 13.35310908])"
      ]
     },
     "execution_count": 10,
     "metadata": {},
     "output_type": "execute_result"
    }
   ],
   "source": [
    "la.eigvalsh(A)"
   ]
  },
  {
   "cell_type": "markdown",
   "id": "b171c5e1-6437-49ca-865f-597c58b2a049",
   "metadata": {},
   "source": [
    "> Since the matrix in this example is symmetric, we could use la.eigh and la.\n",
    "eigvalsh, giving real-valued eigenvalue arrays, as shown in the cell in the\n",
    "preceding code listing"
   ]
  },
  {
   "cell_type": "markdown",
   "id": "2c7091a9-572d-4186-8949-016d36c69b49",
   "metadata": {},
   "source": []
  }
 ],
 "metadata": {
  "kernelspec": {
   "display_name": "Python 3 (ipykernel)",
   "language": "python",
   "name": "python3"
  },
  "language_info": {
   "codemirror_mode": {
    "name": "ipython",
    "version": 3
   },
   "file_extension": ".py",
   "mimetype": "text/x-python",
   "name": "python",
   "nbconvert_exporter": "python",
   "pygments_lexer": "ipython3",
   "version": "3.8.12"
  }
 },
 "nbformat": 4,
 "nbformat_minor": 5
}
