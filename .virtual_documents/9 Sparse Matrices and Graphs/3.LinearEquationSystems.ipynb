import matplotlib.pyplot as plt
import numpy as np
import scipy.sparse as sp
import scipy.sparse.linalg


N = 10
K = sp.diags([1, -2, 1], [1, 0, -1], shape=[N, N], format="csc")
b = -np.ones(N)


get_ipython().run_line_magic("time", "")

x = sp.linalg.spsolve(K, b)

x


get_ipython().run_line_magic("time", "")

np.linalg.solve(K.todense(), b)


lu = sp.linalg.splu(K)

lu.L


lu.U


x = lu.solve(b)
x


def sp_permute(A, perm_r, perm_c):
    """permute rows and columns of A"""
    M, N = A.shape
    # row permutation matrix
    Pr = sp.coo_matrix((np.ones(M), (perm_r, np.arange(N)))).tocsr()
    # column permutation matrix
    Pc = sp.coo_matrix((np.ones(M), (np.arange(M), perm_c))).tocsr()
    return Pr.T * A * Pc.T


# Not equals zero, not the same!
lu.L * lu.U - K


# Equals zero, same!
sp_permute(lu.L * lu.U, lu.perm_r, lu.perm_c) - K


# Row idxs for permutation
lu.perm_r


# Col idxs for permutation
lu.perm_c


sp.coo_matrix((np.ones(10), (lu.perm_r, np.arange(10)))).toarray()


sp.coo_matrix((np.ones(10), (np.arange(10), lu.perm_c))).toarray()


x, info = sp.linalg.bicgstab(K, b, atol=1e-4)

x, info


x, info = sp.linalg.lgmres(K, b, atol=1e-4)

x, info


N = 10
K = sp.diags([1, -2, 1], [1, 0, -1], shape=[N, N], format="csc")

evals, evecs = sp.linalg.eigs(K, k=4, which="LM")
evals


np.allclose(K.dot(evecs[:, 0]), evals[0] * evecs[:, 0])


evals, evecs = sp.linalg.eigsh(K, k=4, which="LM")

evals


evals, evecs = sp.linalg.eigs(K, k=4, which="SM")

evals


np.real(evals).argsort()


def sp_eigs_sorted(A, k=6, which="SR"):
    """compute and return eigenvalues sorted by the real part"""
    evals, evecs = sp.linalg.eigs(A, k=k, which=which)
    idx = np.real(evals).argsort()
    return evals[idx], evecs[idx]


evals, evecs = sp_eigs_sorted(K, k=4, which="SM")

evals


N = 100
x_vec = np.linspace(0, 1, 50)
M1 = sp.rand(N, N, density=0.2)

M2 = sp.rand(N, N, density=0.2)
evals_mat = np.array([sp_eigs_sorted((1 - x) * M1 + x * M2, k=25)[0] for x in x_vec])


fig, ax = plt.subplots(figsize=(8, 4))
for idx in range(evals_mat.shape[1]):
    ax.plot(x_vec, np.real(evals_mat[:, idx]), lw=0.5)

ax.set_xlabel(r"$x$", fontsize=16)
ax.set_ylabel(r"eig.vals. of $(1-x)M_1+xM_2$", fontsize=16)



