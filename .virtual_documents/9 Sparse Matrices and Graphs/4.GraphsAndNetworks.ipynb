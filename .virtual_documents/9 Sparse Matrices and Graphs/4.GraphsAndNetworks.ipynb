import json

import matplotlib.pyplot as plt
import networkx as nx
import numpy as np
import scipy.sparse as sp
import scipy.sparse.linalg


g = nx.Graph()
g.add_node(1)
g.nodes()


g.add_nodes_from([3, 4, 5])
g.nodes()


g.add_edge(1, 2)
g.edges()


g.add_edges_from([(3, 4), (5, 6)])
g.edges()


g.add_weighted_edges_from([(1, 3, 1.5), (3, 5, 2.5)])

# To add info about date
g.edges(data=True)


g.add_weighted_edges_from([(6, 7, 1.5)])

g.edges(data=True)


with open("tokyo-metro.json") as file:
    data = json.load(file)


data.keys()


data["C"]["color"]


d = list(data.values())
# Station1, Station2, Weights
d[1]["travel_times"][1:3]


g = nx.Graph()

for line in data.values():
    g.add_weighted_edges_from(line["travel_times"])
    g.add_edges_from(line["transfers"])

# C1 and C1 stations
g.edges(("C1", "C2"), data=True)


for n1, n2 in g.edges():
    g[n1][n2]["transfer"] = "weight" not in g[n1][n2]

# C1 and C1 stations data output
g.edges(("C1", "C2"), data=True)


on_foot = [e for e in g.edges() if g.get_edge_data(*e)["transfer"]]
on_train = [e for e in g.edges() if not g.get_edge_data(*e)["transfer"]]


list(g.nodes())[0]


data["C"]["color"]


colors = [data[n[0].upper()]["color"] for n in g.nodes()]
colors[1:3]


fig, ax = plt.subplots(1, 1, figsize=(14, 10))
pos = nx.drawing.nx_agraph.graphviz_layout(g, prog="neato")

nx.draw(g, pos, ax=ax, node_size=200, node_color=colors)
nx.draw_networkx_labels(g, pos=pos, ax=ax, font_size=6)

nx.draw_networkx_edges(g, pos=pos, ax=ax, edgelist=on_train, width=2)
nx.draw_networkx_edges(g, pos=pos, ax=ax, edgelist=on_foot, edge_color="blue")


list(g.degree())[1:3]


d_max = max(d for (n, d) in g.degree())

[(n, d) for (n, d) in g.degree() if d == d_max]


p = nx.shortest_path(g, "Y24", "C19")
p[1:4]


def get_weights(g, p):
    return [
        g[p[n]][p[n + 1]]["weight"]
        for n in range(len(p) - 1)
        if "weight" in g[p[n]][p[n + 1]]
    ]


def sum_path_weights(g, p):
    return sum(get_weights(g, p))


weights = get_weights(g, p)
weights


sum_path_weights(g, p)


h = g.copy()

for n1, n2 in h.edges():
    if h[n1][n2]["transfer"]:
        h[n1][n2]["weight"] = 5


p = nx.shortest_path(h, "Y24", "C19")
p


sum_path_weights(h, p)


p = nx.shortest_path(h, "Z1", "H16")
np.sum(get_weights(h, p))


A = nx.to_scipy_sparse_matrix(g, format="csr")
A


perm = sp.csgraph.reverse_cuthill_mckee(A)

fig, ax = plt.subplots(1, 1, figsize=(8, 4))

ax.spy(A, markersize=2)



