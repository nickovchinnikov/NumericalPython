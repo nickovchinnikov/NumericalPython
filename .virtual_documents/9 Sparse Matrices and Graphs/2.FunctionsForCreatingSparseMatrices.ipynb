import scipy.sparse as sp
import scipy.sparse.linalg

import numpy as np
import matplotlib.pyplot as plt


N = 10

# Matrix K for diff
K = sp.eye(N, k=1) - 2 * sp.eye(N) + sp.eye(N, k=-1)
K


# Preview of K
K.toarray()


K = sp.diags([1, -2, 1], [1, 0, -1], shape=[N, N], format='csc')

K


fig, ax = plt.subplots()
ax.spy(K)


X = sp.diags([1, 1], [-1, 1], shape=[3,3])

Y = sp.kron(K, X)

# Good pattern to use destructoring per every axis
fig, (ax_K, ax_X, ax_Y) = plt.subplots(1, 3, figsize=(12, 4))

# Visualize patterns
ax_K.spy(K)
ax_X.spy(X)
ax_Y.spy(Y)



