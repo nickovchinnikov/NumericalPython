import numpy as np
import matplotlib.pyplot as plt
from scipy import integrate
import sympy

# For nicely displayed output from SymPy, we need to initialize its printing system
sympy.init_printing()


t, k, T0, Ta = sympy.symbols("t, k, T_0, T_a")

T = sympy.Function("T")


ode = T(t).diff(t) + k*(T(t) - Ta)

sympy.Eq(ode, 0)


ode_sol = sympy.dsolve(ode)

ode_sol


ics = {T(0): T0}
ics


C_eq = ode_sol.subs(t, 0).subs(ics)
C_eq


C_sol = sympy.solve(C_eq)
C_sol


ode_sol.subs(C_sol[0])


def apply_ics(sol, ics, x, known_params):
    """
    Apply the initial conditions (ics), given as a dictionary on
    the form ics = {y(0): y0, y(x).diff(x).subs(x, 0): yp0, ...},
    to the solution of the ODE with independent variable x.
    The undetermined integration constants C1, C2, ... are extracted
    from the free symbols of the ODE solution, excluding symbols in
    the known_params list.
    """
    free_params = sol.free_symbols - set(known_params)
    eqs = [(sol.lhs.diff(x, n) - sol.rhs.diff(x, n)).subs(x, 0).subs(ics) for n in range(len(ics))]
    sol_params = sympy.solve(eqs, free_params)
    return sol.subs(sol_params)


ode_sol


# Free params for solution
free_params = ode_sol.free_symbols - set([k, Ta])

eqs = (ode_sol.lhs.diff(t, 0) - ode_sol.rhs.diff(t, 0)).subs(t, 0).subs(ics)

sol_params = sympy.solve(eqs, free_params)

# Put the sol_params[0] to equation 
ode_sol.subs(sol_params[0])


ode_sol.free_symbols, ode_sol.lhs, ode_sol.rhs


ode_sol.rhs.diff(t, 0), ode_sol.rhs.diff(t, 1)


ode_sol.rhs.diff(t, 0).subs(t, 0), ode_sol.rhs.diff(t, 1).subs(t, 0)


ics, len(ics)


ode_sol.rhs.diff(t, 0).subs(t, 0).subs(ics), ode_sol.rhs.diff(t, 1).subs(t, 0)


sol_params = sympy.solve(eqs, free_params)


apply_ics(ode_sol, ics, t, [k, Ta])


t, omega0, gamma= sympy.symbols("t, omega_0, gamma", positive=True)
x = sympy.Function("x")

ode = x(t).diff(t, 2) + 2 * gamma * omega0 * x(t).diff(t) + omega0**2 * x(t)

# ODE for a damped harmonic oscillator
sympy.Eq(ode, 0)


# Solution for the equation
ode_sol = sympy.dsolve(ode)
ode_sol


ics = {x(0): 1, x(t).diff(t).subs(t, 0): 0}
ics


x_t_sol = apply_ics(ode_sol, ics, t, [omega0, gamma])
x_t_sol


x_t_critical = sympy.limit(x_t_sol.rhs, gamma, 1)
x_t_critical


fig, ax = plt.subplots(figsize=(8, 4))

tt = np.linspace(0, 3, 250)

w0 = 2 * sympy.pi

for g in [0.1, 0.5, 1, 2.0, 5.0]:
    if g == 1:
        x_t = sympy.lambdify(t, x_t_critical.subs({omega0: w0}), 'numpy')
    else:
        x_t = sympy.lambdify(t, x_t_sol.rhs.subs({omega0: w0, gamma: g}), 'numpy')
    ax.plot(tt, x_t(tt).real, label=r"$\gamma = %.1f$" % g)
    
ax.set_xlabel(r"$t$", fontsize=18)
ax.set_ylabel(r"$x(t)$", fontsize=18)
ax.legend()


sympy.lambdify(t, x_t_critical.subs({omega0: w0}), 'numpy')

g = 1
# One more way to build lambda function with ternary
x_t = sympy.lambdify(
    t, 
    x_t_critical.subs({omega0: w0}) if g == 1 
    else x_t_sol.rhs.subs({omega0: w0, gamma: g}),
    'numpy'
)


x = sympy.symbols("x")
y = sympy.Function("y")

# Create a function
f = y(x)**2 + x

# Create an equation
eq = sympy.Eq(y(x).diff(x), f)
eq


# Error, can't solve
sympy.dsolve(y(x).diff(x) - f)


sympy.Eq(y(x).diff(x, x), f)


# Not implemented
sympy.dsolve(y(x).diff(x, x) - f)



