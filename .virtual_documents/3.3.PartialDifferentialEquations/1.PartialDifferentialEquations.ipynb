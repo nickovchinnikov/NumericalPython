import matplotlib as mpl
import matplotlib.pyplot as plt
import mpl_toolkits.mplot3d
import numpy as np


import scipy.linalg as la
import scipy.sparse as sp
import scipy.sparse.linalg


import dolfin
import mshr


N = 5
u0, u1 = 1, 2
dx = 1.0 / (N + 1)


# Matrix K
K = np.eye(N, k=-1) - 2 * np.eye(N) + np.eye(N, k=1)
K


# Matrix A
A = (1 / dx ** 2) * K
A


# Add boundaries to vector
b = -5 * np.ones(N)
b[0] -= u0 / dx ** 2
b[N - 1] -= u1 / dx ** 2

b


# Solution
u = la.solve(A, b)

u


x = np.linspace(0, 1, N + 2)

# Just merge the arrays
U = np.hstack([[u0], u, [u1]])

x, U


fig, ax = plt.subplots(figsize=(8, 4))

ax.plot(x, U)

# The exact solution points
ax.plot(x[1:-1], u, "bs")

ax.set_xlim(0, 1)
ax.set_xlabel(r"$x$", fontsize=18)
ax.set_ylabel(r"$u(x)$", fontsize=18)


# Example with small N
N = 3
dx = 1.0 / (N + 1)

# Small K
K = (sp.eye(N, k=-1) + sp.eye(N, k=1) - 4 * sp.eye(N)) / dx ** 2
K.toarray()


# Real K
K_NN = sp.kron(sp.eye(N), K)

K_NN.toarray()


K_od = (sp.eye(N ** 2, k=-N) + sp.eye(N ** 2, k=N)) / dx ** 2

K_od.toarray()


A = K_NN + K_od
A.toarray()


u0_t, u0_b = 5, -5
u0_l, u0_r = 3, -1

b = np.zeros((N, N))

# top
b[-1, :] += u0_t

# bottom
b[0, :] += u0_b

# left
b[:, 0] += u0_l

# right
b[:, -1] += u0_r

b


b = -b.reshape(N ** 2) / dx ** 2

b


N = 100
dx = 1.0 / (N + 1)

u0_t, u0_b = 5, -5
u0_l, u0_r = 3, -1


A_1d = (sp.eye(N, k=-1) + sp.eye(N, k=1) - 4 * sp.eye(N)) / dx ** 2

A = sp.kron(sp.eye(N), A_1d) + (sp.eye(N ** 2, k=-N) + sp.eye(N ** 2, k=N)) / dx ** 2

A


b = np.zeros((N, N))

# top
b[-1, :] += u0_t
# bottom
b[0, :] += u0_b
# left
b[:, 0] += u0_l
# right
b[:, -1] += u0_r

b = -b.reshape(N ** 2) / dx ** 2


v = sp.linalg.spsolve(A, b)
u = v.reshape(N, N)


U = np.vstack(
    [
        np.ones((1, N + 2)) * u0_b,
        np.hstack([np.ones((N, 1)) * u0_l, u, np.ones((N, 1)) * u0_r]),
        np.ones((1, N + 2)) * u0_t,
    ]
)

x = np.linspace(0, 1, N + 2)

X, Y = np.meshgrid(x, x)

fig = plt.figure(figsize=(12, 5.5))
cmap = mpl.cm.get_cmap("RdBu_r")

ax = fig.add_subplot(1, 2, 1)
c = ax.pcolor(X, Y, U, vmin=-5, vmax=5, cmap=cmap)

ax.set_xlabel(r"$x_1$", fontsize=18)
ax.set_ylabel(r"$x_2$", fontsize=18)

ax = fig.add_subplot(1, 2, 2, projection="3d")
p = ax.plot_surface(
    X, Y, U, vmin=-5, vmax=5, rstride=3, cstride=3, linewidth=0, cmap=cmap
)

ax.set_xlabel(r"$x_1$", fontsize=18)
ax.set_ylabel(r"$x_2$", fontsize=18)

cb = plt.colorbar(p, ax=ax, shrink=0.75)
cb.set_label(r"$u(x_1, x_2)$", fontsize=18)



