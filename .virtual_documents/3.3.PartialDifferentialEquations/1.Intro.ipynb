import numpy as np
import matplotlib.pyplot as plt
import matplotlib as mpl
import mpl_toolkits.mplot3d


import scipy.sparse as sp
import scipy.sparse.linalg
import scipy.linalg as la


import dolfin
import mshr


# Partial Differential Equations
