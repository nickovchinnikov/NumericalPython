import matplotlib as mpl
import matplotlib.pyplot as plt
import numpy as np
import pandas as pd

mpl.style.use("ggplot")

import seaborn as sns


sns.set(style="darkgrid")


df1 = pd.read_csv(
    "temperature_outdoor_2014.tsv", delimiter="\t", names=["time", "outdoor"]
)

df1.time = (
    pd.to_datetime(df1.time.values, unit="s")
    .tz_localize("UTC")
    .tz_convert("Europe/Stockholm")
)
df1 = df1.set_index("time").resample("10min").mean()


df2 = pd.read_csv(
    "temperature_indoor_2014.tsv", delimiter="\t", names=["time", "indoor"]
)
df2.time = (
    pd.to_datetime(df2.time.values, unit="s")
    .tz_localize("UTC")
    .tz_convert("Europe/Stockholm")
)
df2 = df2.set_index("time").resample("10min").mean()

df_temp = pd.concat([df1, df2], axis=1)

fig, ax = plt.subplots(1, 1, figsize=(8, 4))

df_temp.resample("D").mean().plot(y=["outdoor", "indoor"], ax=ax)


# we drop missing values using dropna() method
sns.distplot(df_temp.to_period("M")["outdoor"]["2014-04"].dropna().values, bins=50)

sns.distplot(df_temp.to_period("M")["indoor"]["2014-04"].dropna().values, bins=50)


sns.kdeplot(
    x=df_temp.resample("H").mean()["outdoor"].dropna().values,
    y=df_temp.resample("H").mean()["indoor"].dropna().values,
    shade=False,
)


with sns.axes_style("white"):
    sns.jointplot(
        x=df_temp.resample("H").mean()["outdoor"].values,
        y=df_temp.resample("H").mean()["indoor"].values,
        kind="hex",
    )


fig, (ax1, ax2) = plt.subplots(1, 2, figsize=(8, 4))

sns.boxplot(
    data=df_temp.dropna(),
    ax=ax1,
    palette="pastel",
)

sns.violinplot(data=df_temp.dropna(), ax=ax2, palette="pastel")


sns.violinplot(
    x=df_temp.dropna().index.month, y=df_temp.dropna().outdoor, color="skyblue"
)


df_temp["month"] = df_temp.index.month
df_temp["hour"] = df_temp.index.hour

table = pd.pivot_table(
    df_temp, values="outdoor", index=["month"], columns=["hour"], aggfunc=np.mean
)


fig, ax = plt.subplots(1, 1, figsize=(8, 4))

sns.heatmap(table, ax=ax)



