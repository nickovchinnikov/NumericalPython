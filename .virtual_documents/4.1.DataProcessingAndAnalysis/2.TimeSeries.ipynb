import matplotlib as mpl
import matplotlib.pyplot as plt
import numpy as np
import pandas as pd

mpl.style.use("ggplot")

import datetime

import seaborn as sns


pd.date_range("2022-1-1", periods=31)


pd.date_range("2015-1-1 00:00", "2015-1-1 12:00", freq="H")


ts1 = pd.Series(np.arange(31), index=pd.date_range("2015-1-1", periods=31))

ts1.head()


ts1["2015-1-3"]


ts1.index[2]


date2 = ts1.index[2]
date2.year, date2.month, date2.day


date2.nanosecond


ts1.index[2].to_pydatetime()


ts2 = pd.Series(
    np.random.rand(2),
    index=[datetime.datetime(2015, 1, 1), datetime.datetime(2015, 2, 1)],
)

ts2


periods = pd.PeriodIndex(
    [pd.Period("2015-01"), pd.Period("2015-02"), pd.Period("2015-03")]
)

ts3 = pd.Series(np.random.rand(3), index=periods)

ts3


ts3.index


ts2.to_period("M")


df1 = pd.read_csv(
    "temperature_outdoor_2014.tsv", delimiter="\t", names=["time", "outdoor"]
)

df2 = pd.read_csv(
    "temperature_indoor_2014.tsv", delimiter="\t", names=["time", "indoor"]
)


df1.head()


pd.to_datetime(df1.time.values, unit="s").tz_localize("UTC").tz_convert(
    "Europe/Stockholm"
)


df1.time = (
    pd.to_datetime(df1.time.values, unit="s")
    .tz_localize("UTC")
    .tz_convert("Europe/Stockholm")
)

df1 = df1.set_index("time")

df1.head()


df2.time = (
    pd.to_datetime(df2.time.values, unit="s")
    .tz_localize("UTC")
    .tz_convert("Europe/Stockholm")
)

df2 = df2.set_index("time")

df2.head()


fig, ax = plt.subplots(1, 1, figsize=(12, 4))

df1.plot(ax=ax)
df2.plot(ax=ax)


df1.info()


# Create mask for January
mask_jan = (df1.index >= "2014-1-1") & (df1.index < "2014-2-1")

# Apply mask for Jan to write it
df1_jan = df1[mask_jan]

df1_jan.info()


df2_jan = df2["2014-1-1":"2014-1-31"]

# the same slice of data
df2_jan.info()


fig, ax = plt.subplots(1, 1, figsize=(12, 4))

# January plot
df1_jan.plot(ax=ax)
df2_jan.plot(ax=ax)


df1_month = df1.reset_index()

df1_month.time


# Add new column month
df1_month["month"] = df1_month.time.apply(lambda x: x.month)

df1_month.head()


df1_month = df1_month.groupby("month").aggregate(np.mean)

df1_month.head()


df2_month = df2.reset_index()
df2_month["month"] = df2_month.time.apply(lambda x: x.month)
df2_month = df2_month.groupby("month").aggregate(np.mean)

df2_month.head()


df_month = df1_month.join(df2_month)

df_month.head()


df1.head()


df1.to_period("M").groupby(level=0).mean().head()


df_month = pd.concat(
    [df.to_period("M").groupby(level=0).mean() for df in [df1, df2]], axis=1
)

df_month.head()


fig, axes = plt.subplots(1, 2, figsize=(12, 4))

df_month.plot(kind="bar", ax=axes[0])
df_month.plot(kind="box", ax=axes[1])


df1.head()


df1_hour = df1.resample("H").mean()
df1_hour.columns = ["outdoor (hourly avg.)"]

df1_day = df1.resample("D").mean()
df1_day.columns = ["outdoor (daily avg.)"]

df1_week = df1.resample("7D").mean()
df1_week.columns = ["outdoor (weekly avg.)"]

df1_month = df1.resample("M").mean()
df1_month.columns = ["outdoor (monthly avg.)"]

df_diff = df1.resample("D").mean().outdoor - df2.resample("D").mean().indoor

fig, (ax1, ax2) = plt.subplots(2, 1, figsize=(12, 6))

df1_hour.plot(ax=ax1, alpha=0.25)
df1_day.plot(ax=ax1)
df1_week.plot(ax=ax1)
df1_month.plot(ax=ax1)

df_diff.plot(ax=ax2)
ax2.set_title("temperature difference between outdoor and indoor")
fig.tight_layout()


pd.concat(
    [
        df1.resample("5min").mean().rename(columns={"outdoor": "None"}),
        df1.resample("5min").ffill().rename(columns={"outdoor": "ffill"}),
        df1.resample("5min").bfill().rename(columns={"outdoor": "bfill"}),
    ],
    axis=1,
).head()



