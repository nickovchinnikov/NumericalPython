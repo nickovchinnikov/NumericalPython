import matplotlib.pyplot as plt
import numpy as np
import pandas as pd


import matplotlib as mpl

mpl.style.use("ggplot")


import seaborn as sns


s = pd.Series([909976, 8615246, 2872086, 2273305])
s


list(s.index)


s.values


s.index = ["Stockholm", "London", "Rome", "Paris"]
s.name = "Population"

s


s = pd.Series(
    [909976, 8615246, 2872086, 2273305],
    name="Population",
    index=["Stockholm", "London", "Rome", "Paris"],
)

s


s["London"]


s.Stockholm


s[["Paris", "Rome"]]


s.median(), s.mean(), s.std()


s.min(), s.max()


s.quantile(q=0.25), s.quantile(q=0.5), s.quantile(q=0.75)


s.describe()


# Create subplots
fig, axes = plt.subplots(1, 4, figsize=(12, 3))

# Provide axes to the `s.plot`
s.plot(ax=axes[0], kind="line", title="line")
s.plot(ax=axes[1], kind="bar", title="bar")
s.plot(ax=axes[2], kind="box", title="box")
s.plot(ax=axes[3], kind="pie", title="pie")


df = pd.DataFrame(
    [
        [909976, "Sweden"],
        [8615246, "United Kingdom"],
        [2872086, "Italy"],
        [2273305, "France"],
    ]
)

df


df.index = ["Stockholm", "London", "Rome", "Paris"]
df.columns = ["Population", "State"]

df


df = pd.DataFrame(
    [
        [909976, "Sweden"],
        [8615246, "United Kingdom"],
        [2872086, "Italy"],
        [2273305, "France"],
    ],
    index=["Stockholm", "London", "Rome", "Paris"],
    columns=["Population", "State"],
)

df


df = pd.DataFrame(
    {
        "Population": [909976, 8615246, 2872086, 2273305],
        "State": ["Sweden", "United Kingdom", "Italy", "France"],
    },
    index=["Stockholm", "London", "Rome", "Paris"],
)

df


df.Population


df.State


df.loc["Stockholm"]


df.loc[["Paris", "Rome"]]


df.loc[["Paris", "Rome"], "Population"]


df.Population.mean()


df.info()


df.dtypes


df_pop = pd.read_csv("./european_cities.csv", delimiter=",", encoding="utf-8", header=0)


df_pop.info()


df_pop.head()


# The same way to read 5 from the head
df_pop[:5]


# Create the Numeric Population column
df_pop["Numeric Population"] = df_pop.Population.apply(
    lambda x: int(x.replace(",", ""))
)

df_pop.head()


# State contains extra whitespaces
df_pop["State"].values[:3]


# Strip every item
df_pop["State"] = df_pop["State"].apply(lambda x: x.strip())

df_pop.head()


df_pop.dtypes


# Set index column
df_pop2 = df_pop.set_index("City")
# Sort by index
df_pop2 = df_pop2.sort_index()

df_pop2.head()


df_pop3 = df_pop.set_index(["State", "City"]).sort_index(level=0)

df_pop3.head(7)


# Sweden cities
df_pop3.loc["Sweden"]


# Just Gothenburg
df_pop3.loc[("Sweden", "Gothenburg")]


df_pop.set_index("City").sort_values(
    ["State", "Numeric Population"], ascending=[False, True]
).head()


city_counts = df_pop.State.value_counts()

city_counts.head()


df_pop3 = df_pop[["State", "City", "Numeric Population"]].set_index(["State", "City"])

df_pop4 = (
    df_pop3.groupby("State").sum().sort_values("Numeric Population", ascending=False)
)

df_pop4.head()


# Drop Rank and groupby State

df_pop5 = (
    df_pop.drop("Rank", axis=1)
    .groupby("State")
    .sum()
    .sort_values("Numeric Population", ascending=False)
)

df_pop5.head()


fig, (ax1, ax2) = plt.subplots(1, 2, figsize=(18, 4))

# Plot city counts
city_counts.plot(kind='barh', ax=ax1)

ax1.set_xlabel("# cities in top 105")

# Plot Numeric Population
df_pop5["Numeric Population"].plot(kind='barh', ax=ax2)

ax2.set_xlabel("Total pop. in top 105 cities")



