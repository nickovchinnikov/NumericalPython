{
 "cells": [
  {
   "cell_type": "markdown",
   "id": "2a9568e5-6cd9-428a-9a85-c61a96fcf4a2",
   "metadata": {},
   "source": [
    "# Integral Transforms"
   ]
  },
  {
   "cell_type": "code",
   "execution_count": 2,
   "id": "b033f723-2c16-4411-b8d3-59c82e85c9f0",
   "metadata": {},
   "outputs": [],
   "source": [
    "import numpy as np\n",
    "import matplotlib.pyplot as plt\n",
    "import matplotlib as mpl\n",
    "from scipy import integrate\n",
    "import sympy\n",
    "import mpmath\n",
    "sympy.init_printing()"
   ]
  },
  {
   "cell_type": "markdown",
   "id": "1adab200-33dd-4060-8a62-55ab458a4753",
   "metadata": {},
   "source": [
    "The last application of integrals that we discuss in this chapter is integral transforms.\n",
    "An integral transform is a procedure that takes a function as input and outputs\n",
    "another function. Integral transforms are the most useful when they can be computed\n",
    "symbolically, and here we explore two examples of integral transforms that can be\n",
    "performed using SymPy: the **Laplace transform** and the **Fourier transform**. There are\n",
    "numerous applications of these two transformations, but the fundamental motivation\n",
    "is to transform problems into a form that is more easily handled. \n",
    "\n",
    "It can, for example, be a transformation of a differential equation into an algebraic equation, using Laplace\n",
    "transforms, or a transformation of a problem from the time domain to the frequency\n",
    "domain, using Fourier transforms.\n",
    "In general, an integral transform of a function $f(t)$ can be written as"
   ]
  },
  {
   "cell_type": "markdown",
   "id": "1ed11dae-0f88-4997-9971-ad0b95faa3ad",
   "metadata": {},
   "source": [
    "$$\n",
    "T_f(u) = \\int_{t_1}^{t_2} K(t,u) f(t) dt\n",
    "$$"
   ]
  },
  {
   "cell_type": "markdown",
   "id": "09400427-0061-4871-8fa0-1cb02ef0d30b",
   "metadata": {},
   "source": [
    "where $T_f(u)$ is the transformed function. The choice of the kernel $K(t, u)$ and the\n",
    "integration limits determine the type of integral transform. The inverse of the integral\n",
    "transform is given by"
   ]
  },
  {
   "cell_type": "markdown",
   "id": "142d6dcb-8bbc-40e7-aea8-415dcf8bfcf3",
   "metadata": {},
   "source": [
    "$$\n",
    "f(u)=\\int_{u_1}^{u_2} K^{-1} (u, t) T_f(u) du\n",
    "$$"
   ]
  },
  {
   "cell_type": "markdown",
   "id": "3873de8d-53e0-480e-9e72-88f2cdc4c6a1",
   "metadata": {},
   "source": [
    "where $K^{−1}(u, t)$ is the kernel of the inverse transform. SymPy provides functions for\n",
    "several types of integral transform, but here we focus on the Laplace transform"
   ]
  },
  {
   "cell_type": "markdown",
   "id": "4a54633d-3cc6-42b3-aa25-44eff9232c7a",
   "metadata": {},
   "source": [
    "$$\n",
    "L_f(s) = \\int_{0}^{\\infty} e^{-st} f(t) dt\n",
    "$$\n",
    "\n",
    "With the inverse transform (based on [wikipedia](https://en.wikipedia.org/wiki/Laplace_transform#Inverse_Laplace_transform))\n",
    "\n",
    "$$\n",
    "f(t) = \\frac{1}{2 \\pi i} \\lim_{T \\to \\infty} \\int_{c - iT}^{c + iT} e^{st} L_f(s) ds\n",
    "$$"
   ]
  },
  {
   "cell_type": "markdown",
   "id": "e5b6d2c2-de40-4178-a4f9-54cbca5ef409",
   "metadata": {},
   "source": [
    "and the Fourier transform\n",
    "\n",
    "$$\n",
    "F_f(\\omega) = \\frac{1}{\\sqrt{2 \\pi}} \\int_{-\\infty}^{\\infty} e^{-i \\omega t} f(t) dt\n",
    "$$\n",
    "\n",
    "with the inverse transform\n",
    "\n",
    "$$\n",
    "f(t) = \\frac{1}{\\sqrt{2 \\pi}} \\int_{-\\infty}^{\\infty} e^{i \\omega t} F_f(\\omega) d\\omega\n",
    "$$"
   ]
  },
  {
   "cell_type": "markdown",
   "id": "63ac5c8a-d94a-45b6-9aa6-1a34b519386b",
   "metadata": {},
   "source": [
    "With SymPy, we can perform these transforms with the `sympy.laplace_transform`\n",
    "and `sympy.fourier_transform`, respectively, and the corresponding inverse transforms\n",
    "can be computed with the `sympy.inverse_laplace_transform` and `sympy.inverse_fourier_transform`.\n",
    "\n",
    "These functions take a SymPy expression for the function to\n",
    "transform as first argument, and the symbol for independent variable of the expression\n",
    "to transform as second argument (e.g., `t`), and as third argument they take the symbol\n",
    "for the transformation variable (e.g., `s`). For example, to compute the Laplace transform\n",
    "of the function $f(t) = \\sin{at}$, we begin by defining SymPy symbols for the variables `a, t, s` and a SymPy expression for the function $f(t)$:"
   ]
  },
  {
   "cell_type": "code",
   "execution_count": 3,
   "id": "4e89b263-cc62-4115-9373-853407a39212",
   "metadata": {},
   "outputs": [
    {
     "data": {
      "image/png": "[encoded data removed]",
      "text/latex": [
       "$\\displaystyle \\sin{\\left(a t \\right)}$"
      ],
      "text/plain": [
       "sin(a⋅t)"
      ]
     },
     "execution_count": 3,
     "metadata": {},
     "output_type": "execute_result"
    }
   ],
   "source": [
    "s = sympy.symbols(\"s\")\n",
    "a, t = sympy.symbols(\"a, t\", positive=True)\n",
    "f = sympy.sin(a*t)\n",
    "\n",
    "f"
   ]
  },
  {
   "cell_type": "markdown",
   "id": "f861baae-40bc-49ed-a393-f816c217af98",
   "metadata": {},
   "source": [
    "> Once we have SymPy objects for the variables and the function, we can call the\n",
    "`laplace_transform` function to compute the Laplace transform"
   ]
  },
  {
   "cell_type": "code",
   "execution_count": 4,
   "id": "f619d43a-6c6b-48c8-9bff-1579f90b085e",
   "metadata": {},
   "outputs": [
    {
     "data": {
      "image/png": "[encoded data removed]",
      "text/latex": [
       "$\\displaystyle \\left( \\frac{a}{a^{2} + s^{2}}, \\  -\\infty, \\  \\operatorname{re}{\\left(s\\right)} > 0\\right)$"
      ],
      "text/plain": [
       "⎛   a                  ⎞\n",
       "⎜───────, -∞, re(s) > 0⎟\n",
       "⎜ 2    2               ⎟\n",
       "⎝a  + s                ⎠"
      ]
     },
     "execution_count": 4,
     "metadata": {},
     "output_type": "execute_result"
    }
   ],
   "source": [
    "# You can see the result!\n",
    "sympy.laplace_transform(f, t, s)"
   ]
  },
  {
   "cell_type": "markdown",
   "id": "6d226a3c-5826-49ec-a96b-1b363a1f055d",
   "metadata": {},
   "source": [
    "By default, the laplace_transform function returns a tuple containing the resulting\n",
    "transform; the value `A` from convergence condition of the transform, which takes the\n",
    "form $A < Rs$ ; and lastly additional conditions that are required for the transform to be\n",
    "well defined. These conditions typically depend on the constraints that are specified\n",
    "when symbols are created. For example, here we used `positive=True` when creating the\n",
    "symbols `a` and `t`, to indicate that they represent real and positive numbers. Often we are\n",
    "only interested in the transform itself, and we can then use the `noconds=True` keyword\n",
    "argument to suppress the conditions in the return result"
   ]
  },
  {
   "cell_type": "code",
   "execution_count": 5,
   "id": "2c3a1575-bc8d-4f41-9702-cdf34018082d",
   "metadata": {},
   "outputs": [
    {
     "data": {
      "image/png": "[encoded data removed]",
      "text/latex": [
       "$\\displaystyle \\frac{a}{a^{2} + s^{2}}$"
      ],
      "text/plain": [
       "   a   \n",
       "───────\n",
       " 2    2\n",
       "a  + s "
      ]
     },
     "execution_count": 5,
     "metadata": {},
     "output_type": "execute_result"
    }
   ],
   "source": [
    "F = sympy.laplace_transform(f, t, s, noconds=True)\n",
    "F"
   ]
  },
  {
   "cell_type": "markdown",
   "id": "89c6c127-abad-4a2c-a19a-7609341f17f7",
   "metadata": {},
   "source": [
    "The inverse transformation can be used in a similar manner, except that we need to\n",
    "reverse the roles of the symbols `s` and `t`. The Laplace transform is a unique one-to-one\n",
    "mapping, so if we compute the inverse Laplace transform of the previously computed\n",
    "Laplace transform, we expect to recover the original function"
   ]
  },
  {
   "cell_type": "code",
   "execution_count": 7,
   "id": "ae07859e-271b-4553-b163-bd5623b61fa4",
   "metadata": {},
   "outputs": [
    {
     "data": {
      "image/png": "[encoded data removed]",
      "text/latex": [
       "$\\displaystyle \\sin{\\left(a t \\right)}$"
      ],
      "text/plain": [
       "sin(a⋅t)"
      ]
     },
     "execution_count": 7,
     "metadata": {},
     "output_type": "execute_result"
    }
   ],
   "source": [
    "# Restore the original function\n",
    "sympy.inverse_laplace_transform(F, s, t)"
   ]
  },
  {
   "cell_type": "markdown",
   "id": "2f4ea7d3-c078-4b11-b7e4-9e7b521a1e00",
   "metadata": {},
   "source": [
    "SymPy can compute the transforms for many elementary mathematical functions\n",
    "and for a wide variety of combinations of such functions. When solving problems\n",
    "using Laplace transformations by hand, one typically searches for matching functions\n",
    "in reference tables with known Laplace transformations. Using SymPy, this process\n",
    "can conveniently be automated in many, but not all, cases. The following examples\n",
    "show a few additional examples of well-known functions that one finds in Laplace\n",
    "transformation tables. Polynomials have simple Laplace transformation"
   ]
  },
  {
   "cell_type": "code",
   "execution_count": 8,
   "id": "2c70fba4-25f5-40c2-b1c3-aff20bfb2d94",
   "metadata": {},
   "outputs": [
    {
     "data": {
      "image/png": "[encoded data removed]",
      "text/latex": [
       "$\\displaystyle \\left[ \\frac{1}{s^{2}}, \\  \\frac{2}{s^{3}}, \\  \\frac{6}{s^{4}}, \\  \\frac{24}{s^{5}}\\right]$"
      ],
      "text/plain": [
       "⎡1   2   6   24⎤\n",
       "⎢──, ──, ──, ──⎥\n",
       "⎢ 2   3   4   5⎥\n",
       "⎣s   s   s   s ⎦"
      ]
     },
     "execution_count": 8,
     "metadata": {},
     "output_type": "execute_result"
    }
   ],
   "source": [
    "[sympy.laplace_transform(f, t, s, noconds=True) for f in [t, t**2, t**3, t**4]]"
   ]
  },
  {
   "cell_type": "markdown",
   "id": "d8ea6b96-4b4e-43d2-94a5-804c6028b5e0",
   "metadata": {},
   "source": [
    "and we can also compute the general result with an arbitrary integer exponent:"
   ]
  },
  {
   "cell_type": "code",
   "execution_count": 9,
   "id": "b4b0734f-7bfe-4ddd-83cf-5d77fd9bf92f",
   "metadata": {},
   "outputs": [
    {
     "data": {
      "image/png": "[encoded data removed]",
      "text/latex": [
       "$\\displaystyle s^{- n - 1} n!$"
      ],
      "text/plain": [
       " -n - 1   \n",
       "s      ⋅n!"
      ]
     },
     "execution_count": 9,
     "metadata": {},
     "output_type": "execute_result"
    }
   ],
   "source": [
    "n = sympy.symbols(\"n\", integer=True, positive=True)\n",
    "\n",
    "sympy.laplace_transform(t**n, t, s, noconds=True)"
   ]
  },
  {
   "cell_type": "markdown",
   "id": "c10abcff-b2f3-4712-9d24-121e56bd8a12",
   "metadata": {},
   "source": [
    "The Laplace transform of composite expressions can also be computed, as in the\n",
    "following example which computes the transform of the function $f(t) = (1 − at)e^{−at}$"
   ]
  },
  {
   "cell_type": "code",
   "execution_count": 10,
   "id": "a096787d-1cd1-4d58-847a-91c85ddc897a",
   "metadata": {},
   "outputs": [
    {
     "data": {
      "image/png": "[encoded data removed]",
      "text/latex": [
       "$\\displaystyle \\frac{s}{\\left(a + s\\right)^{2}}$"
      ],
      "text/plain": [
       "   s    \n",
       "────────\n",
       "       2\n",
       "(a + s) "
      ]
     },
     "execution_count": 10,
     "metadata": {},
     "output_type": "execute_result"
    }
   ],
   "source": [
    "sympy.laplace_transform((1 - a*t) * sympy.exp(-a*t), t, s, noconds=True)"
   ]
  },
  {
   "cell_type": "markdown",
   "id": "45f6d0e7-439c-4a44-b13f-95d5a8b01a4e",
   "metadata": {},
   "source": [
    "The main application of Laplace transforms is to solve differential equations,\n",
    "where the transformation can be used to bring the differential equation into a purely\n",
    "algebraic form, which can then be solved and transformed back to the original domain\n",
    "by applying the inverse Laplace transform.\n",
    "\n",
    "Fourier transforms can also be used for the same purpose.\n",
    "The Fourier transform function, `fourier_tranform`, and its inverse, `inverse_fourier_transform`, are used in much the same way as the Laplace transformation functions. For example, to compute the Fourier transform of $f(t) = e^{-at^2}$ , we would first\n",
    "define SymPy symbols for the variables `a`, `t`, and `ω`, and the function $f(t)$, and then\n",
    "compute the Fourier transform by calling the `sympy.fourier_transform` function:"
   ]
  },
  {
   "cell_type": "code",
   "execution_count": 13,
   "id": "e042903a-7901-4a82-b0f6-7652060b1f1f",
   "metadata": {},
   "outputs": [
    {
     "data": {
      "image/png": "[encoded data removed]",
      "text/latex": [
       "$\\displaystyle \\mathcal{F}_{t}\\left[e^{- a t^{2}}\\right]\\left(\\omega\\right)$"
      ],
      "text/plain": [
       "                ⎛     2      ⎞\n",
       "                ⎜ -a⋅t       ⎟\n",
       "FourierTransform⎝ℯ     , t, ω⎠"
      ]
     },
     "execution_count": 13,
     "metadata": {},
     "output_type": "execute_result"
    }
   ],
   "source": [
    "a, t, w = sympy.symbols(\"a, t, omega\")\n",
    "f = sympy.exp(-a*t**2)\n",
    "\n",
    "F = sympy.fourier_transform(f, t, w, noconds=True)\n",
    "F"
   ]
  },
  {
   "cell_type": "markdown",
   "id": "58218998-922a-4b73-aeee-b975be06ffb8",
   "metadata": {},
   "source": [
    "Transform back with the inverse"
   ]
  },
  {
   "cell_type": "code",
   "execution_count": 14,
   "id": "fea33c5e-5fb6-42e2-abd4-5b5a11f2d3ea",
   "metadata": {},
   "outputs": [
    {
     "data": {
      "image/png": "[encoded data removed]",
      "text/latex": [
       "$\\displaystyle \\mathcal{F}^{-1}_{\\omega}\\left[\\mathcal{F}_{t}\\left[e^{- a t^{2}}\\right]\\left(\\omega\\right)\\right]\\left(t\\right)$"
      ],
      "text/plain": [
       "                       ⎛                ⎛     2      ⎞      ⎞\n",
       "                       ⎜                ⎜ -a⋅t       ⎟      ⎟\n",
       "InverseFourierTransform⎝FourierTransform⎝ℯ     , t, ω⎠, ω, t⎠"
      ]
     },
     "execution_count": 14,
     "metadata": {},
     "output_type": "execute_result"
    }
   ],
   "source": [
    "sympy.inverse_fourier_transform(F, w, t)"
   ]
  },
  {
   "cell_type": "markdown",
   "id": "5f94fec1-cd83-4058-b4bf-9bdee9e91398",
   "metadata": {},
   "source": [
    "Something strange here..."
   ]
  },
  {
   "cell_type": "code",
   "execution_count": null,
   "id": "27920fcd-caac-4c6c-8ed8-2c0dba7c3ab4",
   "metadata": {},
   "outputs": [],
   "source": []
  }
 ],
 "metadata": {
  "kernelspec": {
   "display_name": "Python 3 (ipykernel)",
   "language": "python",
   "name": "python3"
  },
  "language_info": {
   "codemirror_mode": {
    "name": "ipython",
    "version": 3
   },
   "file_extension": ".py",
   "mimetype": "text/x-python",
   "name": "python",
   "nbconvert_exporter": "python",
   "pygments_lexer": "ipython3",
   "version": "3.8.12"
  }
 },
 "nbformat": 4,
 "nbformat_minor": 5
}
