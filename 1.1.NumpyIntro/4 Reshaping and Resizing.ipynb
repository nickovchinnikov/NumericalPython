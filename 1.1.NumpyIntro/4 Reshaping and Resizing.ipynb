{
 "cells": [
  {
   "cell_type": "markdown",
   "id": "4c338d1c",
   "metadata": {},
   "source": [
    "# Reshaping and Resizing"
   ]
  },
  {
   "cell_type": "code",
   "execution_count": 2,
   "id": "79443eb4",
   "metadata": {},
   "outputs": [],
   "source": [
    "import numpy as np"
   ]
  },
  {
   "cell_type": "markdown",
   "id": "cce265c6",
   "metadata": {},
   "source": [
    "### Reshape example 1"
   ]
  },
  {
   "cell_type": "code",
   "execution_count": 3,
   "id": "33fc54aa",
   "metadata": {},
   "outputs": [
    {
     "data": {
      "text/plain": [
       "array([[1, 2, 3, 4]])"
      ]
     },
     "execution_count": 3,
     "metadata": {},
     "output_type": "execute_result"
    }
   ],
   "source": [
    "data = np.array([[1, 2], [3, 4]])\n",
    "np.reshape(data, (1, 4))"
   ]
  },
  {
   "cell_type": "markdown",
   "id": "98292505",
   "metadata": {},
   "source": [
    "### Reshape example 2"
   ]
  },
  {
   "cell_type": "code",
   "execution_count": 4,
   "id": "2a36794a",
   "metadata": {},
   "outputs": [
    {
     "data": {
      "text/plain": [
       "array([1, 2, 3, 4])"
      ]
     },
     "execution_count": 4,
     "metadata": {},
     "output_type": "execute_result"
    }
   ],
   "source": [
    "data.reshape(4)"
   ]
  },
  {
   "cell_type": "markdown",
   "id": "de222816",
   "metadata": {},
   "source": [
    "### Flatten example"
   ]
  },
  {
   "cell_type": "code",
   "execution_count": 5,
   "id": "9b7a8a21",
   "metadata": {},
   "outputs": [
    {
     "data": {
      "text/plain": [
       "array([1, 2, 3, 4])"
      ]
     },
     "execution_count": 5,
     "metadata": {},
     "output_type": "execute_result"
    }
   ],
   "source": [
    "data.flatten()"
   ]
  },
  {
   "cell_type": "code",
   "execution_count": 6,
   "id": "c6d94dad",
   "metadata": {},
   "outputs": [
    {
     "data": {
      "text/plain": [
       "(4,)"
      ]
     },
     "execution_count": 6,
     "metadata": {},
     "output_type": "execute_result"
    }
   ],
   "source": [
    "data.flatten().shape"
   ]
  },
  {
   "cell_type": "markdown",
   "id": "191687f5",
   "metadata": {},
   "source": [
    "### Column example with np.newaxis, then the corresponding new axes are added"
   ]
  },
  {
   "cell_type": "code",
   "execution_count": 8,
   "id": "e3ae4789",
   "metadata": {},
   "outputs": [
    {
     "data": {
      "text/plain": [
       "array([[0],\n",
       "       [1],\n",
       "       [2],\n",
       "       [3],\n",
       "       [4]])"
      ]
     },
     "execution_count": 8,
     "metadata": {},
     "output_type": "execute_result"
    }
   ],
   "source": [
    "data = np.arange(0, 5)\n",
    "column = data[:, np.newaxis]\n",
    "column"
   ]
  },
  {
   "cell_type": "markdown",
   "id": "604ced54",
   "metadata": {},
   "source": [
    "### Expand dims equivalent"
   ]
  },
  {
   "cell_type": "code",
   "execution_count": 11,
   "id": "9a499eca",
   "metadata": {},
   "outputs": [
    {
     "data": {
      "text/plain": [
       "array([[0],\n",
       "       [1],\n",
       "       [2],\n",
       "       [3],\n",
       "       [4]])"
      ]
     },
     "execution_count": 11,
     "metadata": {},
     "output_type": "execute_result"
    }
   ],
   "source": [
    "np.expand_dims(data, axis=1)"
   ]
  },
  {
   "cell_type": "markdown",
   "id": "62ecdab8",
   "metadata": {},
   "source": [
    "### Row example with np.newaxis, then the corresponding new axes are added"
   ]
  },
  {
   "cell_type": "code",
   "execution_count": 12,
   "id": "42c71f4f",
   "metadata": {},
   "outputs": [
    {
     "data": {
      "text/plain": [
       "array([[0, 1, 2, 3, 4]])"
      ]
     },
     "execution_count": 12,
     "metadata": {},
     "output_type": "execute_result"
    }
   ],
   "source": [
    "row = data[np.newaxis, :]\n",
    "row"
   ]
  },
  {
   "cell_type": "markdown",
   "id": "ca4fb0b8",
   "metadata": {},
   "source": [
    "### Expand dims equivalent"
   ]
  },
  {
   "cell_type": "code",
   "execution_count": 13,
   "id": "13e577b3",
   "metadata": {},
   "outputs": [
    {
     "data": {
      "text/plain": [
       "array([[0, 1, 2, 3, 4]])"
      ]
     },
     "execution_count": 13,
     "metadata": {},
     "output_type": "execute_result"
    }
   ],
   "source": [
    "np.expand_dims(data, axis=0)"
   ]
  },
  {
   "cell_type": "markdown",
   "id": "0b8cb2cf",
   "metadata": {},
   "source": [
    "## np.vstack and np.hstack <- vertical and horizontal stacks"
   ]
  },
  {
   "cell_type": "markdown",
   "id": "0e1640de",
   "metadata": {},
   "source": [
    "## np.vstack concatenate rows"
   ]
  },
  {
   "cell_type": "code",
   "execution_count": 15,
   "id": "a96b5bb3",
   "metadata": {},
   "outputs": [
    {
     "data": {
      "text/plain": [
       "array([0, 1, 2, 3, 4])"
      ]
     },
     "execution_count": 15,
     "metadata": {},
     "output_type": "execute_result"
    }
   ],
   "source": [
    "data = np.arange(5)\n",
    "data"
   ]
  },
  {
   "cell_type": "code",
   "execution_count": 16,
   "id": "00a9327f",
   "metadata": {},
   "outputs": [
    {
     "data": {
      "text/plain": [
       "array([[0, 1, 2, 3, 4],\n",
       "       [0, 1, 2, 3, 4],\n",
       "       [0, 1, 2, 3, 4]])"
      ]
     },
     "execution_count": 16,
     "metadata": {},
     "output_type": "execute_result"
    }
   ],
   "source": [
    "np.vstack((data, data, data))"
   ]
  },
  {
   "cell_type": "markdown",
   "id": "caaade6f",
   "metadata": {},
   "source": [
    "## np.hstack concat vectors by adding to the end all of the elements"
   ]
  },
  {
   "cell_type": "code",
   "execution_count": 25,
   "id": "d4a92b7c",
   "metadata": {},
   "outputs": [
    {
     "data": {
      "text/plain": [
       "array([0, 1, 2, 3, 4])"
      ]
     },
     "execution_count": 25,
     "metadata": {},
     "output_type": "execute_result"
    }
   ],
   "source": [
    "data = np.arange(5)\n",
    "data"
   ]
  },
  {
   "cell_type": "code",
   "execution_count": 26,
   "id": "d58be259",
   "metadata": {},
   "outputs": [
    {
     "data": {
      "text/plain": [
       "array([0, 1, 2, 3, 4, 0, 1, 2, 3, 4, 0, 1, 2, 3, 4])"
      ]
     },
     "execution_count": 26,
     "metadata": {},
     "output_type": "execute_result"
    }
   ],
   "source": [
    "np.hstack((data, data, data))"
   ]
  },
  {
   "cell_type": "markdown",
   "id": "1102118f",
   "metadata": {},
   "source": [
    "### Create column vector 1x5"
   ]
  },
  {
   "cell_type": "code",
   "execution_count": 27,
   "id": "adc14140",
   "metadata": {},
   "outputs": [
    {
     "data": {
      "text/plain": [
       "array([[0],\n",
       "       [1],\n",
       "       [2],\n",
       "       [3],\n",
       "       [4]])"
      ]
     },
     "execution_count": 27,
     "metadata": {},
     "output_type": "execute_result"
    }
   ],
   "source": [
    "vector = data[:, np.newaxis]\n",
    "vector"
   ]
  },
  {
   "cell_type": "markdown",
   "id": "0ef91ad3",
   "metadata": {},
   "source": [
    "### And then concan by np.hstack 3 times this vector"
   ]
  },
  {
   "cell_type": "code",
   "execution_count": 28,
   "id": "f9b3a08f",
   "metadata": {},
   "outputs": [
    {
     "data": {
      "text/plain": [
       "array([[0, 0, 0],\n",
       "       [1, 1, 1],\n",
       "       [2, 2, 2],\n",
       "       [3, 3, 3],\n",
       "       [4, 4, 4]])"
      ]
     },
     "execution_count": 28,
     "metadata": {},
     "output_type": "execute_result"
    }
   ],
   "source": [
    "np.hstack((vector, vector, vector))"
   ]
  },
  {
   "cell_type": "code",
   "execution_count": null,
   "id": "759f8d63",
   "metadata": {},
   "outputs": [],
   "source": []
  }
 ],
 "metadata": {
  "kernelspec": {
   "display_name": "Python 3",
   "language": "python",
   "name": "python3"
  },
  "language_info": {
   "codemirror_mode": {
    "name": "ipython",
    "version": 3
   },
   "file_extension": ".py",
   "mimetype": "text/x-python",
   "name": "python",
   "nbconvert_exporter": "python",
   "pygments_lexer": "ipython3",
   "version": "3.8.8"
  }
 },
 "nbformat": 4,
 "nbformat_minor": 5
}
