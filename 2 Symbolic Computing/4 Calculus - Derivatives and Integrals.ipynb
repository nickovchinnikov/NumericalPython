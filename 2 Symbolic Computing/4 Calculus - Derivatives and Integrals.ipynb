{
 "cells": [
  {
   "cell_type": "markdown",
   "id": "2e3ad409",
   "metadata": {},
   "source": [
    "# Calculus"
   ]
  },
  {
   "cell_type": "code",
   "execution_count": 39,
   "id": "1194e136",
   "metadata": {},
   "outputs": [],
   "source": [
    "import sympy\n",
    "sympy.init_printing()\n",
    "from sympy import I, pi, oo"
   ]
  },
  {
   "cell_type": "markdown",
   "id": "5359c86a",
   "metadata": {},
   "source": [
    "# Derivatives"
   ]
  },
  {
   "cell_type": "markdown",
   "id": "d059a890",
   "metadata": {},
   "source": [
    "> To represent the first-order derivative of an abstract function f (x) with respect\n",
    "to x, we can do"
   ]
  },
  {
   "cell_type": "code",
   "execution_count": 19,
   "id": "ba5420e2",
   "metadata": {},
   "outputs": [
    {
     "data": {
      "image/png": "[encoded data removed]",
      "text/latex": [
       "$\\displaystyle \\frac{d}{d x} f{\\left(x \\right)}$"
      ],
      "text/plain": [
       "d       \n",
       "──(f(x))\n",
       "dx      "
      ]
     },
     "execution_count": 19,
     "metadata": {},
     "output_type": "execute_result"
    }
   ],
   "source": [
    "x = sympy.Symbol('x')\n",
    "y = sympy.Symbol('y')\n",
    "z = sympy.Symbol('z')\n",
    "\n",
    "f = sympy.Function('f')(x)\n",
    "sympy.diff(f, x)"
   ]
  },
  {
   "cell_type": "markdown",
   "id": "44173364",
   "metadata": {},
   "source": [
    "> and to represent higher-order derivatives, all we need to do is to repeat the symbol x\n",
    "in the argument list in the call to sympy.diff or, equivalently, specify an integer as an\n",
    "argument following a symbol, which defines the number of times the expression should\n",
    "be derived with respect to that symbol"
   ]
  },
  {
   "cell_type": "code",
   "execution_count": 4,
   "id": "6f16f074",
   "metadata": {},
   "outputs": [
    {
     "data": {
      "image/png": "[encoded data removed]",
      "text/latex": [
       "$\\displaystyle \\frac{d^{2}}{d x^{2}} f{\\left(x \\right)}$"
      ],
      "text/plain": [
       "  2      \n",
       " d       \n",
       "───(f(x))\n",
       "  2      \n",
       "dx       "
      ]
     },
     "execution_count": 4,
     "metadata": {},
     "output_type": "execute_result"
    }
   ],
   "source": [
    "sympy.diff(f, x, x)"
   ]
  },
  {
   "cell_type": "markdown",
   "id": "5ade9632",
   "metadata": {},
   "source": [
    "### equivalent to sympy.diff(f, x, x, x)"
   ]
  },
  {
   "cell_type": "code",
   "execution_count": 5,
   "id": "d82d87cc",
   "metadata": {},
   "outputs": [
    {
     "data": {
      "image/png": "[encoded data removed]",
      "text/latex": [
       "$\\displaystyle \\frac{d^{3}}{d x^{3}} f{\\left(x \\right)}$"
      ],
      "text/plain": [
       "  3      \n",
       " d       \n",
       "───(f(x))\n",
       "  3      \n",
       "dx       "
      ]
     },
     "execution_count": 5,
     "metadata": {},
     "output_type": "execute_result"
    }
   ],
   "source": [
    "sympy.diff(f, x, 3)"
   ]
  },
  {
   "cell_type": "markdown",
   "id": "9e2d53fd",
   "metadata": {},
   "source": [
    "### This method is readily extended to multivariate functions"
   ]
  },
  {
   "cell_type": "code",
   "execution_count": 11,
   "id": "d19d4f4d",
   "metadata": {},
   "outputs": [
    {
     "data": {
      "image/png": "[encoded data removed]",
      "text/latex": [
       "$\\displaystyle \\frac{\\partial^{2}}{\\partial y\\partial x} g{\\left(x,y \\right)}$"
      ],
      "text/plain": [
       "   2          \n",
       "  ∂           \n",
       "─────(g(x, y))\n",
       "∂y ∂x         "
      ]
     },
     "execution_count": 11,
     "metadata": {},
     "output_type": "execute_result"
    }
   ],
   "source": [
    "g = sympy.Function('g')(x, y)\n",
    "\n",
    "# equivalent to sympy.diff(g, x, y)\n",
    "g.diff(x, y)"
   ]
  },
  {
   "cell_type": "code",
   "execution_count": 12,
   "id": "f5cfd764",
   "metadata": {},
   "outputs": [
    {
     "data": {
      "image/png": "[encoded data removed]",
      "text/latex": [
       "$\\displaystyle \\frac{\\partial^{5}}{\\partial y^{2}\\partial x^{3}} g{\\left(x,y \\right)}$"
      ],
      "text/plain": [
       "    5           \n",
       "   ∂            \n",
       "───────(g(x, y))\n",
       "  2   3         \n",
       "∂y  ∂x          "
      ]
     },
     "execution_count": 12,
     "metadata": {},
     "output_type": "execute_result"
    }
   ],
   "source": [
    "# equivalent to sympy.diff(g, x, x, x, y, y)\n",
    "\n",
    "g.diff(x, 3, y, 2)"
   ]
  },
  {
   "cell_type": "markdown",
   "id": "ce55a3bf",
   "metadata": {},
   "source": [
    "> using sympy.diff we can easily evaluate derivatives of arbitrary mathematical\n",
    "expressions, such as polynomials"
   ]
  },
  {
   "cell_type": "code",
   "execution_count": 13,
   "id": "f8beafe1",
   "metadata": {},
   "outputs": [
    {
     "data": {
      "image/png": "[encoded data removed]",
      "text/latex": [
       "$\\displaystyle 4 x^{3} + 3 x^{2} + 2 x + 1$"
      ],
      "text/plain": [
       "   3      2          \n",
       "4⋅x  + 3⋅x  + 2⋅x + 1"
      ]
     },
     "execution_count": 13,
     "metadata": {},
     "output_type": "execute_result"
    }
   ],
   "source": [
    "expr = x**4 + x**3 + x**2 + x + 1\n",
    "\n",
    "# First diff\n",
    "expr.diff(x)"
   ]
  },
  {
   "cell_type": "code",
   "execution_count": 16,
   "id": "f98f1061",
   "metadata": {},
   "outputs": [
    {
     "data": {
      "image/png": "[encoded data removed]",
      "text/latex": [
       "$\\displaystyle 2 \\left(6 x^{2} + 3 x + 1\\right)$"
      ],
      "text/plain": [
       "  ⎛   2          ⎞\n",
       "2⋅⎝6⋅x  + 3⋅x + 1⎠"
      ]
     },
     "execution_count": 16,
     "metadata": {},
     "output_type": "execute_result"
    }
   ],
   "source": [
    "# Second diff\n",
    "expr.diff(x, x)"
   ]
  },
  {
   "cell_type": "code",
   "execution_count": 17,
   "id": "8e881a69",
   "metadata": {},
   "outputs": [
    {
     "data": {
      "image/png": "[encoded data removed]",
      "text/latex": [
       "$\\displaystyle 6 \\left(4 x + 1\\right)$"
      ],
      "text/plain": [
       "6⋅(4⋅x + 1)"
      ]
     },
     "execution_count": 17,
     "metadata": {},
     "output_type": "execute_result"
    }
   ],
   "source": [
    "# Third diff\n",
    "expr.diff(x, 3)"
   ]
  },
  {
   "cell_type": "code",
   "execution_count": 20,
   "id": "03b789cb",
   "metadata": {},
   "outputs": [
    {
     "data": {
      "image/png": "[encoded data removed]",
      "text/latex": [
       "$\\displaystyle 6 y \\left(x + 1\\right)^{2}$"
      ],
      "text/plain": [
       "           2\n",
       "6⋅y⋅(x + 1) "
      ]
     },
     "execution_count": 20,
     "metadata": {},
     "output_type": "execute_result"
    }
   ],
   "source": [
    "expr = (x + 1)**3 * y ** 2 * (z - 1)\n",
    "expr.diff(x, y, z)"
   ]
  },
  {
   "cell_type": "markdown",
   "id": "4cbd49ba",
   "metadata": {},
   "source": [
    "> as well as trigonometric and other more complicated mathematical expressions"
   ]
  },
  {
   "cell_type": "code",
   "execution_count": 22,
   "id": "fa2a5741",
   "metadata": {},
   "outputs": [
    {
     "data": {
      "image/png": "[encoded data removed]",
      "text/latex": [
       "$\\displaystyle y \\cos{\\left(\\frac{x}{2} \\right)} \\cos{\\left(x y \\right)} - \\frac{\\sin{\\left(\\frac{x}{2} \\right)} \\sin{\\left(x y \\right)}}{2}$"
      ],
      "text/plain": [
       "                       ⎛x⎞         \n",
       "                    sin⎜─⎟⋅sin(x⋅y)\n",
       "     ⎛x⎞               ⎝2⎠         \n",
       "y⋅cos⎜─⎟⋅cos(x⋅y) - ───────────────\n",
       "     ⎝2⎠                   2       "
      ]
     },
     "execution_count": 22,
     "metadata": {},
     "output_type": "execute_result"
    }
   ],
   "source": [
    "expr = sympy.sin(x * y) * sympy.cos(x / 2)\n",
    "expr.diff(x)"
   ]
  },
  {
   "cell_type": "markdown",
   "id": "6b29e615",
   "metadata": {},
   "source": [
    "### we can create an instance of the class sympy.Derivative, passing the\n",
    "expression as the first argument, followed by the symbols with respect to the derivative\n",
    "that is to be computed"
   ]
  },
  {
   "cell_type": "code",
   "execution_count": 25,
   "id": "7f71f2cb",
   "metadata": {},
   "outputs": [
    {
     "data": {
      "image/png": "[encoded data removed]",
      "text/latex": [
       "$\\displaystyle \\frac{d}{d x} e^{\\cos{\\left(x \\right)}}$"
      ],
      "text/plain": [
       "d ⎛ cos(x)⎞\n",
       "──⎝ℯ      ⎠\n",
       "dx         "
      ]
     },
     "execution_count": 25,
     "metadata": {},
     "output_type": "execute_result"
    }
   ],
   "source": [
    "d = sympy.Derivative(sympy.exp(sympy.cos(x)), x)\n",
    "d"
   ]
  },
  {
   "cell_type": "markdown",
   "id": "dc78a261",
   "metadata": {},
   "source": [
    "> This formal representation of a derivative can then be evaluated by calling the doit\n",
    "method on the sympy.Derivative instance"
   ]
  },
  {
   "cell_type": "code",
   "execution_count": 27,
   "id": "45a665c7",
   "metadata": {},
   "outputs": [
    {
     "data": {
      "image/png": "[encoded data removed]",
      "text/latex": [
       "$\\displaystyle - e^{\\cos{\\left(x \\right)}} \\sin{\\left(x \\right)}$"
      ],
      "text/plain": [
       "  cos(x)       \n",
       "-ℯ      ⋅sin(x)"
      ]
     },
     "execution_count": 27,
     "metadata": {},
     "output_type": "execute_result"
    }
   ],
   "source": [
    "d.doit()"
   ]
  },
  {
   "cell_type": "markdown",
   "id": "0df6a733",
   "metadata": {},
   "source": [
    "> This pattern of delayed evaluation is reoccurring throughout SymPy, and full control\n",
    "of when a formal expression is evaluated to a specific result is useful in many situations,\n",
    "in particular with expressions that can be simplified or manipulated while represented\n",
    "as a formal expression rather than after it has been evaluated"
   ]
  },
  {
   "cell_type": "markdown",
   "id": "19331d91",
   "metadata": {},
   "source": [
    "# Integrals"
   ]
  },
  {
   "cell_type": "markdown",
   "id": "eb27bed1",
   "metadata": {},
   "source": [
    "> In SymPy, integrals are evaluated using the function sympy.integrate, and formal\n",
    "integrals can be represented using sympy.Integral (which, as in the case with sympy.\n",
    "Derivative, can be explicitly evaluated by calling the doit method). Integrals come\n",
    "in two basic forms: definite and indefinite, where a definite integral has specified\n",
    "integration limits and can be interpreted as an area or volume, while an indefinite\n",
    "integral does not have integration limits and denotes the antiderivative (inverse of the\n",
    "derivative of a function). SymPy handles both indefinite and definite integrals using the\n",
    "sympy.integrate function"
   ]
  },
  {
   "cell_type": "code",
   "execution_count": 30,
   "id": "587b7526",
   "metadata": {},
   "outputs": [],
   "source": [
    "a, b, x, y = sympy.symbols(\"a, b, x, y\")\n",
    "f = sympy.Function(\"f\")(x)"
   ]
  },
  {
   "cell_type": "markdown",
   "id": "5fe85d27",
   "metadata": {},
   "source": [
    "### pass to integrate only f "
   ]
  },
  {
   "cell_type": "code",
   "execution_count": 31,
   "id": "a1a931a0",
   "metadata": {},
   "outputs": [
    {
     "data": {
      "image/png": "[encoded data removed]",
      "text/latex": [
       "$\\displaystyle \\int f{\\left(x \\right)}\\, dx$"
      ],
      "text/plain": [
       "⌠        \n",
       "⎮ f(x) dx\n",
       "⌡        "
      ]
     },
     "execution_count": 31,
     "metadata": {},
     "output_type": "execute_result"
    }
   ],
   "source": [
    "sympy.integrate(f)"
   ]
  },
  {
   "cell_type": "markdown",
   "id": "0200234c",
   "metadata": {},
   "source": [
    "### pass to integral function f and integrated variable and domain of integration "
   ]
  },
  {
   "cell_type": "code",
   "execution_count": 32,
   "id": "98b9caa2",
   "metadata": {},
   "outputs": [
    {
     "data": {
      "image/png": "[encoded data removed]",
      "text/latex": [
       "$\\displaystyle \\int\\limits_{a}^{b} f{\\left(x \\right)}\\, dx$"
      ],
      "text/plain": [
       "b        \n",
       "⌠        \n",
       "⎮ f(x) dx\n",
       "⌡        \n",
       "a        "
      ]
     },
     "execution_count": 32,
     "metadata": {},
     "output_type": "execute_result"
    }
   ],
   "source": [
    "sympy.integrate(f, (x, a, b))"
   ]
  },
  {
   "cell_type": "markdown",
   "id": "2eaf3b55",
   "metadata": {},
   "source": [
    "> and when these methods are applied to explicit functions, the integrals are evaluated\n",
    "accordingly"
   ]
  },
  {
   "cell_type": "code",
   "execution_count": 36,
   "id": "992de17c",
   "metadata": {},
   "outputs": [
    {
     "data": {
      "image/png": "[encoded data removed]",
      "text/latex": [
       "$\\displaystyle - \\cos{\\left(x \\right)}$"
      ],
      "text/plain": [
       "-cos(x)"
      ]
     },
     "execution_count": 36,
     "metadata": {},
     "output_type": "execute_result"
    }
   ],
   "source": [
    "sympy.integrate(sympy.sin(x))"
   ]
  },
  {
   "cell_type": "code",
   "execution_count": 52,
   "id": "32c2be8b",
   "metadata": {},
   "outputs": [
    {
     "data": {
      "image/png": "[encoded data removed]",
      "text/latex": [
       "$\\displaystyle \\int \\sin{\\left(x \\right)}\\, dx$"
      ],
      "text/plain": [
       "⌠          \n",
       "⎮ sin(x) dx\n",
       "⌡          "
      ]
     },
     "execution_count": 52,
     "metadata": {},
     "output_type": "execute_result"
    }
   ],
   "source": [
    "# Or you can just init value instead\n",
    "i = sympy.Integral(sympy.sin(x))\n",
    "i"
   ]
  },
  {
   "cell_type": "code",
   "execution_count": 53,
   "id": "442fc3c1",
   "metadata": {},
   "outputs": [
    {
     "data": {
      "image/png": "[encoded data removed]",
      "text/latex": [
       "$\\displaystyle - \\cos{\\left(x \\right)}$"
      ],
      "text/plain": [
       "-cos(x)"
      ]
     },
     "execution_count": 53,
     "metadata": {},
     "output_type": "execute_result"
    }
   ],
   "source": [
    "# and then do it!\n",
    "i.doit()"
   ]
  },
  {
   "cell_type": "code",
   "execution_count": 37,
   "id": "b0f0ab45",
   "metadata": {},
   "outputs": [
    {
     "data": {
      "image/png": "[encoded data removed]",
      "text/latex": [
       "$\\displaystyle \\cos{\\left(a \\right)} - \\cos{\\left(b \\right)}$"
      ],
      "text/plain": [
       "cos(a) - cos(b)"
      ]
     },
     "execution_count": 37,
     "metadata": {},
     "output_type": "execute_result"
    }
   ],
   "source": [
    "sympy.integrate(sympy.sin(x), (x, a, b))"
   ]
  },
  {
   "cell_type": "code",
   "execution_count": 40,
   "id": "66d6111a",
   "metadata": {},
   "outputs": [
    {
     "data": {
      "image/png": "[encoded data removed]",
      "text/latex": [
       "$\\displaystyle \\frac{\\sqrt{\\pi}}{2}$"
      ],
      "text/plain": [
       "√π\n",
       "──\n",
       "2 "
      ]
     },
     "execution_count": 40,
     "metadata": {},
     "output_type": "execute_result"
    }
   ],
   "source": [
    "sympy.integrate(sympy.exp(-x**2), (x, 0, oo))"
   ]
  },
  {
   "cell_type": "code",
   "execution_count": 41,
   "id": "6c63b1ca",
   "metadata": {},
   "outputs": [
    {
     "data": {
      "image/png": "[encoded data removed]",
      "text/latex": [
       "$\\displaystyle \\sqrt{\\pi} a c$"
      ],
      "text/plain": [
       "√π⋅a⋅c"
      ]
     },
     "execution_count": 41,
     "metadata": {},
     "output_type": "execute_result"
    }
   ],
   "source": [
    "a, b, c = sympy.symbols(\"a, b, c\", positive=True)\n",
    "sympy.integrate(a * sympy.exp(-((x-b)/c)**2), (x, -oo, oo))"
   ]
  },
  {
   "cell_type": "markdown",
   "id": "5650d6b4",
   "metadata": {},
   "source": [
    "### When SymPy fails to evaluate an integral, an instance of sympy.Integral, representing the formal integral, is returned instead"
   ]
  },
  {
   "cell_type": "code",
   "execution_count": 42,
   "id": "0f969711",
   "metadata": {},
   "outputs": [
    {
     "data": {
      "image/png": "[encoded data removed]",
      "text/latex": [
       "$\\displaystyle \\int \\sin{\\left(x \\cos{\\left(x \\right)} \\right)}\\, dx$"
      ],
      "text/plain": [
       "⌠                 \n",
       "⎮ sin(x⋅cos(x)) dx\n",
       "⌡                 "
      ]
     },
     "execution_count": 42,
     "metadata": {},
     "output_type": "execute_result"
    }
   ],
   "source": [
    "sympy.integrate(sympy.sin(x * sympy.cos(x)))"
   ]
  },
  {
   "cell_type": "markdown",
   "id": "4a6c7dd2",
   "metadata": {},
   "source": [
    "> Multivariable expressions can also be integrated with sympy.integrate. In the case\n",
    "of an indefinite integral of a multivariable expression, the integration variable has to be\n",
    "specified explicitly"
   ]
  },
  {
   "cell_type": "code",
   "execution_count": 44,
   "id": "95d6e739",
   "metadata": {},
   "outputs": [
    {
     "data": {
      "image/png": "[encoded data removed]",
      "text/latex": [
       "$\\displaystyle - e^{- y} \\cos{\\left(x e^{y} \\right)}$"
      ],
      "text/plain": [
       "  -y    ⎛   y⎞\n",
       "-ℯ  ⋅cos⎝x⋅ℯ ⎠"
      ]
     },
     "execution_count": 44,
     "metadata": {},
     "output_type": "execute_result"
    }
   ],
   "source": [
    "expr = sympy.sin(x*sympy.exp(y))\n",
    "sympy.integrate(expr, x)"
   ]
  },
  {
   "cell_type": "code",
   "execution_count": 45,
   "id": "96cee017",
   "metadata": {},
   "outputs": [
    {
     "data": {
      "image/png": "[encoded data removed]",
      "text/latex": [
       "$\\displaystyle \\frac{x^{3}}{3} + x^{2} y + x y^{2}$"
      ],
      "text/plain": [
       " 3              \n",
       "x     2        2\n",
       "── + x ⋅y + x⋅y \n",
       "3               "
      ]
     },
     "execution_count": 45,
     "metadata": {},
     "output_type": "execute_result"
    }
   ],
   "source": [
    "expr = (x + y)**2\n",
    "sympy.integrate(expr, x)"
   ]
  },
  {
   "cell_type": "markdown",
   "id": "c0057502",
   "metadata": {},
   "source": [
    "> By passing more than one symbol, or multiple tuples that contain symbols and their\n",
    "integration limits, we can carry out multiple integrations"
   ]
  },
  {
   "cell_type": "code",
   "execution_count": 46,
   "id": "0256e9aa",
   "metadata": {},
   "outputs": [
    {
     "data": {
      "image/png": "[encoded data removed]",
      "text/latex": [
       "$\\displaystyle \\frac{x^{3} y}{3} + \\frac{x^{2} y^{2}}{2} + \\frac{x y^{3}}{3}$"
      ],
      "text/plain": [
       " 3      2  2      3\n",
       "x ⋅y   x ⋅y    x⋅y \n",
       "──── + ───── + ────\n",
       " 3       2      3  "
      ]
     },
     "execution_count": 46,
     "metadata": {},
     "output_type": "execute_result"
    }
   ],
   "source": [
    "sympy.integrate(expr, x, y)"
   ]
  },
  {
   "cell_type": "code",
   "execution_count": 47,
   "id": "3a97705b",
   "metadata": {},
   "outputs": [
    {
     "data": {
      "image/png": "[encoded data removed]",
      "text/latex": [
       "$\\displaystyle \\frac{7}{6}$"
      ],
      "text/plain": [
       "7/6"
      ]
     },
     "execution_count": 47,
     "metadata": {},
     "output_type": "execute_result"
    }
   ],
   "source": [
    "sympy.integrate(expr, (x, 0, 1), (y, 0, 1))"
   ]
  },
  {
   "cell_type": "code",
   "execution_count": 54,
   "id": "67972365",
   "metadata": {},
   "outputs": [
    {
     "data": {
      "image/png": "[encoded data removed]",
      "text/latex": [
       "$\\displaystyle \\int\\limits_{0}^{1}\\int\\limits_{0}^{1} \\left(x + y\\right)^{2}\\, dx\\, dy$"
      ],
      "text/plain": [
       "1 1               \n",
       "⌠ ⌠               \n",
       "⎮ ⎮        2      \n",
       "⎮ ⎮ (x + y)  dx dy\n",
       "⌡ ⌡               \n",
       "0 0               "
      ]
     },
     "execution_count": 54,
     "metadata": {},
     "output_type": "execute_result"
    }
   ],
   "source": [
    "# we can look inside\n",
    "\n",
    "i = sympy.Integral(expr, (x, 0, 1), (y, 0, 1))\n",
    "i"
   ]
  },
  {
   "cell_type": "code",
   "execution_count": 55,
   "id": "cefe2759",
   "metadata": {},
   "outputs": [
    {
     "data": {
      "image/png": "[encoded data removed]",
      "text/latex": [
       "$\\displaystyle \\frac{7}{6}$"
      ],
      "text/plain": [
       "7/6"
      ]
     },
     "execution_count": 55,
     "metadata": {},
     "output_type": "execute_result"
    }
   ],
   "source": [
    "# and then integrate!\n",
    "i.doit()"
   ]
  },
  {
   "cell_type": "code",
   "execution_count": null,
   "id": "86d8ab33",
   "metadata": {},
   "outputs": [],
   "source": []
  }
 ],
 "metadata": {
  "kernelspec": {
   "display_name": "Python 3",
   "language": "python",
   "name": "python3"
  },
  "language_info": {
   "codemirror_mode": {
    "name": "ipython",
    "version": 3
   },
   "file_extension": ".py",
   "mimetype": "text/x-python",
   "name": "python",
   "nbconvert_exporter": "python",
   "pygments_lexer": "ipython3",
   "version": "3.8.8"
  }
 },
 "nbformat": 4,
 "nbformat_minor": 5
}
