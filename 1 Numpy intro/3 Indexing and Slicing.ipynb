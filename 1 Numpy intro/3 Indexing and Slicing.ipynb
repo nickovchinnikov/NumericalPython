{
 "cells": [
  {
   "cell_type": "markdown",
   "id": "878dd243",
   "metadata": {},
   "source": [
    "# Indexing and Slicing"
   ]
  },
  {
   "cell_type": "code",
   "execution_count": 1,
   "id": "95836724",
   "metadata": {},
   "outputs": [],
   "source": [
    "import numpy as np"
   ]
  },
  {
   "cell_type": "markdown",
   "id": "81c6c4d1",
   "metadata": {},
   "source": [
    "# One-Dimensional Arrays"
   ]
  },
  {
   "cell_type": "code",
   "execution_count": 2,
   "id": "4b359710",
   "metadata": {},
   "outputs": [
    {
     "data": {
      "text/plain": [
       "array([ 0,  1,  2,  3,  4,  5,  6,  7,  8,  9, 10])"
      ]
     },
     "execution_count": 2,
     "metadata": {},
     "output_type": "execute_result"
    }
   ],
   "source": [
    "a = np.arange(0, 11)\n",
    "a"
   ]
  },
  {
   "cell_type": "markdown",
   "id": "7adc0784",
   "metadata": {},
   "source": [
    "### by index"
   ]
  },
  {
   "cell_type": "code",
   "execution_count": 3,
   "id": "0003d42c",
   "metadata": {},
   "outputs": [
    {
     "data": {
      "text/plain": [
       "5"
      ]
     },
     "execution_count": 3,
     "metadata": {},
     "output_type": "execute_result"
    }
   ],
   "source": [
    "a[5]"
   ]
  },
  {
   "cell_type": "markdown",
   "id": "abb42ea6",
   "metadata": {},
   "source": [
    "### the last one"
   ]
  },
  {
   "cell_type": "code",
   "execution_count": 4,
   "id": "ad6793ce",
   "metadata": {},
   "outputs": [
    {
     "data": {
      "text/plain": [
       "10"
      ]
     },
     "execution_count": 4,
     "metadata": {},
     "output_type": "execute_result"
    }
   ],
   "source": [
    "a[-1]"
   ]
  },
  {
   "cell_type": "markdown",
   "id": "0c6591fb",
   "metadata": {},
   "source": [
    "### range"
   ]
  },
  {
   "cell_type": "code",
   "execution_count": 5,
   "id": "a712ddf8",
   "metadata": {},
   "outputs": [
    {
     "data": {
      "text/plain": [
       "array([4, 5, 6, 7])"
      ]
     },
     "execution_count": 5,
     "metadata": {},
     "output_type": "execute_result"
    }
   ],
   "source": [
    "a[4:8]"
   ]
  },
  {
   "cell_type": "markdown",
   "id": "b6a8195f",
   "metadata": {},
   "source": [
    "### all elements"
   ]
  },
  {
   "cell_type": "code",
   "execution_count": 6,
   "id": "43b7b393",
   "metadata": {},
   "outputs": [
    {
     "data": {
      "text/plain": [
       "array([ 0,  1,  2,  3,  4,  5,  6,  7,  8,  9, 10])"
      ]
     },
     "execution_count": 6,
     "metadata": {},
     "output_type": "execute_result"
    }
   ],
   "source": [
    "a[:]"
   ]
  },
  {
   "cell_type": "markdown",
   "id": "b52ff8a2",
   "metadata": {},
   "source": [
    "### the same"
   ]
  },
  {
   "cell_type": "code",
   "execution_count": 7,
   "id": "d0afbe14",
   "metadata": {},
   "outputs": [
    {
     "data": {
      "text/plain": [
       "array([ 0,  1,  2,  3,  4,  5,  6,  7,  8,  9, 10])"
      ]
     },
     "execution_count": 7,
     "metadata": {},
     "output_type": "execute_result"
    }
   ],
   "source": [
    "a[:len(a)]"
   ]
  },
  {
   "cell_type": "markdown",
   "id": "fb79e913",
   "metadata": {},
   "source": [
    "### without last"
   ]
  },
  {
   "cell_type": "code",
   "execution_count": 8,
   "id": "991cdbf4",
   "metadata": {},
   "outputs": [
    {
     "data": {
      "text/plain": [
       "array([0, 1, 2, 3, 4, 5, 6, 7, 8, 9])"
      ]
     },
     "execution_count": 8,
     "metadata": {},
     "output_type": "execute_result"
    }
   ],
   "source": [
    "a[:-1]"
   ]
  },
  {
   "cell_type": "markdown",
   "id": "c1392447",
   "metadata": {},
   "source": [
    "### until / after"
   ]
  },
  {
   "cell_type": "code",
   "execution_count": 9,
   "id": "321f2c74",
   "metadata": {},
   "outputs": [
    {
     "data": {
      "text/plain": [
       "array([0, 1, 2, 3, 4])"
      ]
     },
     "execution_count": 9,
     "metadata": {},
     "output_type": "execute_result"
    }
   ],
   "source": [
    "a[:5]"
   ]
  },
  {
   "cell_type": "code",
   "execution_count": 10,
   "id": "243d4b1e",
   "metadata": {},
   "outputs": [
    {
     "data": {
      "text/plain": [
       "array([ 5,  6,  7,  8,  9, 10])"
      ]
     },
     "execution_count": 10,
     "metadata": {},
     "output_type": "execute_result"
    }
   ],
   "source": [
    "a[5:]"
   ]
  },
  {
   "cell_type": "markdown",
   "id": "faadecac",
   "metadata": {},
   "source": [
    "### Select elements with index m through n (exclusive), with increment p.\n",
    "`a[m:n:p]`"
   ]
  },
  {
   "cell_type": "code",
   "execution_count": 11,
   "id": "aab646b7",
   "metadata": {},
   "outputs": [
    {
     "data": {
      "text/plain": [
       "array([0, 2, 4, 6])"
      ]
     },
     "execution_count": 11,
     "metadata": {},
     "output_type": "execute_result"
    }
   ],
   "source": [
    "a[0:8:2]"
   ]
  },
  {
   "cell_type": "markdown",
   "id": "ef848f9f",
   "metadata": {},
   "source": [
    "### Select all the elements, in reverse order"
   ]
  },
  {
   "cell_type": "code",
   "execution_count": 12,
   "id": "efbef0e6",
   "metadata": {},
   "outputs": [
    {
     "data": {
      "text/plain": [
       "array([10,  9,  8,  7,  6,  5,  4,  3,  2,  1,  0])"
      ]
     },
     "execution_count": 12,
     "metadata": {},
     "output_type": "execute_result"
    }
   ],
   "source": [
    "a[::-1]"
   ]
  },
  {
   "cell_type": "markdown",
   "id": "9ee34b8d",
   "metadata": {},
   "source": [
    "### One more example in reverse order"
   ]
  },
  {
   "cell_type": "code",
   "execution_count": 13,
   "id": "3a9e2a0a",
   "metadata": {},
   "outputs": [
    {
     "data": {
      "text/plain": [
       "array([10,  8,  6,  4,  2,  0])"
      ]
     },
     "execution_count": 13,
     "metadata": {},
     "output_type": "execute_result"
    }
   ],
   "source": [
    "a[::-2]"
   ]
  },
  {
   "cell_type": "markdown",
   "id": "8e360577",
   "metadata": {},
   "source": [
    "# Multidimensional Arrays"
   ]
  },
  {
   "cell_type": "code",
   "execution_count": 14,
   "id": "ac63c9fa",
   "metadata": {},
   "outputs": [
    {
     "data": {
      "text/plain": [
       "array([[ 0,  1,  2,  3,  4,  5],\n",
       "       [10, 11, 12, 13, 14, 15],\n",
       "       [20, 21, 22, 23, 24, 25],\n",
       "       [30, 31, 32, 33, 34, 35],\n",
       "       [40, 41, 42, 43, 44, 45],\n",
       "       [50, 51, 52, 53, 54, 55]])"
      ]
     },
     "execution_count": 14,
     "metadata": {},
     "output_type": "execute_result"
    }
   ],
   "source": [
    "f = lambda m, n: n + 10 * m\n",
    "A = np.fromfunction(f, (6, 6), dtype=int)\n",
    "A"
   ]
  },
  {
   "cell_type": "markdown",
   "id": "3ac90fdc",
   "metadata": {},
   "source": [
    "### One more example"
   ]
  },
  {
   "cell_type": "code",
   "execution_count": 48,
   "id": "5684f432",
   "metadata": {},
   "outputs": [
    {
     "data": {
      "text/plain": [
       "array([[ 0,  1,  2,  3,  4,  5,  6,  7,  8,  9],\n",
       "       [10, 11, 12, 13, 14, 15, 16, 17, 18, 19],\n",
       "       [20, 21, 22, 23, 24, 25, 26, 27, 28, 29],\n",
       "       [30, 31, 32, 33, 34, 35, 36, 37, 38, 39],\n",
       "       [40, 41, 42, 43, 44, 45, 46, 47, 48, 49],\n",
       "       [50, 51, 52, 53, 54, 55, 56, 57, 58, 59],\n",
       "       [60, 61, 62, 63, 64, 65, 66, 67, 68, 69],\n",
       "       [70, 71, 72, 73, 74, 75, 76, 77, 78, 79],\n",
       "       [80, 81, 82, 83, 84, 85, 86, 87, 88, 89],\n",
       "       [90, 91, 92, 93, 94, 95, 96, 97, 98, 99]])"
      ]
     },
     "execution_count": 48,
     "metadata": {},
     "output_type": "execute_result"
    }
   ],
   "source": [
    "f_10 = lambda m, n: n + 10 * m\n",
    "A_10 = np.fromfunction(f, (10, 10), dtype=int)\n",
    "A_10"
   ]
  },
  {
   "cell_type": "code",
   "execution_count": 59,
   "id": "0c67daba",
   "metadata": {},
   "outputs": [
    {
     "data": {
      "text/plain": [
       "0.0"
      ]
     },
     "execution_count": 59,
     "metadata": {},
     "output_type": "execute_result"
    }
   ],
   "source": [
    "np.linalg.det(A_10)"
   ]
  },
  {
   "cell_type": "markdown",
   "id": "75de332e",
   "metadata": {},
   "source": [
    "### Interesting smoothness in pseudo-inverse"
   ]
  },
  {
   "cell_type": "code",
   "execution_count": 98,
   "id": "27ff5f11",
   "metadata": {},
   "outputs": [
    {
     "data": {
      "text/plain": [
       "array([[2073, 1733, 1394, 1055,  715,  376,   36,  303,  642,  982],\n",
       "       [1624, 1358, 1091,  824,  558,  291,   24,  242,  509,  776],\n",
       "       [1176,  982,  788,  594,  400,  206,   12,  182,  376,  570],\n",
       "       [ 727,  606,  485,  364,  242,  121,    0,  121,  242,  364],\n",
       "       [ 279,  230,  182,  133,   85,   36,   12,   61,  109,  158],\n",
       "       [ 170,  145,  121,   97,   73,   48,   24,    0,   24,   48],\n",
       "       [ 618,  521,  424,  327,  230,  133,   36,   61,  158,  255],\n",
       "       [1067,  897,  727,  558,  388,  218,   48,  121,  291,  461],\n",
       "       [1515, 1273, 1030,  788,  545,  303,   61,  182,  424,  667],\n",
       "       [1964, 1648, 1333, 1018,  703,  388,   73,  242,  558,  873]])"
      ]
     },
     "execution_count": 98,
     "metadata": {},
     "output_type": "execute_result"
    }
   ],
   "source": [
    "np.array(\n",
    "    np.round(\n",
    "    np.abs(np.linalg.pinv(A_10) * 100000), \n",
    "    decimals=0),\n",
    "dtype=int)"
   ]
  },
  {
   "attachments": {
    "3%20Indexing%20and%20Slicing%20-%20PseudoInverse.png": {
     "image/png": "[encoded data removed]"
    }
   },
   "cell_type": "markdown",
   "id": "34c63d2a",
   "metadata": {},
   "source": [
    "![3%20Indexing%20and%20Slicing%20-%20PseudoInverse.png](attachment:3%20Indexing%20and%20Slicing%20-%20PseudoInverse.png)"
   ]
  },
  {
   "cell_type": "markdown",
   "id": "8d4bc82a",
   "metadata": {},
   "source": [
    "### I can call it \"smothness\" in pseudo-inverse"
   ]
  },
  {
   "cell_type": "markdown",
   "id": "f54b2e71",
   "metadata": {},
   "source": [
    "### Let's take a look to the diagonalization of a Matrix with eigenvalues and eigenvectors"
   ]
  },
  {
   "cell_type": "markdown",
   "id": "4701f121",
   "metadata": {},
   "source": [
    "**V** for eigenvalues\n",
    "\n",
    "**X** fot eigenvectors"
   ]
  },
  {
   "cell_type": "code",
   "execution_count": 136,
   "id": "8b660e6f",
   "metadata": {
    "scrolled": false
   },
   "outputs": [
    {
     "data": {
      "text/plain": [
       "(array([ 5.11140380e+02+0.00000000e+00j, -1.61403801e+01+0.00000000e+00j,\n",
       "        -3.34898252e-15+2.04180058e-14j, -3.34898252e-15-2.04180058e-14j,\n",
       "         5.01205984e-15+0.00000000e+00j, -3.11859696e-15+0.00000000e+00j,\n",
       "         1.00295453e-15+0.00000000e+00j, -1.32593465e-16+4.06819179e-16j,\n",
       "        -1.32593465e-16-4.06819179e-16j, -1.22999941e-15+0.00000000e+00j]),\n",
       " array([[-0.03297597+0.00000000e+00j,  0.51239531+0.00000000e+00j,\n",
       "         -0.03223662-1.41352930e-01j, -0.03223662+1.41352930e-01j,\n",
       "         -0.02884926+0.00000000e+00j, -0.21086322+0.00000000e+00j,\n",
       "         -0.21188732+0.00000000e+00j, -0.09046252-3.14822529e-02j,\n",
       "         -0.09046252+3.14822529e-02j, -0.06501142+0.00000000e+00j],\n",
       "        [-0.08691083+0.00000000e+00j,  0.40247234+0.00000000e+00j,\n",
       "         -0.0454148 +2.19899537e-01j, -0.0454148 -2.19899537e-01j,\n",
       "          0.03153148+0.00000000e+00j, -0.02216253+0.00000000e+00j,\n",
       "         -0.06435677+0.00000000e+00j, -0.01641602-1.49890826e-02j,\n",
       "         -0.01641602+1.49890826e-02j, -0.02837745+0.00000000e+00j],\n",
       "        [-0.14084568+0.00000000e+00j,  0.29254938+0.00000000e+00j,\n",
       "         -0.19156611-8.21761881e-02j, -0.19156611+8.21761881e-02j,\n",
       "         -0.06383809+0.00000000e+00j,  0.35165479+0.00000000e+00j,\n",
       "          0.38794461+0.00000000e+00j,  0.13132011+6.70282747e-02j,\n",
       "          0.13132011-6.70282747e-02j,  0.15720547+0.00000000e+00j],\n",
       "        [-0.19478053+0.00000000e+00j,  0.18262642+0.00000000e+00j,\n",
       "          0.2043635 +3.90442995e-02j,  0.2043635 -3.90442995e-02j,\n",
       "         -0.04962947+0.00000000e+00j, -0.2944377 +0.00000000e+00j,\n",
       "         -0.12602804+0.00000000e+00j,  0.05148851+2.97513669e-02j,\n",
       "          0.05148851-2.97513669e-02j, -0.10304386+0.00000000e+00j],\n",
       "        [-0.24871538+0.00000000e+00j,  0.07270346+0.00000000e+00j,\n",
       "          0.02895618-8.90313220e-03j,  0.02895618+8.90313220e-03j,\n",
       "         -0.08207078+0.00000000e+00j, -0.17316029+0.00000000e+00j,\n",
       "          0.29552831+0.00000000e+00j,  0.11430616-1.90640009e-01j,\n",
       "          0.11430616+1.90640009e-01j, -0.43445666+0.00000000e+00j],\n",
       "        [-0.30265024+0.00000000e+00j, -0.0372195 +0.00000000e+00j,\n",
       "          0.11017393+1.80354436e-02j,  0.11017393-1.80354436e-02j,\n",
       "         -0.02555411+0.00000000e+00j,  0.40843379+0.00000000e+00j,\n",
       "         -0.53790366+0.00000000e+00j, -0.62467286+1.18201264e-01j,\n",
       "         -0.62467286-1.18201264e-01j,  0.78792237+0.00000000e+00j],\n",
       "        [-0.35658509+0.00000000e+00j, -0.14714246+0.00000000e+00j,\n",
       "         -0.3393776 -8.46679617e-02j, -0.3393776 +8.46679617e-02j,\n",
       "          0.0203347 +0.00000000e+00j,  0.52830576+0.00000000e+00j,\n",
       "          0.3303285 +0.00000000e+00j,  0.66343478+0.00000000e+00j,\n",
       "          0.66343478-0.00000000e+00j, -0.03328447+0.00000000e+00j],\n",
       "        [-0.41051994+0.00000000e+00j, -0.25706542+0.00000000e+00j,\n",
       "          0.35492784+4.02044381e-02j,  0.35492784-4.02044381e-02j,\n",
       "          0.29033566+0.00000000e+00j, -0.27328267+0.00000000e+00j,\n",
       "         -0.12834225+0.00000000e+00j, -0.10251836+1.68684462e-01j,\n",
       "         -0.10251836-1.68684462e-01j, -0.34808538+0.00000000e+00j],\n",
       "        [-0.46445479+0.00000000e+00j, -0.36698838+0.00000000e+00j,\n",
       "          0.49103029-8.35055040e-05j,  0.49103029+8.35055040e-05j,\n",
       "          0.62292979+0.00000000e+00j, -0.42617379+0.00000000e+00j,\n",
       "          0.40206817+0.00000000e+00j, -0.14078796-1.01427126e-01j,\n",
       "         -0.14078796+1.01427126e-01j,  0.14656523+0.00000000e+00j],\n",
       "        [-0.51838965+0.00000000e+00j, -0.47691134+0.00000000e+00j,\n",
       "         -0.58085661+0.00000000e+00j, -0.58085661-0.00000000e+00j,\n",
       "         -0.71518994+0.00000000e+00j,  0.11168585+0.00000000e+00j,\n",
       "         -0.34735153+0.00000000e+00j,  0.01430816-4.51268982e-02j,\n",
       "          0.01430816+4.51268982e-02j, -0.07943383+0.00000000e+00j]]))"
      ]
     },
     "execution_count": 136,
     "metadata": {},
     "output_type": "execute_result"
    }
   ],
   "source": [
    "V, X = np.linalg.eig(A_10)\n",
    "V, X"
   ]
  },
  {
   "cell_type": "markdown",
   "id": "8cdf33dd",
   "metadata": {},
   "source": [
    "Eigenvalues are complex, because of circulant matric\n",
    "And you can see the **det=0**"
   ]
  },
  {
   "cell_type": "markdown",
   "id": "a6c97afb",
   "metadata": {},
   "source": [
    "**X_INV** For eigenvectors inverse Matrix"
   ]
  },
  {
   "cell_type": "code",
   "execution_count": 165,
   "id": "9888880d",
   "metadata": {},
   "outputs": [
    {
     "data": {
      "text/plain": [
       "array([[-0.32067501+6.82123756e-17j, -0.32755437+1.13001276e-16j,\n",
       "        -0.33443374-7.68110490e-17j, -0.34131311+1.36838661e-16j,\n",
       "        -0.34819247-7.90472247e-17j, -0.35507184-5.06341897e-17j,\n",
       "        -0.3619512 +2.54563840e-17j, -0.36883057-1.13490028e-17j,\n",
       "        -0.37570993-6.69273968e-18j, -0.3825893 +5.02951957e-17j],\n",
       "       [ 0.65355785-3.21310555e-17j,  0.54666322-3.03196965e-17j,\n",
       "         0.43976858+5.01344641e-17j,  0.33287395-9.74780141e-17j,\n",
       "         0.22597932+2.21813376e-17j,  0.11908468+2.04997942e-17j,\n",
       "         0.01219005-1.83374777e-17j, -0.09470458+1.63700511e-17j,\n",
       "        -0.20159922+0.00000000e+00j, -0.30849385-2.55702054e-17j],\n",
       "       [-0.71296622+1.08632138e+00j, -0.71003321-1.43822134e+00j,\n",
       "        -0.24014886+1.38259002e-01j,  1.25635523-1.87421880e-01j,\n",
       "         0.86363119+1.44394107e-01j,  0.56184075+1.09252305e-01j,\n",
       "         0.12061511+1.88683551e-01j, -0.14171191+9.41822715e-02j,\n",
       "        -0.40406821-2.77984109e-02j, -0.59351389-1.07650989e-01j],\n",
       "       [-0.71296622-1.08632138e+00j, -0.71003321+1.43822134e+00j,\n",
       "        -0.24014886-1.38259002e-01j,  1.25635523+1.87421880e-01j,\n",
       "         0.86363119-1.44394107e-01j,  0.56184075-1.09252305e-01j,\n",
       "         0.12061511-1.88683551e-01j, -0.14171191-9.41822715e-02j,\n",
       "        -0.40406821+2.77984109e-02j, -0.59351389+1.07650989e-01j],\n",
       "       [ 1.30631941-1.26817936e-16j,  1.06853037-3.84138406e-18j,\n",
       "        -0.81763857+2.62731823e-16j, -2.26414274+3.31984718e-16j,\n",
       "        -0.80190452-1.90214098e-16j, -0.25135156-1.69907796e-16j,\n",
       "         0.68649337-1.62095455e-17j,  0.65827504+2.18259713e-17j,\n",
       "         0.64210739-6.82828435e-17j, -0.2266882 -4.96383358e-18j],\n",
       "       [-0.56898291-1.36825515e-16j, -0.2116754 +1.56651256e-16j,\n",
       "        -0.43121008+1.70214479e-16j, -0.78775964-5.60674949e-17j,\n",
       "         1.62724867-2.18026408e-16j,  1.13415584-7.46381263e-17j,\n",
       "         0.71156927-9.28822423e-17j,  0.38891934+1.41696441e-16j,\n",
       "        -1.02613543-2.72220782e-17j, -0.83612966+3.46597768e-17j],\n",
       "       [-0.81178634+4.06774193e-17j, -0.12752248+7.66093046e-19j,\n",
       "         1.76794196-2.30908998e-16j, -0.05707224+4.45822152e-17j,\n",
       "         0.13270419+3.28261069e-16j, -0.49006927+1.96276482e-16j,\n",
       "        -0.87717163+2.56596987e-17j, -0.08483511-8.34873637e-17j,\n",
       "         0.39103788+6.87898455e-18j,  0.15677304+1.67038673e-17j],\n",
       "       [-0.11244969+2.60668255e-01j, -0.1087911 +9.28363662e-02j,\n",
       "        -0.4314561 -1.48026461e+00j,  1.00695651-3.91830828e-01j,\n",
       "        -0.34499853+1.46813955e+00j, -0.13384805+6.04597338e-01j,\n",
       "         0.62101917+5.64181620e-01j, -0.3686365 -9.94015215e-01j,\n",
       "        -0.00456995+1.60530534e-01j, -0.12322575-2.84843002e-01j],\n",
       "       [-0.11244969-2.60668255e-01j, -0.1087911 -9.28363662e-02j,\n",
       "        -0.4314561 +1.48026461e+00j,  1.00695651+3.91830828e-01j,\n",
       "        -0.34499853-1.46813955e+00j, -0.13384805-6.04597338e-01j,\n",
       "         0.62101917-5.64181620e-01j, -0.3686365 +9.94015215e-01j,\n",
       "        -0.00456995-1.60530534e-01j, -0.12322575+2.84843002e-01j],\n",
       "       [-0.1601645 +5.15689177e-17j, -0.05459487-5.83984299e-17j,\n",
       "         0.24150601+4.17913669e-17j,  1.29973769-9.53516005e-18j,\n",
       "        -1.24345287-6.68582815e-17j,  0.02481879-1.94258801e-17j,\n",
       "         0.04500361+1.08580103e-17j, -1.22312785+3.76306715e-17j,\n",
       "         0.81850537+1.72536892e-17j,  0.25176863+1.24110945e-17j]])"
      ]
     },
     "execution_count": 165,
     "metadata": {},
     "output_type": "execute_result"
    }
   ],
   "source": [
    "X_INV = np.linalg.inv(X)\n",
    "X_INV"
   ]
  },
  {
   "cell_type": "markdown",
   "id": "c3b2df6e",
   "metadata": {},
   "source": [
    "### Restore matrix from eigen"
   ]
  },
  {
   "cell_type": "code",
   "execution_count": 172,
   "id": "c8b0acef",
   "metadata": {},
   "outputs": [
    {
     "data": {
      "text/plain": [
       "array([[ 0,  1,  2,  3,  4,  5,  6,  7,  8,  9],\n",
       "       [10, 11, 12, 13, 14, 15, 16, 17, 18, 19],\n",
       "       [20, 21, 22, 23, 24, 25, 26, 27, 28, 29],\n",
       "       [30, 31, 32, 33, 34, 35, 36, 37, 38, 39],\n",
       "       [40, 41, 42, 43, 44, 45, 46, 47, 48, 49],\n",
       "       [50, 51, 52, 53, 54, 55, 56, 57, 58, 59],\n",
       "       [60, 61, 62, 63, 64, 65, 66, 67, 68, 69],\n",
       "       [70, 71, 72, 73, 74, 75, 76, 77, 78, 79],\n",
       "       [80, 81, 82, 83, 84, 85, 86, 87, 88, 89],\n",
       "       [90, 91, 92, 93, 94, 95, 96, 97, 98, 99]])"
      ]
     },
     "execution_count": 172,
     "metadata": {},
     "output_type": "execute_result"
    }
   ],
   "source": [
    "np.array(\n",
    "    np.round(np.real(X @ np.diag(V) @ X_INV), decimals=0),\n",
    "dtype=int)\n",
    "\n",
    "# X @ np.diag(V) @ X_INV  * 100000"
   ]
  },
  {
   "cell_type": "markdown",
   "id": "ba8ecb69",
   "metadata": {},
   "source": [
    "## First 2 eigenvectors can bring most of the information"
   ]
  },
  {
   "cell_type": "code",
   "execution_count": 184,
   "id": "cb6c4f9f",
   "metadata": {},
   "outputs": [
    {
     "data": {
      "text/plain": [
       "array([511.14038006, -16.14038006,  -0.        ,  -0.        ,\n",
       "         0.        ,  -0.        ,   0.        ,  -0.        ,\n",
       "        -0.        ,  -0.        ])"
      ]
     },
     "execution_count": 184,
     "metadata": {},
     "output_type": "execute_result"
    }
   ],
   "source": [
    "np.round(np.real(V), decimals=10)"
   ]
  },
  {
   "cell_type": "code",
   "execution_count": 204,
   "id": "0d4c7631",
   "metadata": {},
   "outputs": [
    {
     "data": {
      "text/plain": [
       "array([[1, 0, 0, 0, 0, 0, 0, 0, 0, 0],\n",
       "       [0, 1, 0, 0, 0, 0, 0, 0, 0, 0],\n",
       "       [0, 0, 1, 0, 0, 0, 0, 0, 0, 0],\n",
       "       [0, 0, 0, 1, 0, 0, 0, 0, 0, 0],\n",
       "       [0, 0, 0, 0, 1, 0, 0, 0, 0, 0],\n",
       "       [0, 0, 0, 0, 0, 1, 0, 0, 0, 0],\n",
       "       [0, 0, 0, 0, 0, 0, 1, 0, 0, 0],\n",
       "       [0, 0, 0, 0, 0, 0, 0, 1, 0, 0],\n",
       "       [0, 0, 0, 0, 0, 0, 0, 0, 1, 0],\n",
       "       [0, 0, 0, 0, 0, 0, 0, 0, 0, 1]])"
      ]
     },
     "execution_count": 204,
     "metadata": {},
     "output_type": "execute_result"
    }
   ],
   "source": [
    "np.array(\n",
    "    np.round(np.real(X @ X_INV), decimals=0),\n",
    "dtype=int)"
   ]
  },
  {
   "cell_type": "code",
   "execution_count": 203,
   "id": "b7d09bc9",
   "metadata": {},
   "outputs": [
    {
     "data": {
      "text/plain": [
       "array([[ 0,  1,  2,  3,  4,  5,  6,  7,  8,  9],\n",
       "       [10, 11, 12, 13, 14, 15, 16, 17, 18, 19],\n",
       "       [20, 21, 22, 23, 24, 25, 26, 27, 28, 29],\n",
       "       [30, 31, 32, 33, 34, 35, 36, 37, 38, 39],\n",
       "       [40, 41, 42, 43, 44, 45, 46, 47, 48, 49],\n",
       "       [50, 51, 52, 53, 54, 55, 56, 57, 58, 59],\n",
       "       [60, 61, 62, 63, 64, 65, 66, 67, 68, 69],\n",
       "       [70, 71, 72, 73, 74, 75, 76, 77, 78, 79],\n",
       "       [80, 81, 82, 83, 84, 85, 86, 87, 88, 89],\n",
       "       [90, 91, 92, 93, 94, 95, 96, 97, 98, 99]])"
      ]
     },
     "execution_count": 203,
     "metadata": {},
     "output_type": "execute_result"
    }
   ],
   "source": [
    "np.array(\n",
    "    np.round(np.real(X @ np.diag(np.round(np.real(V), decimals=10)) @ X_INV), decimals=0),\n",
    "dtype=int)"
   ]
  },
  {
   "cell_type": "code",
   "execution_count": 179,
   "id": "ccafb8f6",
   "metadata": {},
   "outputs": [
    {
     "data": {
      "text/plain": [
       "array([[ 0,  1,  2,  3,  4,  5,  6,  7,  8,  9],\n",
       "       [10, 11, 12, 13, 14, 15, 16, 17, 18, 19],\n",
       "       [20, 21, 22, 23, 24, 25, 26, 27, 28, 29],\n",
       "       [30, 31, 32, 33, 34, 35, 36, 37, 38, 39],\n",
       "       [40, 41, 42, 43, 44, 45, 46, 47, 48, 49],\n",
       "       [50, 51, 52, 53, 54, 55, 56, 57, 58, 59],\n",
       "       [60, 61, 62, 63, 64, 65, 66, 67, 68, 69],\n",
       "       [70, 71, 72, 73, 74, 75, 76, 77, 78, 79],\n",
       "       [80, 81, 82, 83, 84, 85, 86, 87, 88, 89],\n",
       "       [90, 91, 92, 93, 94, 95, 96, 97, 98, 99]])"
      ]
     },
     "execution_count": 179,
     "metadata": {},
     "output_type": "execute_result"
    }
   ],
   "source": [
    "np.array(\n",
    "    np.round(np.real(X @ np.diag(np.round(V, decimals=0)) @ X_INV), decimals=0),\n",
    "dtype=int)"
   ]
  },
  {
   "cell_type": "markdown",
   "id": "7eeaaa88",
   "metadata": {},
   "source": [
    "### the second column"
   ]
  },
  {
   "cell_type": "code",
   "execution_count": 15,
   "id": "150451cf",
   "metadata": {},
   "outputs": [
    {
     "data": {
      "text/plain": [
       "array([ 1, 11, 21, 31, 41, 51])"
      ]
     },
     "execution_count": 15,
     "metadata": {},
     "output_type": "execute_result"
    }
   ],
   "source": [
    "A[:, 1]"
   ]
  },
  {
   "cell_type": "markdown",
   "id": "7e40e3f0",
   "metadata": {},
   "source": [
    "### the second row"
   ]
  },
  {
   "cell_type": "code",
   "execution_count": 16,
   "id": "677e60b4",
   "metadata": {},
   "outputs": [
    {
     "data": {
      "text/plain": [
       "array([10, 11, 12, 13, 14, 15])"
      ]
     },
     "execution_count": 16,
     "metadata": {},
     "output_type": "execute_result"
    }
   ],
   "source": [
    "A[1, :]"
   ]
  },
  {
   "cell_type": "markdown",
   "id": "b9d659c9",
   "metadata": {},
   "source": [
    "### In clockwise order inner matrices 3x3"
   ]
  },
  {
   "cell_type": "code",
   "execution_count": 17,
   "id": "8d9e1387",
   "metadata": {
    "scrolled": true
   },
   "outputs": [
    {
     "data": {
      "text/plain": [
       "array([[ 0,  1,  2],\n",
       "       [10, 11, 12],\n",
       "       [20, 21, 22]])"
      ]
     },
     "execution_count": 17,
     "metadata": {},
     "output_type": "execute_result"
    }
   ],
   "source": [
    "A[:3, :3]"
   ]
  },
  {
   "cell_type": "code",
   "execution_count": 18,
   "id": "e3f613b5",
   "metadata": {},
   "outputs": [
    {
     "data": {
      "text/plain": [
       "array([[ 3,  4,  5],\n",
       "       [13, 14, 15],\n",
       "       [23, 24, 25]])"
      ]
     },
     "execution_count": 18,
     "metadata": {},
     "output_type": "execute_result"
    }
   ],
   "source": [
    "A[:3, 3:]"
   ]
  },
  {
   "cell_type": "code",
   "execution_count": 19,
   "id": "b5bbb9e3",
   "metadata": {},
   "outputs": [
    {
     "data": {
      "text/plain": [
       "array([[33, 34, 35],\n",
       "       [43, 44, 45],\n",
       "       [53, 54, 55]])"
      ]
     },
     "execution_count": 19,
     "metadata": {},
     "output_type": "execute_result"
    }
   ],
   "source": [
    "A[3:, 3:]"
   ]
  },
  {
   "cell_type": "code",
   "execution_count": 20,
   "id": "dd6c3c85",
   "metadata": {},
   "outputs": [
    {
     "data": {
      "text/plain": [
       "array([[30, 31, 32],\n",
       "       [40, 41, 42],\n",
       "       [50, 51, 52]])"
      ]
     },
     "execution_count": 20,
     "metadata": {},
     "output_type": "execute_result"
    }
   ],
   "source": [
    "A[3:, :3]"
   ]
  },
  {
   "cell_type": "markdown",
   "id": "5bc72bc6",
   "metadata": {},
   "source": [
    "### the same"
   ]
  },
  {
   "cell_type": "code",
   "execution_count": 21,
   "id": "3a0f2456",
   "metadata": {},
   "outputs": [
    {
     "data": {
      "text/plain": [
       "array([[30, 31, 32],\n",
       "       [40, 41, 42],\n",
       "       [50, 51, 52]])"
      ]
     },
     "execution_count": 21,
     "metadata": {},
     "output_type": "execute_result"
    }
   ],
   "source": [
    "A[3:6, 0:3]"
   ]
  },
  {
   "cell_type": "code",
   "execution_count": 22,
   "id": "ad46ac79",
   "metadata": {},
   "outputs": [
    {
     "data": {
      "text/plain": [
       "array([[ 0,  1,  2,  3,  4,  5],\n",
       "       [10, 11, 12, 13, 14, 15],\n",
       "       [20, 21, 22, 23, 24, 25],\n",
       "       [30, 31, 32, 33, 34, 35],\n",
       "       [40, 41, 42, 43, 44, 45],\n",
       "       [50, 51, 52, 53, 54, 55]])"
      ]
     },
     "execution_count": 22,
     "metadata": {},
     "output_type": "execute_result"
    }
   ],
   "source": [
    "A"
   ]
  },
  {
   "cell_type": "markdown",
   "id": "243768b8",
   "metadata": {},
   "source": [
    "### every second element starting from 0, 0"
   ]
  },
  {
   "cell_type": "code",
   "execution_count": 23,
   "id": "182a9635",
   "metadata": {},
   "outputs": [
    {
     "data": {
      "text/plain": [
       "array([[ 0,  2,  4],\n",
       "       [20, 22, 24],\n",
       "       [40, 42, 44]])"
      ]
     },
     "execution_count": 23,
     "metadata": {},
     "output_type": "execute_result"
    }
   ],
   "source": [
    "A[::2, ::2]"
   ]
  },
  {
   "cell_type": "markdown",
   "id": "05084248",
   "metadata": {},
   "source": [
    "### example of some interval"
   ]
  },
  {
   "cell_type": "code",
   "execution_count": 24,
   "id": "85009d02",
   "metadata": {},
   "outputs": [
    {
     "data": {
      "text/plain": [
       "array([[13, 15],\n",
       "       [33, 35],\n",
       "       [53, 55]])"
      ]
     },
     "execution_count": 24,
     "metadata": {},
     "output_type": "execute_result"
    }
   ],
   "source": [
    "A[1:9:2, 3:9:2]"
   ]
  },
  {
   "cell_type": "markdown",
   "id": "8742f16a",
   "metadata": {},
   "source": [
    "# Views"
   ]
  },
  {
   "cell_type": "code",
   "execution_count": 25,
   "id": "6a7bea5e",
   "metadata": {},
   "outputs": [
    {
     "data": {
      "text/plain": [
       "array([[ 0,  1,  2,  3,  4,  5],\n",
       "       [10, 11, 12, 13, 14, 15],\n",
       "       [20, 21, 22, 23, 24, 25],\n",
       "       [30, 31, 32, 33, 34, 35],\n",
       "       [40, 41, 42, 43, 44, 45],\n",
       "       [50, 51, 52, 53, 54, 55]])"
      ]
     },
     "execution_count": 25,
     "metadata": {},
     "output_type": "execute_result"
    }
   ],
   "source": [
    "A"
   ]
  },
  {
   "cell_type": "code",
   "execution_count": 26,
   "id": "c6da4192",
   "metadata": {},
   "outputs": [
    {
     "data": {
      "text/plain": [
       "array([[11, 12, 13, 14],\n",
       "       [21, 22, 23, 24],\n",
       "       [31, 32, 33, 34],\n",
       "       [41, 42, 43, 44]])"
      ]
     },
     "execution_count": 26,
     "metadata": {},
     "output_type": "execute_result"
    }
   ],
   "source": [
    "B = A[1:5, 1:5]\n",
    "B"
   ]
  },
  {
   "cell_type": "code",
   "execution_count": 27,
   "id": "e140a9a5",
   "metadata": {},
   "outputs": [
    {
     "data": {
      "text/plain": [
       "array([[11, 12, 13, 14],\n",
       "       [21, 22, 23, 24],\n",
       "       [31, 32, 33, 34],\n",
       "       [41, 42, 43, 44]])"
      ]
     },
     "execution_count": 27,
     "metadata": {},
     "output_type": "execute_result"
    }
   ],
   "source": [
    "B[:, :]"
   ]
  },
  {
   "cell_type": "code",
   "execution_count": 28,
   "id": "2a1620ee",
   "metadata": {},
   "outputs": [
    {
     "data": {
      "text/plain": [
       "array([[ 0,  1,  2,  3,  4,  5],\n",
       "       [10,  0,  0,  0,  0, 15],\n",
       "       [20,  0,  0,  0,  0, 25],\n",
       "       [30,  0,  0,  0,  0, 35],\n",
       "       [40,  0,  0,  0,  0, 45],\n",
       "       [50, 51, 52, 53, 54, 55]])"
      ]
     },
     "execution_count": 28,
     "metadata": {},
     "output_type": "execute_result"
    }
   ],
   "source": [
    "B[:, :] = 0\n",
    "A"
   ]
  },
  {
   "cell_type": "markdown",
   "id": "2579091c",
   "metadata": {},
   "source": [
    "> Here, assigning new values to the elements in an array B, which is created from\n",
    "the array A, also modifies the values in A (since both arrays refer to the same data\n",
    "in the memory)"
   ]
  },
  {
   "cell_type": "markdown",
   "id": "94932b05",
   "metadata": {},
   "source": [
    "### Data copy"
   ]
  },
  {
   "cell_type": "code",
   "execution_count": 29,
   "id": "77fdedf0",
   "metadata": {},
   "outputs": [
    {
     "data": {
      "text/plain": [
       "array([[0, 0],\n",
       "       [0, 0]])"
      ]
     },
     "execution_count": 29,
     "metadata": {},
     "output_type": "execute_result"
    }
   ],
   "source": [
    "C = B[1:3, 1:3].copy()\n",
    "C"
   ]
  },
  {
   "cell_type": "code",
   "execution_count": 30,
   "id": "3e65d306",
   "metadata": {},
   "outputs": [],
   "source": [
    "C[:, :] = 1"
   ]
  },
  {
   "cell_type": "code",
   "execution_count": 31,
   "id": "367e01e2",
   "metadata": {},
   "outputs": [
    {
     "data": {
      "text/plain": [
       "array([[0, 0, 0, 0],\n",
       "       [0, 0, 0, 0],\n",
       "       [0, 0, 0, 0],\n",
       "       [0, 0, 0, 0]])"
      ]
     },
     "execution_count": 31,
     "metadata": {},
     "output_type": "execute_result"
    }
   ],
   "source": [
    "B"
   ]
  },
  {
   "cell_type": "code",
   "execution_count": 32,
   "id": "5851893d",
   "metadata": {},
   "outputs": [
    {
     "data": {
      "text/plain": [
       "array([[1, 1],\n",
       "       [1, 1]])"
      ]
     },
     "execution_count": 32,
     "metadata": {},
     "output_type": "execute_result"
    }
   ],
   "source": [
    "C"
   ]
  },
  {
   "cell_type": "markdown",
   "id": "f9280aff",
   "metadata": {},
   "source": [
    "# Fancy Indexing and Boolean-Valued Indexing"
   ]
  },
  {
   "cell_type": "code",
   "execution_count": 33,
   "id": "3606d8ea",
   "metadata": {},
   "outputs": [
    {
     "data": {
      "text/plain": [
       "array([0. , 0.1, 0.2, 0.3, 0.4, 0.5, 0.6, 0.7, 0.8, 0.9, 1. ])"
      ]
     },
     "execution_count": 33,
     "metadata": {},
     "output_type": "execute_result"
    }
   ],
   "source": [
    "A = np.linspace(0, 1, 11)\n",
    "A"
   ]
  },
  {
   "cell_type": "code",
   "execution_count": 34,
   "id": "97d9ec80",
   "metadata": {},
   "outputs": [
    {
     "data": {
      "text/plain": [
       "array([0. , 0.2, 0.4])"
      ]
     },
     "execution_count": 34,
     "metadata": {},
     "output_type": "execute_result"
    }
   ],
   "source": [
    "A[np.array([0, 2, 4])]"
   ]
  },
  {
   "cell_type": "code",
   "execution_count": 35,
   "id": "dd03dc00",
   "metadata": {},
   "outputs": [
    {
     "data": {
      "text/plain": [
       "array([0. , 0.2, 0.4])"
      ]
     },
     "execution_count": 35,
     "metadata": {},
     "output_type": "execute_result"
    }
   ],
   "source": [
    "A[[0, 2, 4]]"
   ]
  },
  {
   "cell_type": "markdown",
   "id": "4c41de91",
   "metadata": {},
   "source": [
    "> This method of indexing can be used along each axis (dimension) of a\n",
    "multidimensional NumPy array. It requires that the elements in the array or list used for\n",
    "indexing are integers."
   ]
  },
  {
   "cell_type": "markdown",
   "id": "e20b15d9",
   "metadata": {},
   "source": [
    "## Boolean-valued array"
   ]
  },
  {
   "cell_type": "code",
   "execution_count": 36,
   "id": "ead5cc85",
   "metadata": {},
   "outputs": [
    {
     "data": {
      "text/plain": [
       "array([False, False, False, False, False, False,  True,  True,  True,\n",
       "        True,  True])"
      ]
     },
     "execution_count": 36,
     "metadata": {},
     "output_type": "execute_result"
    }
   ],
   "source": [
    "A > 0.5"
   ]
  },
  {
   "cell_type": "code",
   "execution_count": 37,
   "id": "7acd6fa9",
   "metadata": {},
   "outputs": [
    {
     "data": {
      "text/plain": [
       "array([0.6, 0.7, 0.8, 0.9, 1. ])"
      ]
     },
     "execution_count": 37,
     "metadata": {},
     "output_type": "execute_result"
    }
   ],
   "source": [
    "A[A > 0.5]"
   ]
  },
  {
   "cell_type": "code",
   "execution_count": 38,
   "id": "36d1450b",
   "metadata": {},
   "outputs": [
    {
     "data": {
      "text/plain": [
       "array([0, 1, 2, 3, 4, 5, 6, 7, 8, 9])"
      ]
     },
     "execution_count": 38,
     "metadata": {},
     "output_type": "execute_result"
    }
   ],
   "source": [
    "A = np.arange(10)\n",
    "A"
   ]
  },
  {
   "cell_type": "markdown",
   "id": "9c9f5207",
   "metadata": {},
   "source": [
    "### this does not affect A"
   ]
  },
  {
   "cell_type": "code",
   "execution_count": 39,
   "id": "697731b2",
   "metadata": {},
   "outputs": [
    {
     "data": {
      "text/plain": [
       "array([2, 4, 6])"
      ]
     },
     "execution_count": 39,
     "metadata": {},
     "output_type": "execute_result"
    }
   ],
   "source": [
    "indices = [2, 4, 6]\n",
    "B = A[indices]\n",
    "B"
   ]
  },
  {
   "cell_type": "code",
   "execution_count": 40,
   "id": "345dcc6d",
   "metadata": {},
   "outputs": [
    {
     "data": {
      "text/plain": [
       "array([0, 1, 2, 3, 4, 5, 6, 7, 8, 9])"
      ]
     },
     "execution_count": 40,
     "metadata": {},
     "output_type": "execute_result"
    }
   ],
   "source": [
    "B[0] = -1\n",
    "A"
   ]
  },
  {
   "cell_type": "markdown",
   "id": "0ae60981",
   "metadata": {},
   "source": [
    "### this alters A"
   ]
  },
  {
   "cell_type": "code",
   "execution_count": 41,
   "id": "a1da6ea6",
   "metadata": {},
   "outputs": [
    {
     "data": {
      "text/plain": [
       "array([ 0,  1, -1,  3, -1,  5, -1,  7,  8,  9])"
      ]
     },
     "execution_count": 41,
     "metadata": {},
     "output_type": "execute_result"
    }
   ],
   "source": [
    "A[indices] = -1\n",
    "A"
   ]
  },
  {
   "cell_type": "markdown",
   "id": "fb41d40c",
   "metadata": {},
   "source": [
    "### and likewise for Boolean-valued indexing:"
   ]
  },
  {
   "cell_type": "code",
   "execution_count": 42,
   "id": "708cb7ea",
   "metadata": {},
   "outputs": [
    {
     "data": {
      "text/plain": [
       "array([0, 1, 2, 3, 4, 5, 6, 7, 8, 9])"
      ]
     },
     "execution_count": 42,
     "metadata": {},
     "output_type": "execute_result"
    }
   ],
   "source": [
    "A = np.arange(10)\n",
    "A"
   ]
  },
  {
   "cell_type": "markdown",
   "id": "b2141327",
   "metadata": {},
   "source": [
    "### this does not affect A"
   ]
  },
  {
   "cell_type": "code",
   "execution_count": 43,
   "id": "5394d9d4",
   "metadata": {},
   "outputs": [
    {
     "data": {
      "text/plain": [
       "array([0, 1, 2, 3, 4, 5, 6, 7, 8, 9])"
      ]
     },
     "execution_count": 43,
     "metadata": {},
     "output_type": "execute_result"
    }
   ],
   "source": [
    "B = A[A > 5]\n",
    "\n",
    "B[0] = -1\n",
    "\n",
    "A"
   ]
  },
  {
   "cell_type": "markdown",
   "id": "052f298a",
   "metadata": {},
   "source": [
    "### this alters A"
   ]
  },
  {
   "cell_type": "code",
   "execution_count": 44,
   "id": "850157dc",
   "metadata": {},
   "outputs": [
    {
     "data": {
      "text/plain": [
       "array([ 0,  1,  2,  3,  4,  5, -1, -1, -1, -1])"
      ]
     },
     "execution_count": 44,
     "metadata": {},
     "output_type": "execute_result"
    }
   ],
   "source": [
    "A[A > 5] = -1\n",
    "A"
   ]
  },
  {
   "cell_type": "markdown",
   "id": "984c969c",
   "metadata": {},
   "source": [
    "### Visual summary of indexing methods for NumPy arrays. These\n",
    "diagrams represent NumPy arrays of shape (4, 4), and the highlighted elements\n",
    "are those that are selected using the indexing expression shown above the block\n",
    "representations of the arrays."
   ]
  },
  {
   "attachments": {
    "image.png": {
     "image/png": "[encoded data removed]"
    }
   },
   "cell_type": "markdown",
   "id": "c6de11d4",
   "metadata": {},
   "source": [
    "![image.png](attachment:image.png)"
   ]
  },
  {
   "cell_type": "code",
   "execution_count": null,
   "id": "105ab64c",
   "metadata": {},
   "outputs": [],
   "source": []
  }
 ],
 "metadata": {
  "kernelspec": {
   "display_name": "Python 3",
   "language": "python",
   "name": "python3"
  },
  "language_info": {
   "codemirror_mode": {
    "name": "ipython",
    "version": 3
   },
   "file_extension": ".py",
   "mimetype": "text/x-python",
   "name": "python",
   "nbconvert_exporter": "python",
   "pygments_lexer": "ipython3",
   "version": "3.8.8"
  }
 },
 "nbformat": 4,
 "nbformat_minor": 5
}
