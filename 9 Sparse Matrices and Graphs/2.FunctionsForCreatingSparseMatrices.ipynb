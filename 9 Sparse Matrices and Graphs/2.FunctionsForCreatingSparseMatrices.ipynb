{
 "cells": [
  {
   "cell_type": "markdown",
   "id": "78c10ab7-1c24-484d-beb4-236b8af13f71",
   "metadata": {},
   "source": [
    "# Functions for Creating Sparse Matrices"
   ]
  },
  {
   "cell_type": "code",
   "execution_count": 1,
   "id": "875b0449-f78f-4df4-8fe0-aae4f3d6e7b7",
   "metadata": {},
   "outputs": [],
   "source": [
    "import scipy.sparse as sp\n",
    "import scipy.sparse.linalg\n",
    "\n",
    "import numpy as np\n",
    "import matplotlib.pyplot as plt"
   ]
  },
  {
   "cell_type": "markdown",
   "id": "5b3014fd-75b1-484b-9ed5-cf3348d15cea",
   "metadata": {},
   "source": [
    "The `sp.sparse` module provides a variety of functions for\n",
    "generating such matrices, for example, `sp.eye` for creating diagonal sparse matrices with\n",
    "ones on the diagonal (optionally offset from the main diagonal), `sp.diags` for creating\n",
    "diagonal matrices with a specified pattern along the diagonal, `sp.kron` for calculating\n",
    "the Kronecker (tensor) product of two sparse matrices, and `bmat`, `vstack`, and `hstack`,\n",
    "for building sparse matrices from sparse block matrices, and by stacking sparse matrices\n",
    "vertically and horizontally, respectively.\n",
    "\n",
    "For example, in many applications sparse matrices have a diagonal form. To create a\n",
    "sparse matrix of size 10 × 10 with a main diagonal and an upper and lower diagonal, we\n",
    "can use three calls to `sp.eye`, using the `k` argument to specify the offset from the main\n",
    "diagonal"
   ]
  },
  {
   "cell_type": "code",
   "execution_count": 8,
   "id": "9225a6e2-5526-4c23-af5e-0249ce4f4a78",
   "metadata": {},
   "outputs": [
    {
     "data": {
      "text/plain": [
       "<10x10 sparse matrix of type '<class 'numpy.float64'>'\n",
       "\twith 28 stored elements in Compressed Sparse Row format>"
      ]
     },
     "execution_count": 8,
     "metadata": {},
     "output_type": "execute_result"
    }
   ],
   "source": [
    "N = 10\n",
    "\n",
    "# Matrix K for diff\n",
    "K = sp.eye(N, k=1) - 2 * sp.eye(N) + sp.eye(N, k=-1)\n",
    "K"
   ]
  },
  {
   "cell_type": "code",
   "execution_count": 9,
   "id": "4e934f04-94ec-4639-b65c-9f3d2c576c60",
   "metadata": {},
   "outputs": [
    {
     "data": {
      "text/plain": [
       "array([[-2.,  1.,  0.,  0.,  0.,  0.,  0.,  0.,  0.,  0.],\n",
       "       [ 1., -2.,  1.,  0.,  0.,  0.,  0.,  0.,  0.,  0.],\n",
       "       [ 0.,  1., -2.,  1.,  0.,  0.,  0.,  0.,  0.,  0.],\n",
       "       [ 0.,  0.,  1., -2.,  1.,  0.,  0.,  0.,  0.,  0.],\n",
       "       [ 0.,  0.,  0.,  1., -2.,  1.,  0.,  0.,  0.,  0.],\n",
       "       [ 0.,  0.,  0.,  0.,  1., -2.,  1.,  0.,  0.,  0.],\n",
       "       [ 0.,  0.,  0.,  0.,  0.,  1., -2.,  1.,  0.,  0.],\n",
       "       [ 0.,  0.,  0.,  0.,  0.,  0.,  1., -2.,  1.,  0.],\n",
       "       [ 0.,  0.,  0.,  0.,  0.,  0.,  0.,  1., -2.,  1.],\n",
       "       [ 0.,  0.,  0.,  0.,  0.,  0.,  0.,  0.,  1., -2.]])"
      ]
     },
     "execution_count": 9,
     "metadata": {},
     "output_type": "execute_result"
    }
   ],
   "source": [
    "# Preview of K\n",
    "K.toarray()"
   ]
  },
  {
   "cell_type": "markdown",
   "id": "0c280056-39d1-4efb-9456-76e5e04fc255",
   "metadata": {},
   "source": [
    "By default the resulting object is sparse matrix in the `CSR` format, but using the\n",
    "format argument, we can specify any other sparse matrix format. The value of the format\n",
    "argument should be a string such as 'csr', 'csc', 'lil', etc. All functions for creating\n",
    "sparse matrices in `sp.sparse` accept this argument. For example, in the previous\n",
    "example, we could have produced the same matrix using `sp.diags`, by specifying the\n",
    "pattern $[1, –2, 1]$ (the coefficients to the `sp.eye` functions in the previous expression),\n",
    "and the corresponding offsets from the main diagonal $[1, 0, –1]$. If we additionally\n",
    "want the resulting sparse matrix in `CSC` format, we can set `format='csc'`:"
   ]
  },
  {
   "cell_type": "code",
   "execution_count": 10,
   "id": "1b35293c-03f1-4db9-aa1a-5bff2aa71604",
   "metadata": {},
   "outputs": [
    {
     "data": {
      "text/plain": [
       "<10x10 sparse matrix of type '<class 'numpy.float64'>'\n",
       "\twith 28 stored elements in Compressed Sparse Column format>"
      ]
     },
     "execution_count": 10,
     "metadata": {},
     "output_type": "execute_result"
    }
   ],
   "source": [
    "K = sp.diags([1, -2, 1], [1, 0, -1], shape=[N, N], format='csc')\n",
    "\n",
    "K"
   ]
  },
  {
   "cell_type": "markdown",
   "id": "7885737d-cafb-49cb-8542-eec6eb323844",
   "metadata": {},
   "source": [
    "The advantages of using sparse matrix formats rather than dense matrices only\n",
    "manifest themselves when working with large matrices. Sparse matrices are by their\n",
    "nature therefore large, and hence it can be difficult to visualize a matrix by, for example,\n",
    "printing its elements in the terminal. `Matplotlib` provides the function `spy`, which is a\n",
    "useful tool for visualizing the structure of a sparse matrix. It is available as a function\n",
    "in pyplot module or as a method for `Axes` instances. When using it on the previously\n",
    "defined $K$ matrix, we obtain the results shown in Figure"
   ]
  },
  {
   "cell_type": "code",
   "execution_count": 11,
   "id": "f4389b31-bdee-4edf-9b4b-bdce1017e3eb",
   "metadata": {},
   "outputs": [
    {
     "data": {
      "text/plain": [
       "<matplotlib.lines.Line2D at 0x7f2a5f93e070>"
      ]
     },
     "execution_count": 11,
     "metadata": {},
     "output_type": "execute_result"
    },
    {
     "data": {
      "image/png": "[encoded data removed]",
      "text/plain": [
       "<Figure size 432x288 with 1 Axes>"
      ]
     },
     "metadata": {
      "needs_background": "light"
     },
     "output_type": "display_data"
    }
   ],
   "source": [
    "fig, ax = plt.subplots()\n",
    "ax.spy(K)"
   ]
  },
  {
   "cell_type": "markdown",
   "id": "c083c1cc-38bf-4767-a58f-0bf2ce74b5eb",
   "metadata": {},
   "source": [
    "> Structure of the sparse matrix with nonzero elements only on the two\n",
    "diagonals closest to the main diagonal and the main diagonal itself"
   ]
  },
  {
   "cell_type": "markdown",
   "id": "c34a195b-ffb7-4465-b834-3bbfe7a3a0d9",
   "metadata": {},
   "source": [
    "Sparse matrices are also often associated with tensor product spaces. For such\n",
    "cases we can use the `sp.kron` function to compose a sparse matrix from its smaller\n",
    "components. For example, to create a sparse matrix for the tensor product between $K$\n",
    "and the matrix\n",
    "\n",
    "$$\n",
    "X = \\begin{bmatrix}\n",
    "    0 & 1 & 0 \\\\\n",
    "    1 & 0 & 1 \\\\\n",
    "    0 & 1 & 0\n",
    "\\end{bmatrix}\n",
    "$$\n",
    "\n",
    "we can use `sp.kron(K, X)`"
   ]
  },
  {
   "cell_type": "code",
   "execution_count": 18,
   "id": "e6e1c855-9d79-4b06-8934-d069ba2b7583",
   "metadata": {},
   "outputs": [
    {
     "data": {
      "text/plain": [
       "<matplotlib.lines.Line2D at 0x7f2a5e826d30>"
      ]
     },
     "execution_count": 18,
     "metadata": {},
     "output_type": "execute_result"
    },
    {
     "data": {
      "image/png": "[encoded data removed]",
      "text/plain": [
       "<Figure size 864x288 with 3 Axes>"
      ]
     },
     "metadata": {
      "needs_background": "light"
     },
     "output_type": "display_data"
    }
   ],
   "source": [
    "X = sp.diags([1, 1], [-1, 1], shape=[3,3])\n",
    "\n",
    "Y = sp.kron(K, X)\n",
    "\n",
    "# Good pattern to use destructoring per every axis\n",
    "fig, (ax_K, ax_X, ax_Y) = plt.subplots(1, 3, figsize=(12, 4))\n",
    "\n",
    "# Visualize patterns\n",
    "ax_K.spy(K)\n",
    "ax_X.spy(X)\n",
    "ax_Y.spy(Y)"
   ]
  },
  {
   "cell_type": "markdown",
   "id": "dcda62bb-815a-423c-a79e-8d43bd81528a",
   "metadata": {},
   "source": [
    "> The sparse matrix structures of two matrices K (left) and X (middle)\n",
    "and their tensor product (right)"
   ]
  },
  {
   "cell_type": "markdown",
   "id": "33a2b284-f3e5-43da-87f9-04e50c24e7c4",
   "metadata": {},
   "source": [
    "# Sparse Linear Algebra Functions"
   ]
  },
  {
   "cell_type": "markdown",
   "id": "b2eb81eb-1f51-43ec-b779-34d48da4d42c",
   "metadata": {},
   "source": [
    "The main application of sparse matrices is to perform linear algebra operations on large\n",
    "matrices that are intractable or inefficient to treat using dense matrix representations.\n",
    "The SciPy sparse module contains a module `linalg` that implements many linear\n",
    "algebra routines. Not all linear algebra operations are suitable for sparse matrices, and in\n",
    "some cases the behavior of the sparse matrix version of operations needs to be modified\n",
    "compared to the dense counterparts. Consequently, there are a number of differences\n",
    "between the sparse linear algebra module `scipy.sparse.linalg` and the dense linear\n",
    "algebra module `scipy.linalg`. For example, the eigenvalue solvers for dense problems\n",
    "typically compute and return all eigenvalues and eigenvectors. For sparse matrices this\n",
    "is not manageable, because storing all eigenvectors of a sparse matrix $A$ of size N × N\n",
    "usually amounts to storing a dense matrix of size N × N. Instead, sparse eigenvalue\n",
    "solvers typically give a few eigenvalues and eigenvectors, for example, those with the\n",
    "smallest or largest eigenvalues. In general, for sparse matrix methods to be efficient,\n",
    "they must retain the sparsity of matrices involved in the computation. An example of an\n",
    "operation where the sparsity usually is not retained is the matrix inverse, and it should\n",
    "therefore be avoided when possible"
   ]
  },
  {
   "cell_type": "code",
   "execution_count": null,
   "id": "c6a6cc3c-4c5f-49cf-bfbb-0f324ea43cf5",
   "metadata": {},
   "outputs": [],
   "source": []
  }
 ],
 "metadata": {
  "kernelspec": {
   "display_name": "Python 3",
   "language": "python",
   "name": "python3"
  },
  "language_info": {
   "codemirror_mode": {
    "name": "ipython",
    "version": 3
   },
   "file_extension": ".py",
   "mimetype": "text/x-python",
   "name": "python",
   "nbconvert_exporter": "python",
   "pygments_lexer": "ipython3",
   "version": "3.8.12"
  }
 },
 "nbformat": 4,
 "nbformat_minor": 5
}
