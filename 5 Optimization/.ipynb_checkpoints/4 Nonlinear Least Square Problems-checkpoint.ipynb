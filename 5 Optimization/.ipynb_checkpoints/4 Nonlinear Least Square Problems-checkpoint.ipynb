{
 "cells": [
  {
   "cell_type": "markdown",
   "id": "4b993fa5-9b20-4a98-9fdd-fadf8845554e",
   "metadata": {},
   "source": [
    "# Nonlinear Least Square Problems"
   ]
  },
  {
   "cell_type": "code",
   "execution_count": 5,
   "id": "fae825c1-e27a-4dff-ab9f-d284c24886ad",
   "metadata": {},
   "outputs": [],
   "source": [
    "from scipy import optimize\n",
    "\n",
    "import matplotlib.pyplot as plt\n",
    "import numpy as np\n",
    "import sympy\n",
    "\n",
    "sympy.init_printing()"
   ]
  },
  {
   "cell_type": "markdown",
   "id": "abd0bd29-52c9-435b-9f2d-965be00754e6",
   "metadata": {},
   "source": [
    "### In general, a least square problem can be viewed as an optimization problem with the objective function\n",
    "\n",
    "$g(x)=\\sum_{i=0}^{m}r_i(\\beta^2)=\\|r_i(\\beta)\\|^2$"
   ]
  },
  {
   "cell_type": "markdown",
   "id": "cba0a0a5-7ebe-43dc-b81d-ef1fe8630e25",
   "metadata": {},
   "source": [
    "where $r(\\beta)$ is a vector with the residuals $r_i(\\beta) = y_i − f (x_i, \\beta)$ for a set of $m$ observations\n",
    "$(x_i, y_i)$"
   ]
  },
  {
   "cell_type": "markdown",
   "id": "6d210467-5152-47f3-8fc3-ae6db665de04",
   "metadata": {},
   "source": [
    "Here $β$ is a vector with unknown parameters that specifies the function $f (x, β)$. If this problem is nonlinear in the parameters $β$, it is known as a nonlinear least square problem, and since it is nonlinear, it cannot be solved with the linear algebra techniques"
   ]
  },
  {
   "cell_type": "markdown",
   "id": "0501777f-f521-45c8-a112-719262e4303e",
   "metadata": {},
   "source": [
    "Instead, we can use the multivariate optimization techniques described in the previous section, such as Newton’s method or a quasi-Newton method. However, this nonlinear least square optimization problem has a specific structure, and several methods that are tailored to solve this particular optimization problem have been developed. One example is the *Levenberg-Marquardt method*, which is based on the idea of successive linearizations of the problem in each iteration"
   ]
  },
  {
   "cell_type": "markdown",
   "id": "db840149-cc74-400d-8a87-dafd7602bd69",
   "metadata": {},
   "source": [
    "In SciPy, the function `optimize.leastsq` provides a nonlinear least square solver that uses the *Levenberg-Marquardt method*. To illustrate how this function can be used, consider a nonlinear model on the form $f (x, β) = β_0+β_1 exp (−β_2x^2)$ and a set of\n",
    "observations $(x_i, y_i)$"
   ]
  },
  {
   "cell_type": "code",
   "execution_count": 6,
   "id": "95bd6ea3-a3cf-4c48-9557-4dd970852670",
   "metadata": {},
   "outputs": [],
   "source": [
    "beta = (0.25, 0.75, 0.5)\n",
    "\n",
    "def f(x, b0, b1, b2):\n",
    "    return b0 + b1 * np.exp(-b2 * x**2)"
   ]
  },
  {
   "cell_type": "markdown",
   "id": "fdee93a6-9914-4ca2-a9ad-f307b667bf7d",
   "metadata": {},
   "source": [
    "> Once the model function is defined, we generate randomized data points that simulate the observations"
   ]
  },
  {
   "cell_type": "code",
   "execution_count": 7,
   "id": "d8796c74-b1fa-493b-ae36-b01af43cf6be",
   "metadata": {},
   "outputs": [],
   "source": [
    "# Generate linspace\n",
    "xdata = np.linspace(0, 5, 50)\n",
    "\n",
    "y = f(xdata, *beta)\n",
    "\n",
    "ydata = y + 0.05 * np.random.randn(len(xdata))"
   ]
  },
  {
   "cell_type": "markdown",
   "id": "c8f8c89e-73f6-45f6-9544-102b2ab5d068",
   "metadata": {},
   "source": [
    "With the model function and observation data prepared, we are ready to start solving the nonlinear least square problem. The first step is to define a function for the residuals given the data and the model function, which is specified in terms of the yet-to-be\n",
    "determined model parameters β"
   ]
  },
  {
   "cell_type": "code",
   "execution_count": 8,
   "id": "24a98128-68cb-4db8-8c2d-bb98f5e7b000",
   "metadata": {},
   "outputs": [],
   "source": [
    "def g(beta):\n",
    "    return ydata - f(xdata, *beta)"
   ]
  },
  {
   "cell_type": "markdown",
   "id": "6505cace-d1e5-4a46-b795-bc39c3242701",
   "metadata": {},
   "source": [
    "Next we define an initial guess for the parameter vector and let the `optimize.leastsq` function solve for the best least square fit for the parameter vector"
   ]
  },
  {
   "cell_type": "code",
   "execution_count": 9,
   "id": "aaa545aa-d38e-4288-b59d-f68fd31b4d7d",
   "metadata": {},
   "outputs": [
    {
     "data": {
      "text/plain": [
       "array([0.27321195, 0.76060009, 0.55083316])"
      ]
     },
     "execution_count": 9,
     "metadata": {},
     "output_type": "execute_result"
    }
   ],
   "source": [
    "beta_start = (1, 1, 1)\n",
    "\n",
    "beta_opt, beta_cov = optimize.leastsq(g, beta_start)\n",
    "beta_opt"
   ]
  },
  {
   "cell_type": "markdown",
   "id": "303b51da-cde0-40ac-959e-cc320f7d6bbd",
   "metadata": {},
   "source": [
    "Here the best fit is quite close to the true parameter values `(0.25, 0.75, 0.5)`, as defined earlier. By plotting the observation data and the model function for the true and fitted function parameters, we can visually confirm that the fitted model seems to describe the data well"
   ]
  },
  {
   "cell_type": "code",
   "execution_count": null,
   "id": "106dcf80-70f4-4d67-a974-4dbeb3aec3f9",
   "metadata": {},
   "outputs": [],
   "source": [
    "fig, ax = plt.subplots()\n",
    "ax.scatter(xdata, ydata, label='samples')\n",
    "\n",
    "ax.plot(xdata, y, 'r', lw=2, label='true model')\n",
    "ax.plot(xdata, f(xdata, *beta_opt), 'b', lw=2, label='fitted model')\n",
    "\n",
    "ax.set_xlim(0, 5)\n",
    "ax.set_xlabel(r\"$x$\", fontsize=18)\n",
    "ax.set_ylabel(r\"$f(x, \\beta)$\", fontsize=18)\n",
    "ax.legend()"
   ]
  }
 ],
 "metadata": {
  "kernelspec": {
   "display_name": "Python 3 (ipykernel)",
   "language": "python",
   "name": "python3"
  },
  "language_info": {
   "codemirror_mode": {
    "name": "ipython",
    "version": 3
   },
   "file_extension": ".py",
   "mimetype": "text/x-python",
   "name": "python",
   "nbconvert_exporter": "python",
   "pygments_lexer": "ipython3",
   "version": "3.8.12"
  }
 },
 "nbformat": 4,
 "nbformat_minor": 5
}
