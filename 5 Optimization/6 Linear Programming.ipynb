{
 "cells": [
  {
   "cell_type": "markdown",
   "id": "2056c218-39a9-44f7-827d-848cc5b5e8c6",
   "metadata": {},
   "source": [
    "# Linear Programming"
   ]
  },
  {
   "cell_type": "code",
   "execution_count": 1,
   "id": "b6b3d8fb-d445-4d2b-a3ed-18a892cba975",
   "metadata": {},
   "outputs": [],
   "source": [
    "from scipy import optimize\n",
    "\n",
    "import matplotlib.pyplot as plt\n",
    "import numpy as np\n",
    "import sympy\n",
    "\n",
    "sympy.init_printing()\n",
    "\n",
    "# Installation instructions https://cvxopt.org/install/#installing-a-pre-built-package\n",
    "# conda install -c conda-forge cvxopt\n",
    "import cvxopt"
   ]
  },
  {
   "cell_type": "markdown",
   "id": "d4632699-bf0c-496a-9d1f-c4c5b98c8e55",
   "metadata": {},
   "source": [
    "Linear programming problems are typically written in the so-called standard form:\n",
    "\n",
    "$min_x c^T x$ where $Ax ≤ b$ and $x ≥ 0$. Here $c$ and $x$ are vectors of length $n$, and $A$ is a $m × n$ matrix and $b$ a $m$-vector"
   ]
  },
  {
   "cell_type": "markdown",
   "id": "9f1d9d48-c117-413e-bca7-7e9fd5a8272a",
   "metadata": {},
   "source": [
    "For example, consider the problem of minimizing the function: \n",
    "\n",
    "$f(x) = −x_0+2x_1 − 3x_2$\n",
    "\n",
    "subject to the three inequality constraints $x_0+x_1 ≤ 1$, $−x_0+3x_1 ≤ 2$, and $−x_1+x_2 ≤ 3$\n",
    "\n",
    "On the standard form, we have $c = (−1, 2, −3)$, $b = (1, 2, 3)$, and \n",
    "\n",
    "$$A=\\begin{bmatrix}\n",
    "   1 &  1 & 0 \\\\\n",
    "  -1 &  3 & 0 \\\\\n",
    "   0 & -1 & 1\n",
    " \\end{bmatrix}$$"
   ]
  },
  {
   "cell_type": "markdown",
   "id": "9260b6a8-32be-4fc7-b582-cb73d532bf88",
   "metadata": {},
   "source": [
    "To solve this problem, here we use the `cvxopt` library *(convex optimization)*, which provides the linear programming solver with the `cvxopt.solvers.lp` function. \n",
    "\n",
    "This solver expects as arguments the $c$, $A$, and $b$ vectors and matrix used in the standard form introduced in the preceding text, in the given order. The `cvxopt` library uses its own classes for representing matrices and vectors, but fortunately they are interoperable with NumPy arrays via the array interface and can therefore be cast from one form to another using the `cvxopt.matrix` and `np.array` functions. Since NumPy array is the de facto standard array format in the scientific Python environment, it is sensible to use NumPy array as far as possible and only convert to cvxopt matrices when necessary, i.e., before calling one\n",
    "of the solvers in `cvxopt.solvers`."
   ]
  },
  {
   "cell_type": "code",
   "execution_count": 2,
   "id": "86d1391b-9c21-4c44-9c5a-ee7ef4ad4f12",
   "metadata": {},
   "outputs": [
    {
     "data": {
      "text/plain": [
       "(array([-1.,  2., -3.]),\n",
       " array([[ 1.,  1.,  0.],\n",
       "        [-1.,  3.,  0.],\n",
       "        [ 0., -1.,  1.]]))"
      ]
     },
     "execution_count": 2,
     "metadata": {},
     "output_type": "execute_result"
    }
   ],
   "source": [
    "c = np.array([-1.0, 2.0, -3.0])\n",
    "A = np.array([[1.0, 1.0, 0.0],\n",
    "    [-1.0, 3.0, 0.0],\n",
    "    [0.0, -1.0, 1.0]])\n",
    "c, A"
   ]
  },
  {
   "cell_type": "code",
   "execution_count": 3,
   "id": "b17388b7-09c6-4af4-b2d3-057a32613935",
   "metadata": {},
   "outputs": [],
   "source": [
    "b = np.array([1.0, 2.0, 3.0])\n",
    "A_ = cvxopt.matrix(A)\n",
    "b_ = cvxopt.matrix(b)\n",
    "c_ = cvxopt.matrix(c)"
   ]
  },
  {
   "cell_type": "markdown",
   "id": "7247f8bd-f73f-4dd7-9886-e5a84834e3ec",
   "metadata": {},
   "source": [
    "The `cvxopt` compatible matrices and vectors `c_`, `A_`, and `b_` can now be passed to the linear programming solver `cvxopt.solvers.lp`"
   ]
  },
  {
   "cell_type": "code",
   "execution_count": 4,
   "id": "408fa267-8b8a-4f0b-8c13-26874d730887",
   "metadata": {},
   "outputs": [
    {
     "name": "stdout",
     "output_type": "stream",
     "text": [
      "Optimal solution found.\n"
     ]
    },
    {
     "data": {
      "text/plain": [
       "{'x': <3x1 matrix, tc='d'>,\n",
       " 'y': <0x1 matrix, tc='d'>,\n",
       " 's': <3x1 matrix, tc='d'>,\n",
       " 'z': <3x1 matrix, tc='d'>,\n",
       " 'status': 'optimal',\n",
       " 'gap': 0.0,\n",
       " 'relative gap': 0.0,\n",
       " 'primal objective': -10.0,\n",
       " 'dual objective': -10.0,\n",
       " 'primal infeasibility': 0.0,\n",
       " 'primal slack': -0.0,\n",
       " 'dual slack': 2.7755575615628914e-17,\n",
       " 'dual infeasibility': 2.967195843610875e-17,\n",
       " 'residual as primal infeasibility certificate': None,\n",
       " 'residual as dual infeasibility certificate': None,\n",
       " 'iterations': 0}"
      ]
     },
     "execution_count": 4,
     "metadata": {},
     "output_type": "execute_result"
    }
   ],
   "source": [
    "sol = cvxopt.solvers.lp(c_, A_, b_)\n",
    "sol"
   ]
  },
  {
   "cell_type": "code",
   "execution_count": 5,
   "id": "7b9257dd-7b63-4e1d-8a69-888dd764b571",
   "metadata": {},
   "outputs": [
    {
     "data": {
      "text/plain": [
       "array([[0.25],\n",
       "       [0.75],\n",
       "       [3.75]])"
      ]
     },
     "execution_count": 5,
     "metadata": {},
     "output_type": "execute_result"
    }
   ],
   "source": [
    "x = np.array(sol['x'])\n",
    "x"
   ]
  },
  {
   "cell_type": "code",
   "execution_count": 6,
   "id": "8f644d41-9754-4dd2-ae6e-9875106be6c4",
   "metadata": {},
   "outputs": [
    {
     "data": {
      "image/png": "[encoded data removed]",
      "text/latex": [
       "$\\displaystyle -10.0$"
      ],
      "text/plain": [
       "-10.0"
      ]
     },
     "execution_count": 6,
     "metadata": {},
     "output_type": "execute_result"
    }
   ],
   "source": [
    "sol['primal objective']"
   ]
  },
  {
   "cell_type": "code",
   "execution_count": null,
   "id": "bc6b5d68-b5bd-4936-a895-e9edf66d5257",
   "metadata": {},
   "outputs": [],
   "source": []
  }
 ],
 "metadata": {
  "kernelspec": {
   "display_name": "Python 3 (ipykernel)",
   "language": "python",
   "name": "python3"
  },
  "language_info": {
   "codemirror_mode": {
    "name": "ipython",
    "version": 3
   },
   "file_extension": ".py",
   "mimetype": "text/x-python",
   "name": "python",
   "nbconvert_exporter": "python",
   "pygments_lexer": "ipython3",
   "version": "3.8.12"
  }
 },
 "nbformat": 4,
 "nbformat_minor": 5
}
